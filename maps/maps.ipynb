{
 "cells": [
  {
   "cell_type": "markdown",
   "metadata": {
    "slideshow": {
     "slide_type": "slide"
    }
   },
   "source": [
    "# Making maps\r\n",
    "\r\n",
    "![all the suburbs in sydney](all_burbs.png)\r\n",
    "\r\n",
    "We're going to get some shapefiles from data.gov.au, and then we're going to draw some maps\r\n",
    "\r\n",
    "---\r\n",
    "\r\n",
    "You'll need some prequisite libraries.\r\n",
    "\r\n",
    "If you're on a mac, it's easy, just do this:\r\n",
    "```\r\n",
    "pip install pandas shapely fiona descartes pyproj \r\n",
    "pip install geopandas\r\n",
    "```\r\n",
    "You may have some already but pip will be cool with that."
   ]
  },
  {
   "cell_type": "markdown",
   "metadata": {
    "slideshow": {
     "slide_type": "subslide"
    }
   },
   "source": [
    "If you are on windows, geopandas might not install properly, in which case, do this:\r\n",
    "\r\n",
    "```\r\n",
    "pip install wheel\r\n",
    "pip install pipwin\r\n",
    "pipwin install numpy\r\n",
    "pipwin install pandas\r\n",
    "pipwin install shapely\r\n",
    "pipwin install gdal\r\n",
    "pipwin install fiona\r\n",
    "pipwin install pyproj\r\n",
    "pipwin install six\r\n",
    "pipwin install rtree\r\n",
    "pipwin install descartes\r\n",
    "pipwin install geopandas\r\n",
    "```\r\n",
    "\r\n",
    "Just copy that whole lot into your terminal and it'll sort it out."
   ]
  },
  {
   "cell_type": "markdown",
   "metadata": {
    "slideshow": {
     "slide_type": "slide"
    }
   },
   "source": [
    "We're going to get a shapefile of suburb boundaries from here:\r\n",
    "\r\n",
    "https://data.gov.au/dataset/ds-dga-91e70237-d9d1-4719-a82f-e71b811154c6/details"
   ]
  },
  {
   "cell_type": "code",
   "execution_count": null,
   "metadata": {},
   "outputs": [],
   "source": [
    "import os\r\n",
    "import geopandas as gp\r\n",
    "import shapely\r\n",
    "import fiona\r\n",
    "import matplotlib\r\n",
    "import matplotlib.pyplot as plt\r\n",
    "import numpy as np\r\n",
    "import pandas as pd\r\n",
    "\r\n",
    "\r\n",
    "shp_file_name = \"NSW_LOCALITY_POLYGON_shp/NSW_LOCALITY_POLYGON_shp.shp\"\r\n",
    "zip_file_name = \"nsw_locality_polygon_shp.zip\"\r\n",
    "web_file_path = (\r\n",
    "    \"https://data.gov.au/data/dataset/\"\r\n",
    "    \"91e70237-d9d1-4719-a82f-e71b811154c6/resource/\"\r\n",
    "    \"5e295412-357c-49a2-98d5-6caf099c2339/download/\"\r\n",
    "    \"nsw_locality_polygon_shp.zip\"\r\n",
    ")\r\n"
   ]
  },
  {
   "cell_type": "code",
   "execution_count": null,
   "metadata": {
    "slideshow": {
     "slide_type": "skip"
    }
   },
   "outputs": [],
   "source": [
    "%matplotlib inline\r\n",
    "plt.rcParams['figure.figsize'] = (20, 10)"
   ]
  },
  {
   "cell_type": "markdown",
   "metadata": {
    "slideshow": {
     "slide_type": "slide"
    }
   },
   "source": [
    "To get a load of shape files from data.gov.au, more specifically, [here](https://data.gov.au/dataset/nsw-suburb-locality-boundaries-psma-administrative-boundaries/resource/bf8b5180-fcea-44bd-bd76-af14cc4b0fe0)"
   ]
  },
  {
   "cell_type": "code",
   "execution_count": null,
   "metadata": {},
   "outputs": [],
   "source": [
    "def unzip_zipfile(zipped_file_path, put_it_here=\".\"):\r\n",
    "    import zipfile\r\n",
    "    zip_of_suburbs = zipfile.ZipFile(zipped_file_path, 'r')\r\n",
    "    zip_of_suburbs.extractall(put_it_here)\r\n",
    "    zip_of_suburbs.close()"
   ]
  },
  {
   "cell_type": "code",
   "execution_count": null,
   "metadata": {
    "tags": []
   },
   "outputs": [],
   "source": [
    "# Get the data loaded. This is a bit complicated because it's online as a zip file.\r\n",
    "# If we don't have it right now, we need to get it and unzip it.\r\n",
    "if os.path.isfile(shp_file_name):\r\n",
    "    print(\"loading from file\")\r\n",
    "else:\r\n",
    "    if os.path.isfile(zip_file_name):\r\n",
    "        print(\"unzipping\")\r\n",
    "        unzip_zipfile(zip_file_name)\r\n",
    "    else:\r\n",
    "        import requests\r\n",
    "        print(\"loading from the internet\")\r\n",
    "        page = requests.get(web_file_path)\r\n",
    "        with open(zip_file_name, 'wb') as z:\r\n",
    "            z.write(page.content)\r\n",
    "        unzip_zipfile(zip_file_name)\r\n",
    "\r\n",
    "print(\"done\")"
   ]
  },
  {
   "cell_type": "markdown",
   "metadata": {
    "slideshow": {
     "slide_type": "slide"
    }
   },
   "source": [
    "#### Shapefiles are the format that a lot of GIS tools use.\r\n",
    "\r\n",
    "#### GIS means Geographic Information System\r\n",
    "\r\n",
    "pronounced: _gee eye ess_\r\n",
    "\r\n",
    "not pronounced: _jizz_"
   ]
  },
  {
   "cell_type": "code",
   "execution_count": null,
   "metadata": {},
   "outputs": [],
   "source": [
    "burbs = gp.GeoDataFrame.from_file(shp_file_name)\r\n",
    "burbs.set_crs(epsg=8021, inplace=True, allow_override=True) \r\n",
    "# https://epsg.io/8021\r\n",
    "# GDA2020 is the latest and least wrong coord set for Sydney\r\n",
    "burbs.sample(2)"
   ]
  },
  {
   "cell_type": "markdown",
   "metadata": {},
   "source": [
    "There are a bunch of junk columns in there. Normally I'd leave them in, but because we're going to be looking are this data in dataframes, I'll take them out so that it's easier on the eyes."
   ]
  },
  {
   "cell_type": "code",
   "execution_count": null,
   "metadata": {
    "slideshow": {
     "slide_type": "slide"
    }
   },
   "outputs": [],
   "source": [
    "cols_to_drop = [\r\n",
    "    \"NSW_LOCA_1\",\r\n",
    "    \"NSW_LOCA_3\",\r\n",
    "    \"NSW_LOCA_4\",\r\n",
    "    \"NSW_LOCA_5\",\r\n",
    "    \"NSW_LOCA_6\",\r\n",
    "    \"NSW_LOCA_7\",\r\n",
    "    \"DT_RETIRE\",\r\n",
    "]\r\n",
    "burbs.drop(cols_to_drop, axis=1, inplace=True, errors=\"ignore\")\r\n",
    "burbs.head(2)\r\n"
   ]
  },
  {
   "cell_type": "markdown",
   "metadata": {},
   "source": [
    "Only uncomment this if you've got a fast computer and a lot of time!\r\n",
    "\r\n",
    "It makes the map at the top of this file."
   ]
  },
  {
   "cell_type": "code",
   "execution_count": null,
   "metadata": {
    "slideshow": {
     "slide_type": "fragment"
    }
   },
   "outputs": [],
   "source": [
    "# burbs.geometry.plot()"
   ]
  },
  {
   "cell_type": "markdown",
   "metadata": {},
   "source": [
    "Let's pull out a single row, a single suburb, and look at it."
   ]
  },
  {
   "cell_type": "code",
   "execution_count": null,
   "metadata": {
    "slideshow": {
     "slide_type": "slide"
    },
    "tags": []
   },
   "outputs": [],
   "source": [
    "a = burbs.iloc[0]\r\n",
    "print(a)\r\n",
    "a.geometry"
   ]
  },
  {
   "cell_type": "markdown",
   "metadata": {},
   "source": [
    "When we plot a geopandas polygon\\* it actually draws it, rather than showing the textual information, which is nice.\r\n",
    "\r\n",
    "\\* it's acutally a Shapely polygon I think.\r\n",
    "\r\n",
    "---\r\n",
    "\r\n",
    "If we want to measure some distances, we need _points_. The distance between two shapes is ambiguous.\r\n",
    "\r\n",
    "The easiest way to do this is to get the centroid of the polygon."
   ]
  },
  {
   "cell_type": "code",
   "execution_count": null,
   "metadata": {
    "slideshow": {
     "slide_type": "slide"
    }
   },
   "outputs": [],
   "source": [
    "def add_centroid(row):\r\n",
    "    return row.geometry.centroid\r\n",
    "\r\n",
    "burbs[\"centroid\"] = burbs.apply(add_centroid, axis=1)\r\n",
    "\r\n",
    "burbs.sample(2)"
   ]
  },
  {
   "cell_type": "markdown",
   "metadata": {},
   "source": [
    "And we can plot this nicely as a map. Note that this is different to doing a `scatter` of lat and long because it's aware that they're spatially related; no squishing."
   ]
  },
  {
   "cell_type": "code",
   "execution_count": null,
   "metadata": {},
   "outputs": [],
   "source": [
    "burbs.centroid.plot()"
   ]
  },
  {
   "cell_type": "code",
   "execution_count": null,
   "metadata": {},
   "outputs": [],
   "source": [
    "burbs[\"lat\"] = burbs.centroid.apply(lambda p: p.x)\r\n",
    "idx = burbs.lat.idxmax()\r\n",
    "burbs.loc[idx]"
   ]
  },
  {
   "cell_type": "code",
   "execution_count": null,
   "metadata": {
    "slideshow": {
     "slide_type": "fragment"
    },
    "tags": []
   },
   "outputs": [],
   "source": [
    "a = burbs.iloc[0]\r\n",
    "print(a.centroid)\r\n",
    "a.centroid"
   ]
  },
  {
   "cell_type": "markdown",
   "metadata": {},
   "source": [
    "Let's make a new point that's on the UNSW campus. We need to use shapely to do this.\r\n",
    "\r\n",
    "Then calculate the distance from that point to the centroid of each suburb."
   ]
  },
  {
   "cell_type": "code",
   "execution_count": null,
   "metadata": {
    "slideshow": {
     "slide_type": "fragment"
    }
   },
   "outputs": [],
   "source": [
    "right_here = shapely.geometry.point.Point(151.2299732, -33.9178754)\r\n",
    "burbs[\"distance_from_UNSW\"] = burbs.centroid.distance(right_here)"
   ]
  },
  {
   "cell_type": "code",
   "execution_count": null,
   "metadata": {
    "slideshow": {
     "slide_type": "slide"
    }
   },
   "outputs": [],
   "source": [
    "burbs.distance_from_UNSW.hist(bins=200)\r\n",
    "plt.title(\"Distribution of distances from UNSW\");"
   ]
  },
  {
   "cell_type": "markdown",
   "metadata": {},
   "source": [
    "This gives distance in whole numbers of lat long I think, i.e. degrees!"
   ]
  },
  {
   "cell_type": "markdown",
   "metadata": {
    "slideshow": {
     "slide_type": "slide"
    }
   },
   "source": [
    "Not really sure what to do with that, but let's get rid of everything above 0.2 and see what we can plot:"
   ]
  },
  {
   "cell_type": "code",
   "execution_count": null,
   "metadata": {},
   "outputs": [],
   "source": [
    "close_burbs = burbs[burbs.distance_from_UNSW < 0.05]\r\n",
    "close_burbs.plot();"
   ]
  },
  {
   "cell_type": "markdown",
   "metadata": {},
   "source": [
    "We can simplify shapes in a few ways:"
   ]
  },
  {
   "cell_type": "code",
   "execution_count": null,
   "metadata": {
    "slideshow": {
     "slide_type": "slide"
    }
   },
   "outputs": [],
   "source": [
    "close_burbs.geometry.convex_hull.plot();"
   ]
  },
  {
   "cell_type": "code",
   "execution_count": null,
   "metadata": {
    "slideshow": {
     "slide_type": "slide"
    }
   },
   "outputs": [],
   "source": [
    "close_burbs.geometry.envelope.plot();"
   ]
  },
  {
   "cell_type": "markdown",
   "metadata": {
    "slideshow": {
     "slide_type": "slide"
    }
   },
   "source": [
    "![](http://www.personal.kent.edu/~rmuhamma/Compgeometry/MyCG/Gifs-CompGeometry/ch2.gif)\r\n",
    "\r\n",
    "Convex hulls are a useful aproximation if you want to do fast calculations.\r\n",
    "\r\n",
    "You can use this to speed up calculations sometimes. It goes radius, bounding box, convex hull, complex polygon. I.e. if the points are not within radius_1 + radius_2 of each other, there's no point doing any other checks.\r\n",
    "\r\n",
    "Often it's faster to do all of these checks in order, flowing from one to the next, than it is to just go straight to the most complex. But that depends on how much effort you can be bothered to put in."
   ]
  },
  {
   "cell_type": "markdown",
   "metadata": {
    "slideshow": {
     "slide_type": "slide"
    }
   },
   "source": [
    "What about putting labels on the map?"
   ]
  },
  {
   "cell_type": "code",
   "execution_count": null,
   "metadata": {
    "tags": []
   },
   "outputs": [],
   "source": [
    "really_close_burbs = burbs[burbs.distance_from_UNSW < 0.03]\r\n",
    "really_close_burbs.plot()\r\n",
    "\r\n",
    "for idx, row in really_close_burbs.iterrows():\r\n",
    "#     print(idx, row)\r\n",
    "#     print(\"annotation\", row.NSW_LOCA_2)\r\n",
    "#     print(\"coords\", row.centroid.coords, \r\n",
    "#           \"tup\", tuple(row.centroid.coords), \r\n",
    "#           \"zero\", tuple(row.centroid.coords)[0])\r\n",
    "    plt.annotate(text=row.NSW_LOCA_2, \r\n",
    "                 xy=tuple(row.centroid.coords)[0],\r\n",
    "                 xycoords=\"data\",\r\n",
    "                 horizontalalignment='center')\r\n",
    "plt.title(\"Some pretty dodgy suburb names on a map\");"
   ]
  },
  {
   "cell_type": "markdown",
   "metadata": {
    "slideshow": {
     "slide_type": "slide"
    }
   },
   "source": [
    "We often want to be able to tell if a point is in a suburb or not. We'd do that with a polygon inclusion test.\r\n",
    "\r\n",
    "![](http://www.geeksforgeeks.org/wp-content/uploads/polygon31.png)\r\n",
    "\r\n",
    "[How to check if a given point lies inside or outside a polygon?](http://www.geeksforgeeks.org/how-to-check-if-a-given-point-lies-inside-a-polygon/)\r\n",
    "\r\n",
    "Luckily we've got one built in!"
   ]
  },
  {
   "cell_type": "code",
   "execution_count": null,
   "metadata": {
    "slideshow": {
     "slide_type": "-"
    },
    "tags": []
   },
   "outputs": [],
   "source": [
    "print(right_here)\r\n",
    "in_this_burb = None\r\n",
    "for _, row in really_close_burbs.iterrows():\r\n",
    "    if right_here.within(row.geometry):\r\n",
    "        in_this_burb = row\r\n",
    "        \r\n",
    "in_this_burb"
   ]
  },
  {
   "cell_type": "markdown",
   "metadata": {
    "slideshow": {
     "slide_type": "slide"
    }
   },
   "source": [
    "This might actually be a case where a `lambda` is a good idea:"
   ]
  },
  {
   "cell_type": "code",
   "execution_count": null,
   "metadata": {
    "slideshow": {
     "slide_type": "-"
    }
   },
   "outputs": [],
   "source": [
    "in_this_burb = really_close_burbs[really_close_burbs.geometry.apply(lambda x: right_here.within(x))]\r\n",
    "in_this_burb"
   ]
  },
  {
   "cell_type": "markdown",
   "metadata": {},
   "source": [
    "This is useful if you need to get the suburb name of some points. You'd check each point to see if it's in each suburb, and if it is, you've got it. Careful though, that's a O(n²) job."
   ]
  },
  {
   "cell_type": "markdown",
   "metadata": {
    "slideshow": {
     "slide_type": "slide"
    }
   },
   "source": [
    "How about colouring suburbs according to some kind of scalar value?\r\n",
    "\r\n",
    "[That's called a _chloropleth_](http://geopandas.readthedocs.io/en/latest/mapping.html?highlight=color#chloropleth-maps)"
   ]
  },
  {
   "cell_type": "code",
   "execution_count": null,
   "metadata": {},
   "outputs": [],
   "source": [
    "really_close_burbs.plot(column='distance_from_UNSW', cmap='cool', legend=True);"
   ]
  },
  {
   "cell_type": "markdown",
   "metadata": {},
   "source": [
    "I don't think that could be any easier!\r\n",
    "\r\n",
    "You can see the list of [colour scale options here](http://matplotlib.org/users/colormaps.html)\r\n",
    "\r\n",
    "What if you want to put some points onto the map? In this case we'll plot the centroids, but you can plot any points because they are using geographic coordinates."
   ]
  },
  {
   "cell_type": "code",
   "execution_count": null,
   "metadata": {},
   "outputs": [],
   "source": [
    "ax = really_close_burbs.plot(column='distance_from_UNSW', cmap='cool', legend=True)\r\n",
    "really_close_burbs.centroid.plot(ax=ax)"
   ]
  },
  {
   "cell_type": "markdown",
   "metadata": {
    "slideshow": {
     "slide_type": "slide"
    }
   },
   "source": [
    "## Handy links\r\n",
    "\r\n",
    "* [Geopandas docs](http://geopandas.readthedocs.io)\r\n",
    "* [Geopandas on GitHib](https://github.com/geopandas/geopandas)\r\n",
    "* [Another map making tutorial](http://sensitivecities.com/so-youd-like-to-make-a-map-using-python-EN.html)\r\n",
    "* [MatPlotLib colour scale options](http://matplotlib.org/users/colormaps.html)\r\n",
    "\r\n",
    "I'd love to hear if you come across any other useful things!"
   ]
  }
 ],
 "metadata": {
  "celltoolbar": "Slideshow",
  "kernelspec": {
   "display_name": "Python 3",
   "language": "python",
   "name": "python3"
  },
  "language_info": {
   "codemirror_mode": {
    "name": "ipython",
    "version": 3
   },
   "file_extension": ".py",
   "mimetype": "text/x-python",
   "name": "python",
   "nbconvert_exporter": "python",
   "pygments_lexer": "ipython3",
   "version": "3.6.5"
  },
  "toc": {
   "colors": {
    "hover_highlight": "#DAA520",
    "navigate_num": "#000000",
    "navigate_text": "#333333",
    "running_highlight": "#FF0000",
    "selected_highlight": "#FFD700",
    "sidebar_border": "#EEEEEE",
    "wrapper_background": "#FFFFFF"
   },
   "moveMenuLeft": true,
   "nav_menu": {
    "height": "99px",
    "width": "252px"
   },
   "navigate_menu": true,
   "number_sections": true,
   "sideBar": true,
   "threshold": 4,
   "toc_cell": false,
   "toc_section_display": "block",
   "toc_window_display": false,
   "widenNotebook": false
  }
 },
 "nbformat": 4,
 "nbformat_minor": 1
}
