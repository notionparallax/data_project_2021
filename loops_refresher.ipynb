{
 "cells": [
  {
   "cell_type": "markdown",
   "metadata": {},
   "source": [
    "# Loops!\r\n",
    "\r\n",
    "We've seen all or almost all of this before, but here it is, all in one place!\r\n",
    "\r\n",
    "---\r\n",
    "\r\n",
    "## For Loops\r\n",
    "\r\n",
    "If we want to print the numbers from 0–9, we can use a for loop that's looking at a range:"
   ]
  },
  {
   "cell_type": "code",
   "execution_count": null,
   "metadata": {},
   "outputs": [],
   "source": [
    "for i in range(10):\r\n",
    "    print(i)"
   ]
  },
  {
   "cell_type": "markdown",
   "metadata": {},
   "source": [
    "Or, even simpler, we can loop through the items in a list:"
   ]
  },
  {
   "cell_type": "code",
   "execution_count": null,
   "metadata": {},
   "outputs": [],
   "source": [
    "names = [\"RM\", \"Jin\", \"SUGA\", \"j-hope\", \"Jimin\", \"V\", \"Jung Kook\"]\r\n",
    "for name in names:\r\n",
    "    print(name)\r\n"
   ]
  },
  {
   "cell_type": "markdown",
   "metadata": {},
   "source": [
    "If we want to get the lengths of those strings, we can rely our trusty loop & append pattern:"
   ]
  },
  {
   "cell_type": "code",
   "execution_count": null,
   "metadata": {},
   "outputs": [],
   "source": [
    "lengths = []\r\n",
    "for name in names:\r\n",
    "    lengths.append(len(name))\r\n",
    "print(lengths)\r\n"
   ]
  },
  {
   "cell_type": "markdown",
   "metadata": {},
   "source": [
    "But we do that so often that we could also use a list comprehension:"
   ]
  },
  {
   "cell_type": "code",
   "execution_count": null,
   "metadata": {},
   "outputs": [],
   "source": [
    "lengths = [len(name) for name in names]\r\n",
    "print(lengths)"
   ]
  },
  {
   "cell_type": "markdown",
   "metadata": {},
   "source": [
    "## While Loops\r\n",
    "\r\n",
    "Sometimes we need to do something a bit more freeform. While loops do everything and more that a for loop can do, but we need to make a bit more of our own infrastructure:"
   ]
  },
  {
   "cell_type": "code",
   "execution_count": null,
   "metadata": {},
   "outputs": [],
   "source": [
    "counter = 0\r\n",
    "while counter < 5:\r\n",
    "    print(counter)\r\n",
    "    counter += 1\r\n"
   ]
  },
  {
   "cell_type": "markdown",
   "metadata": {},
   "source": [
    "While loops are a bit risky because they're not guaranteed to stop. For example, this is flipping a coin, and will stop as soon as it gets a head. However, if it never gets a head, it'll run forever.\r\n",
    "\r\n",
    "In cases like that, we add a guard condition to stop it in case our main condition never happens."
   ]
  },
  {
   "cell_type": "code",
   "execution_count": null,
   "metadata": {},
   "outputs": [],
   "source": [
    "import random\r\n",
    "\r\n",
    "guard = 0\r\n",
    "coin = \"tails\"\r\n",
    "while coin == \"tails\" and guard < 10:\r\n",
    "    coin = random.sample([\"heads\", \"tails\"], 1)[0]\r\n",
    "    print(coin, guard)\r\n",
    "    guard += 1\r\n"
   ]
  },
  {
   "cell_type": "markdown",
   "metadata": {},
   "source": [
    "We can nest loops inside each other, and mix up the types too.\r\n",
    "\r\n",
    "If a for loop isn't ever going to use its variable, then it's convention to call it `_`"
   ]
  },
  {
   "cell_type": "code",
   "execution_count": null,
   "metadata": {},
   "outputs": [],
   "source": [
    "for _ in range(5):\r\n",
    "    print()\r\n",
    "    guard = 0\r\n",
    "    coin = \"tails\"\r\n",
    "    while coin == \"tails\" and guard < 10:\r\n",
    "        coin = random.sample([\"heads\", \"tails\"], 1)[0]\r\n",
    "        print(coin, guard)\r\n",
    "        guard += 1"
   ]
  },
  {
   "cell_type": "markdown",
   "metadata": {},
   "source": [
    "## Unpacking\r\n",
    "\r\n",
    "A little tangent here. Python lets you do _unpacking assignment_ from tupels.\r\n",
    "\r\n",
    "We've got three things on the right, and 3 variable names on the left. Python unpacks the tupel into the corresponding variable names."
   ]
  },
  {
   "cell_type": "code",
   "execution_count": null,
   "metadata": {},
   "outputs": [],
   "source": [
    "# Unpacking:\r\n",
    "a, b, c = (\"🤯\", \"🍰\", \"🍊\")\r\n",
    "print(a)\r\n",
    "print(b)\r\n",
    "print(c)\r\n"
   ]
  },
  {
   "cell_type": "markdown",
   "metadata": {},
   "source": [
    "# Enumerate\r\n",
    "\r\n",
    "Enumerate makes a tupel of a number and the value. This is useful when you need to know what the value is, but also what the number is. It's a lot neater than doing:\r\n",
    "\r\n",
    "```python\r\n",
    "for i in range(len(names)):\r\n",
    "    print(i, names[i])\r\n",
    "```\r\n"
   ]
  },
  {
   "cell_type": "code",
   "execution_count": null,
   "metadata": {},
   "outputs": [],
   "source": [
    "for name in enumerate(names):\r\n",
    "    print(name)\r\n"
   ]
  },
  {
   "cell_type": "markdown",
   "metadata": {},
   "source": [
    "But what's cool here is that we can unpack in the loop statement:"
   ]
  },
  {
   "cell_type": "code",
   "execution_count": null,
   "metadata": {},
   "outputs": [],
   "source": [
    "for i, name in enumerate(names):\r\n",
    "    print(name, len(name), i * 5)\r\n"
   ]
  },
  {
   "cell_type": "markdown",
   "metadata": {},
   "source": [
    "## the way of the pandas loops 🐼🔁\r\n",
    "\r\n",
    "Lets work with this data:"
   ]
  },
  {
   "cell_type": "code",
   "execution_count": null,
   "metadata": {},
   "outputs": [],
   "source": [
    "import pandas as pd\r\n",
    "\r\n",
    "bts=[\r\n",
    "    {\"bts_name\": \"RM\",       \"job\": \"Rapper\",      \"dob\": \"1994-09-12\", \"real_name\": \"Kim Nam-joon\",    \"k_name\": \"김남준\"},\r\n",
    "    {\"bts_name\": \"Jin\",      \"job\": \"Vocals\",      \"dob\": \"1992-12-04\", \"real_name\": \"Kim Seok-jin\",    \"k_name\": \"김석진\"},\r\n",
    "    {\"bts_name\": \"SUGA\",     \"job\": \"Rapper\",      \"dob\": \"1993-03-09\", \"real_name\": \"Min Yoon-gi\",     \"k_name\": \"민윤기\"},\r\n",
    "    {\"bts_name\": \"j-hope\",   \"job\": \"Rapper\",      \"dob\": \"1994-02-18\", \"real_name\": \"Jung Ho-seok\",    \"k_name\": \"정호석\"},\r\n",
    "    {\"bts_name\": \"Jimin\",    \"job\": \"Vocals\",      \"dob\": \"1995-10-13\", \"real_name\": \"Park Ji-min\",     \"k_name\": \"김태형\"},\r\n",
    "    {\"bts_name\": \"V\" ,       \"job\": \"Vocals\",      \"dob\": \"1995-12-30\", \"real_name\": \"Kim Tae-hyung\",   \"k_name\": \"김태형\"},\r\n",
    "    {\"bts_name\": \"JungKook\", \"job\": \"Main Vocals\", \"dob\": \"1997-09-01\", \"real_name\": \"Jeon Jung-kook\",  \"k_name\": \"전정국\"},\r\n",
    "]   \r\n",
    "bts_df = pd.DataFrame(bts)\r\n",
    "bts_df"
   ]
  },
  {
   "cell_type": "markdown",
   "metadata": {},
   "source": [
    "If we treat the dataframe as a list, which is reasonable to expect that you'd be able to, it doesn't behave like you'd expect:"
   ]
  },
  {
   "cell_type": "code",
   "execution_count": null,
   "metadata": {},
   "outputs": [],
   "source": [
    "for row in bts_df:\r\n",
    "    print(row)"
   ]
  },
  {
   "cell_type": "markdown",
   "metadata": {},
   "source": [
    "It gives you the column names, rather than the rows.\r\n",
    "\r\n",
    "To get the rows, we need to use `iterrows`:"
   ]
  },
  {
   "cell_type": "code",
   "execution_count": null,
   "metadata": {},
   "outputs": [],
   "source": [
    "from dateutil import parser\r\n",
    "\r\n",
    "for i, row in bts_df.iterrows():\r\n",
    "    print(\r\n",
    "        f\"{i}: {row.real_name} (Korean: {row.k_name}; \"\r\n",
    "        f\"born {parser.parse(row.dob):%d %B, %Y}), better known mononymously \"\r\n",
    "        f\"as {row.bts_name}...\"\r\n",
    "    )\r\n"
   ]
  },
  {
   "cell_type": "markdown",
   "metadata": {},
   "source": [
    "So we can use that to generate the first line of their respective Wikipedia articles.\r\n",
    "\r\n",
    "We could also do the same thing with an `apply`"
   ]
  },
  {
   "cell_type": "code",
   "execution_count": null,
   "metadata": {},
   "outputs": [],
   "source": [
    "def blurb(row):\r\n",
    "    return (\r\n",
    "        f\"{row.real_name} (Korean: {row.k_name}; \"\r\n",
    "        f\"born {parser.parse(row.dob):%d %B, %Y}), better known mononymously \"\r\n",
    "        f\"as {row.bts_name}...\"\r\n",
    "    )\r\n",
    "\r\n",
    "bts_df.apply(blurb, axis=1)"
   ]
  },
  {
   "cell_type": "code",
   "execution_count": null,
   "metadata": {},
   "outputs": [],
   "source": [
    "def td_format(td_object):\r\n",
    "    '''Format timedelta to a nice string.\r\n",
    "\r\n",
    "    from this SO answer: https://stackoverflow.com/a/13756038/1835727\r\n",
    "    '''\r\n",
    "    seconds = int(td_object.total_seconds())\r\n",
    "    periods = [\r\n",
    "        ('year',        60*60*24*365),\r\n",
    "        ('month',       60*60*24*30),\r\n",
    "        ('day',         60*60*24),\r\n",
    "        ('hour',        60*60),\r\n",
    "        ('minute',      60),\r\n",
    "        ('second',      1)\r\n",
    "    ]\r\n",
    "\r\n",
    "    strings=[]\r\n",
    "    for period_name, period_seconds in periods:\r\n",
    "        if seconds > period_seconds:\r\n",
    "            period_value , seconds = divmod(seconds, period_seconds)\r\n",
    "            has_s = 's' if period_value > 1 else ''\r\n",
    "            strings.append(\"%s %s%s\" % (period_value, period_name, has_s))\r\n",
    "\r\n",
    "    return \", \".join(strings)"
   ]
  },
  {
   "cell_type": "code",
   "execution_count": null,
   "metadata": {},
   "outputs": [],
   "source": [
    "import datetime\r\n",
    "def get_age(dob):\r\n",
    "    dob_time = parser.parse(dob)\r\n",
    "    now = datetime.datetime.now()\r\n",
    "    delta = now - dob_time\r\n",
    "    return td_format(delta)\r\n",
    "\r\n",
    "bts_df[\"age\"] = bts_df.dob.apply(get_age)\r\n",
    "bts_df"
   ]
  },
  {
   "cell_type": "markdown",
   "metadata": {},
   "source": [
    "There's no _best loop_ just the loop that's best at the time."
   ]
  }
 ],
 "metadata": {
  "language_info": {
   "name": "python"
  }
 },
 "nbformat": 4,
 "nbformat_minor": 2
}
