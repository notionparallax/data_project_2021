{
    "cells": [
        {
            "cell_type": "markdown",
            "source": [
                "# Loops!\r\n",
                "\r\n",
                "We've seen all or almost all of this before, but here it is, all in one place!\r\n",
                "\r\n",
                "---\r\n",
                "\r\n",
                "## For Loops\r\n",
                "\r\n",
                "If we want to print the numbers from 0–9, we can use a for loop that's looking at a range:"
            ],
            "metadata": {}
        },
        {
            "cell_type": "code",
            "execution_count": 2,
            "source": [
                "for i in range(10):\r\n",
                "    print(i)"
            ],
            "outputs": [
                {
                    "output_type": "stream",
                    "name": "stdout",
                    "text": [
                        "0\n",
                        "1\n",
                        "2\n",
                        "3\n",
                        "4\n",
                        "5\n",
                        "6\n",
                        "7\n",
                        "8\n",
                        "9\n"
                    ]
                }
            ],
            "metadata": {}
        },
        {
            "cell_type": "markdown",
            "source": [
                "Or, even simpler, we can loop through the items in a list:"
            ],
            "metadata": {}
        },
        {
            "cell_type": "code",
            "execution_count": 3,
            "source": [
                "names = [\"RM\", \"Jin\", \"SUGA\", \"j-hope\", \"Jimin\", \"V\", \"Jung Kook\"]\r\n",
                "for name in names:\r\n",
                "    print(name)\r\n"
            ],
            "outputs": [
                {
                    "output_type": "stream",
                    "name": "stdout",
                    "text": [
                        "RM\n",
                        "Jin\n",
                        "SUGA\n",
                        "j-hope\n",
                        "Jimin\n",
                        "V\n",
                        "Jung Kook\n"
                    ]
                }
            ],
            "metadata": {}
        },
        {
            "cell_type": "markdown",
            "source": [
                "If we want to get the lengths of those strings, we can rely our trusty loop & append pattern:"
            ],
            "metadata": {}
        },
        {
            "cell_type": "code",
            "execution_count": 4,
            "source": [
                "lengths = []\r\n",
                "for name in names:\r\n",
                "    lengths.append(len(name))\r\n",
                "print(lengths)\r\n"
            ],
            "outputs": [
                {
                    "output_type": "stream",
                    "name": "stdout",
                    "text": [
                        "[2, 3, 4, 6, 5, 1, 9]\n"
                    ]
                }
            ],
            "metadata": {}
        },
        {
            "cell_type": "markdown",
            "source": [
                "But we do that so often that we could also use a list comprehension:"
            ],
            "metadata": {}
        },
        {
            "cell_type": "code",
            "execution_count": 5,
            "source": [
                "lengths = [len(name) for name in names]\r\n",
                "print(lengths)"
            ],
            "outputs": [
                {
                    "output_type": "stream",
                    "name": "stdout",
                    "text": [
                        "[2, 3, 4, 6, 5, 1, 9]\n"
                    ]
                }
            ],
            "metadata": {}
        },
        {
            "cell_type": "markdown",
            "source": [
                "## While Loops\r\n",
                "\r\n",
                "Sometimes we need to do something a bit more freeform. While loops do everything and more that a for loop can do, but we need to make a bit more of our own infrastructure:"
            ],
            "metadata": {}
        },
        {
            "cell_type": "code",
            "execution_count": 7,
            "source": [
                "counter = 0\r\n",
                "while counter < 5:\r\n",
                "    print(counter)\r\n",
                "    counter += 1\r\n"
            ],
            "outputs": [
                {
                    "output_type": "stream",
                    "name": "stdout",
                    "text": [
                        "0\n",
                        "1\n",
                        "2\n",
                        "3\n",
                        "4\n"
                    ]
                }
            ],
            "metadata": {}
        },
        {
            "cell_type": "markdown",
            "source": [
                "While loops are a bit risky because they're not guaranteed to stop. For example, this is flipping a coin, and will stop as soon as it gets a head. However, if it never gets a head, it'll run forever.\r\n",
                "\r\n",
                "In cases like that, we add a guard condition to stop it in case our main condition never happens."
            ],
            "metadata": {}
        },
        {
            "cell_type": "code",
            "execution_count": 8,
            "source": [
                "import random\r\n",
                "\r\n",
                "guard = 0\r\n",
                "coin = \"tails\"\r\n",
                "while coin == \"tails\" and guard < 10:\r\n",
                "    coin = random.sample([\"heads\", \"tails\"], 1)[0]\r\n",
                "    print(coin, guard)\r\n",
                "    guard += 1\r\n"
            ],
            "outputs": [
                {
                    "output_type": "stream",
                    "name": "stdout",
                    "text": [
                        "tails 0\n",
                        "tails 1\n",
                        "tails 2\n",
                        "heads 3\n"
                    ]
                }
            ],
            "metadata": {}
        },
        {
            "cell_type": "markdown",
            "source": [
                "We can nest loops inside each other, and mix up the types too.\r\n",
                "\r\n",
                "If a for loop isn't ever going to use its variable, then it's convention to call it `_`"
            ],
            "metadata": {}
        },
        {
            "cell_type": "code",
            "execution_count": 16,
            "source": [
                "for _ in range(5):\r\n",
                "    print()\r\n",
                "    guard = 0\r\n",
                "    coin = \"tails\"\r\n",
                "    while coin == \"tails\" and guard < 10:\r\n",
                "        coin = random.sample([\"heads\", \"tails\"], 1)[0]\r\n",
                "        print(coin, guard)\r\n",
                "        guard += 1"
            ],
            "outputs": [
                {
                    "output_type": "stream",
                    "name": "stdout",
                    "text": [
                        "\n",
                        "tails 0\n",
                        "heads 1\n",
                        "\n",
                        "tails 0\n",
                        "heads 1\n",
                        "\n",
                        "heads 0\n",
                        "\n",
                        "tails 0\n",
                        "tails 1\n",
                        "heads 2\n",
                        "\n",
                        "tails 0\n",
                        "tails 1\n",
                        "tails 2\n",
                        "heads 3\n"
                    ]
                }
            ],
            "metadata": {}
        },
        {
            "cell_type": "markdown",
            "source": [
                "## Unpacking\r\n",
                "\r\n",
                "A little tangent here. Python lets you do _unpacking assignment_ from tupels.\r\n",
                "\r\n",
                "We've got three things on the right, and 3 variable names on the left. Python unpacks the tupel into the corresponding variable names."
            ],
            "metadata": {}
        },
        {
            "cell_type": "code",
            "execution_count": 17,
            "source": [
                "# Unpacking:\r\n",
                "a, b, c = (\"🤯\", \"🍰\", \"🍊\")\r\n",
                "print(a)\r\n",
                "print(b)\r\n",
                "print(c)\r\n"
            ],
            "outputs": [
                {
                    "output_type": "stream",
                    "name": "stdout",
                    "text": [
                        "🤯\n",
                        "🍰\n",
                        "🍊\n"
                    ]
                }
            ],
            "metadata": {}
        },
        {
            "cell_type": "markdown",
            "source": [
                "# Enumerate\r\n",
                "\r\n",
                "Enumerate makes a tupel of a number and the value. This is useful when you need to know what the value is, but also what the number is. It's a lot neater than doing:\r\n",
                "\r\n",
                "```python\r\n",
                "for i in range(len(names)):\r\n",
                "    print(i, names[i])\r\n",
                "```\r\n"
            ],
            "metadata": {}
        },
        {
            "cell_type": "code",
            "execution_count": 18,
            "source": [
                "for name in enumerate(names):\r\n",
                "    print(name)\r\n"
            ],
            "outputs": [
                {
                    "output_type": "stream",
                    "name": "stdout",
                    "text": [
                        "(0, 'RM')\n",
                        "(1, 'Jin')\n",
                        "(2, 'SUGA')\n",
                        "(3, 'j-hope')\n",
                        "(4, 'Jimin')\n",
                        "(5, 'V')\n",
                        "(6, 'Jung Kook')\n"
                    ]
                }
            ],
            "metadata": {}
        },
        {
            "cell_type": "markdown",
            "source": [
                "But what's cool here is that we can unpack in the loop statement:"
            ],
            "metadata": {}
        },
        {
            "cell_type": "code",
            "execution_count": 19,
            "source": [
                "for i, name in enumerate(names):\r\n",
                "    print(name, len(name), i * 5)\r\n"
            ],
            "outputs": [
                {
                    "output_type": "stream",
                    "name": "stdout",
                    "text": [
                        "RM 2 0\n",
                        "Jin 3 5\n",
                        "SUGA 4 10\n",
                        "j-hope 6 15\n",
                        "Jimin 5 20\n",
                        "V 1 25\n",
                        "Jung Kook 9 30\n"
                    ]
                }
            ],
            "metadata": {}
        },
        {
            "cell_type": "markdown",
            "source": [
                "## the way of the pandas loops 🐼🔁\r\n",
                "\r\n",
                "Lets work with this data:"
            ],
            "metadata": {}
        },
        {
            "cell_type": "code",
            "execution_count": 20,
            "source": [
                "import pandas as pd\r\n",
                "\r\n",
                "bts=[\r\n",
                "    {\"bts_name\": \"RM\",       \"job\": \"Rapper\",      \"dob\": \"1994-09-12\", \"real_name\": \"Kim Nam-joon\",    \"k_name\": \"김남준\"},\r\n",
                "    {\"bts_name\": \"Jin\",      \"job\": \"Vocals\",      \"dob\": \"1992-12-04\", \"real_name\": \"Kim Seok-jin\",    \"k_name\": \"김석진\"},\r\n",
                "    {\"bts_name\": \"SUGA\",     \"job\": \"Rapper\",      \"dob\": \"1993-03-09\", \"real_name\": \"Min Yoon-gi\",     \"k_name\": \"민윤기\"},\r\n",
                "    {\"bts_name\": \"j-hope\",   \"job\": \"Rapper\",      \"dob\": \"1994-02-18\", \"real_name\": \"Jung Ho-seok\",    \"k_name\": \"정호석\"},\r\n",
                "    {\"bts_name\": \"Jimin\",    \"job\": \"Vocals\",      \"dob\": \"1995-10-13\", \"real_name\": \"Park Ji-min\",     \"k_name\": \"김태형\"},\r\n",
                "    {\"bts_name\": \"V\" ,       \"job\": \"Vocals\",      \"dob\": \"1995-12-30\", \"real_name\": \"Kim Tae-hyung\",   \"k_name\": \"김태형\"},\r\n",
                "    {\"bts_name\": \"JungKook\", \"job\": \"Main Vocals\", \"dob\": \"1997-09-01\", \"real_name\": \"Jeon Jung-kook\",  \"k_name\": \"전정국\"},\r\n",
                "]   \r\n",
                "bts_df = pd.DataFrame(bts)\r\n",
                "bts_df"
            ],
            "outputs": [
                {
                    "output_type": "execute_result",
                    "data": {
                        "text/plain": [
                            "   bts_name          job         dob       real_name k_name\n",
                            "0        RM       Rapper  1994-09-12    Kim Nam-joon    김남준\n",
                            "1       Jin       Vocals  1992-12-04    Kim Seok-jin    김석진\n",
                            "2      SUGA       Rapper  1993-03-09     Min Yoon-gi    민윤기\n",
                            "3    j-hope       Rapper  1994-02-18    Jung Ho-seok    정호석\n",
                            "4     Jimin       Vocals  1995-10-13     Park Ji-min    김태형\n",
                            "5         V       Vocals  1995-12-30   Kim Tae-hyung    김태형\n",
                            "6  JungKook  Main Vocals  1997-09-01  Jeon Jung-kook    전정국"
                        ],
                        "text/html": [
                            "<div>\n",
                            "<style scoped>\n",
                            "    .dataframe tbody tr th:only-of-type {\n",
                            "        vertical-align: middle;\n",
                            "    }\n",
                            "\n",
                            "    .dataframe tbody tr th {\n",
                            "        vertical-align: top;\n",
                            "    }\n",
                            "\n",
                            "    .dataframe thead th {\n",
                            "        text-align: right;\n",
                            "    }\n",
                            "</style>\n",
                            "<table border=\"1\" class=\"dataframe\">\n",
                            "  <thead>\n",
                            "    <tr style=\"text-align: right;\">\n",
                            "      <th></th>\n",
                            "      <th>bts_name</th>\n",
                            "      <th>job</th>\n",
                            "      <th>dob</th>\n",
                            "      <th>real_name</th>\n",
                            "      <th>k_name</th>\n",
                            "    </tr>\n",
                            "  </thead>\n",
                            "  <tbody>\n",
                            "    <tr>\n",
                            "      <th>0</th>\n",
                            "      <td>RM</td>\n",
                            "      <td>Rapper</td>\n",
                            "      <td>1994-09-12</td>\n",
                            "      <td>Kim Nam-joon</td>\n",
                            "      <td>김남준</td>\n",
                            "    </tr>\n",
                            "    <tr>\n",
                            "      <th>1</th>\n",
                            "      <td>Jin</td>\n",
                            "      <td>Vocals</td>\n",
                            "      <td>1992-12-04</td>\n",
                            "      <td>Kim Seok-jin</td>\n",
                            "      <td>김석진</td>\n",
                            "    </tr>\n",
                            "    <tr>\n",
                            "      <th>2</th>\n",
                            "      <td>SUGA</td>\n",
                            "      <td>Rapper</td>\n",
                            "      <td>1993-03-09</td>\n",
                            "      <td>Min Yoon-gi</td>\n",
                            "      <td>민윤기</td>\n",
                            "    </tr>\n",
                            "    <tr>\n",
                            "      <th>3</th>\n",
                            "      <td>j-hope</td>\n",
                            "      <td>Rapper</td>\n",
                            "      <td>1994-02-18</td>\n",
                            "      <td>Jung Ho-seok</td>\n",
                            "      <td>정호석</td>\n",
                            "    </tr>\n",
                            "    <tr>\n",
                            "      <th>4</th>\n",
                            "      <td>Jimin</td>\n",
                            "      <td>Vocals</td>\n",
                            "      <td>1995-10-13</td>\n",
                            "      <td>Park Ji-min</td>\n",
                            "      <td>김태형</td>\n",
                            "    </tr>\n",
                            "    <tr>\n",
                            "      <th>5</th>\n",
                            "      <td>V</td>\n",
                            "      <td>Vocals</td>\n",
                            "      <td>1995-12-30</td>\n",
                            "      <td>Kim Tae-hyung</td>\n",
                            "      <td>김태형</td>\n",
                            "    </tr>\n",
                            "    <tr>\n",
                            "      <th>6</th>\n",
                            "      <td>JungKook</td>\n",
                            "      <td>Main Vocals</td>\n",
                            "      <td>1997-09-01</td>\n",
                            "      <td>Jeon Jung-kook</td>\n",
                            "      <td>전정국</td>\n",
                            "    </tr>\n",
                            "  </tbody>\n",
                            "</table>\n",
                            "</div>"
                        ]
                    },
                    "metadata": {},
                    "execution_count": 20
                }
            ],
            "metadata": {}
        },
        {
            "cell_type": "markdown",
            "source": [
                "If we treat the dataframe as a list, which is reasonable to expect that you'd be able to, it doesn't behave like you'd expect:"
            ],
            "metadata": {}
        },
        {
            "cell_type": "code",
            "execution_count": 21,
            "source": [
                "for row in bts_df:\r\n",
                "    print(row)"
            ],
            "outputs": [
                {
                    "output_type": "stream",
                    "name": "stdout",
                    "text": [
                        "bts_name\n",
                        "job\n",
                        "dob\n",
                        "real_name\n",
                        "k_name\n"
                    ]
                }
            ],
            "metadata": {}
        },
        {
            "cell_type": "markdown",
            "source": [
                "It gives you the column names, rather than the rows.\r\n",
                "\r\n",
                "To get the rows, we need to use `iterrows`:"
            ],
            "metadata": {}
        },
        {
            "cell_type": "code",
            "execution_count": 22,
            "source": [
                "from dateutil import parser\r\n",
                "\r\n",
                "for i, row in bts_df.iterrows():\r\n",
                "    print(\r\n",
                "        f\"{i}: {row.real_name} (Korean: {row.k_name}; \"\r\n",
                "        f\"born {parser.parse(row.dob):%d %B, %Y}), better known mononymously \"\r\n",
                "        f\"as {row.bts_name}...\"\r\n",
                "    )\r\n"
            ],
            "outputs": [
                {
                    "output_type": "stream",
                    "name": "stdout",
                    "text": [
                        "0: Kim Nam-joon (Korean: 김남준; born 12 September, 1994), better known mononymously as RM...\n",
                        "1: Kim Seok-jin (Korean: 김석진; born 04 December, 1992), better known mononymously as Jin...\n",
                        "2: Min Yoon-gi (Korean: 민윤기; born 09 March, 1993), better known mononymously as SUGA...\n",
                        "3: Jung Ho-seok (Korean: 정호석; born 18 February, 1994), better known mononymously as j-hope...\n",
                        "4: Park Ji-min (Korean: 김태형; born 13 October, 1995), better known mononymously as Jimin...\n",
                        "5: Kim Tae-hyung (Korean: 김태형; born 30 December, 1995), better known mononymously as V...\n",
                        "6: Jeon Jung-kook (Korean: 전정국; born 01 September, 1997), better known mononymously as JungKook...\n"
                    ]
                }
            ],
            "metadata": {}
        },
        {
            "cell_type": "markdown",
            "source": [
                "So we can use that to generate the first line of their respective Wikipedia articles.\r\n",
                "\r\n",
                "We could also do the same thing with an `apply`"
            ],
            "metadata": {}
        },
        {
            "cell_type": "code",
            "execution_count": 25,
            "source": [
                "def blurb(row):\r\n",
                "    return (\r\n",
                "        f\"{row.real_name} (Korean: {row.k_name}; \"\r\n",
                "        f\"born {parser.parse(row.dob):%d %B, %Y}), better known mononymously \"\r\n",
                "        f\"as {row.bts_name}...\"\r\n",
                "    )\r\n",
                "\r\n",
                "bts_df.apply(blurb, axis=1)"
            ],
            "outputs": [
                {
                    "output_type": "execute_result",
                    "data": {
                        "text/plain": [
                            "0    Kim Nam-joon (Korean: 김남준; born 12 September, ...\n",
                            "1    Kim Seok-jin (Korean: 김석진; born 04 December, 1...\n",
                            "2    Min Yoon-gi (Korean: 민윤기; born 09 March, 1993)...\n",
                            "3    Jung Ho-seok (Korean: 정호석; born 18 February, 1...\n",
                            "4    Park Ji-min (Korean: 김태형; born 13 October, 199...\n",
                            "5    Kim Tae-hyung (Korean: 김태형; born 30 December, ...\n",
                            "6    Jeon Jung-kook (Korean: 전정국; born 01 September...\n",
                            "dtype: object"
                        ]
                    },
                    "metadata": {},
                    "execution_count": 25
                }
            ],
            "metadata": {}
        },
        {
            "cell_type": "code",
            "execution_count": 34,
            "source": [
                "def td_format(td_object):\r\n",
                "    '''Format timedelta to a nice string.\r\n",
                "\r\n",
                "    from this SO answer: https://stackoverflow.com/a/13756038/1835727\r\n",
                "    '''\r\n",
                "    seconds = int(td_object.total_seconds())\r\n",
                "    periods = [\r\n",
                "        ('year',        60*60*24*365),\r\n",
                "        ('month',       60*60*24*30),\r\n",
                "        ('day',         60*60*24),\r\n",
                "        ('hour',        60*60),\r\n",
                "        ('minute',      60),\r\n",
                "        ('second',      1)\r\n",
                "    ]\r\n",
                "\r\n",
                "    strings=[]\r\n",
                "    for period_name, period_seconds in periods:\r\n",
                "        if seconds > period_seconds:\r\n",
                "            period_value , seconds = divmod(seconds, period_seconds)\r\n",
                "            has_s = 's' if period_value > 1 else ''\r\n",
                "            strings.append(\"%s %s%s\" % (period_value, period_name, has_s))\r\n",
                "\r\n",
                "    return \", \".join(strings)"
            ],
            "outputs": [],
            "metadata": {}
        },
        {
            "cell_type": "code",
            "execution_count": 38,
            "source": [
                "import datetime\r\n",
                "def get_age(dob):\r\n",
                "    dob_time = parser.parse(dob)\r\n",
                "    now = datetime.datetime.now()\r\n",
                "    delta = now - dob_time\r\n",
                "    return td_format(delta)\r\n",
                "\r\n",
                "bts_df[\"age\"] = bts_df.dob.apply(get_age)\r\n",
                "bts_df"
            ],
            "outputs": [
                {
                    "output_type": "execute_result",
                    "data": {
                        "text/plain": [
                            "   bts_name          job         dob       real_name k_name  \\\n",
                            "0        RM       Rapper  1994-09-12    Kim Nam-joon    김남준   \n",
                            "1       Jin       Vocals  1992-12-04    Kim Seok-jin    김석진   \n",
                            "2      SUGA       Rapper  1993-03-09     Min Yoon-gi    민윤기   \n",
                            "3    j-hope       Rapper  1994-02-18    Jung Ho-seok    정호석   \n",
                            "4     Jimin       Vocals  1995-10-13     Park Ji-min    김태형   \n",
                            "5         V       Vocals  1995-12-30   Kim Tae-hyung    김태형   \n",
                            "6  JungKook  Main Vocals  1997-09-01  Jeon Jung-kook    전정국   \n",
                            "\n",
                            "                                                 age  \n",
                            "0  26 years, 10 months, 13 days, 12 hours, 29 min...  \n",
                            "1  28 years, 7 months, 20 days, 12 hours, 29 minu...  \n",
                            "2  28 years, 4 months, 15 days, 12 hours, 29 minu...  \n",
                            "3  27 years, 5 months, 4 days, 12 hours, 29 minut...  \n",
                            "4  25 years, 9 months, 12 days, 12 hours, 29 minu...  \n",
                            "5  25 years, 6 months, 24 days, 12 hours, 29 minu...  \n",
                            "6  23 years, 10 months, 23 days, 12 hours, 29 min...  "
                        ],
                        "text/html": [
                            "<div>\n",
                            "<style scoped>\n",
                            "    .dataframe tbody tr th:only-of-type {\n",
                            "        vertical-align: middle;\n",
                            "    }\n",
                            "\n",
                            "    .dataframe tbody tr th {\n",
                            "        vertical-align: top;\n",
                            "    }\n",
                            "\n",
                            "    .dataframe thead th {\n",
                            "        text-align: right;\n",
                            "    }\n",
                            "</style>\n",
                            "<table border=\"1\" class=\"dataframe\">\n",
                            "  <thead>\n",
                            "    <tr style=\"text-align: right;\">\n",
                            "      <th></th>\n",
                            "      <th>bts_name</th>\n",
                            "      <th>job</th>\n",
                            "      <th>dob</th>\n",
                            "      <th>real_name</th>\n",
                            "      <th>k_name</th>\n",
                            "      <th>age</th>\n",
                            "    </tr>\n",
                            "  </thead>\n",
                            "  <tbody>\n",
                            "    <tr>\n",
                            "      <th>0</th>\n",
                            "      <td>RM</td>\n",
                            "      <td>Rapper</td>\n",
                            "      <td>1994-09-12</td>\n",
                            "      <td>Kim Nam-joon</td>\n",
                            "      <td>김남준</td>\n",
                            "      <td>26 years, 10 months, 13 days, 12 hours, 29 min...</td>\n",
                            "    </tr>\n",
                            "    <tr>\n",
                            "      <th>1</th>\n",
                            "      <td>Jin</td>\n",
                            "      <td>Vocals</td>\n",
                            "      <td>1992-12-04</td>\n",
                            "      <td>Kim Seok-jin</td>\n",
                            "      <td>김석진</td>\n",
                            "      <td>28 years, 7 months, 20 days, 12 hours, 29 minu...</td>\n",
                            "    </tr>\n",
                            "    <tr>\n",
                            "      <th>2</th>\n",
                            "      <td>SUGA</td>\n",
                            "      <td>Rapper</td>\n",
                            "      <td>1993-03-09</td>\n",
                            "      <td>Min Yoon-gi</td>\n",
                            "      <td>민윤기</td>\n",
                            "      <td>28 years, 4 months, 15 days, 12 hours, 29 minu...</td>\n",
                            "    </tr>\n",
                            "    <tr>\n",
                            "      <th>3</th>\n",
                            "      <td>j-hope</td>\n",
                            "      <td>Rapper</td>\n",
                            "      <td>1994-02-18</td>\n",
                            "      <td>Jung Ho-seok</td>\n",
                            "      <td>정호석</td>\n",
                            "      <td>27 years, 5 months, 4 days, 12 hours, 29 minut...</td>\n",
                            "    </tr>\n",
                            "    <tr>\n",
                            "      <th>4</th>\n",
                            "      <td>Jimin</td>\n",
                            "      <td>Vocals</td>\n",
                            "      <td>1995-10-13</td>\n",
                            "      <td>Park Ji-min</td>\n",
                            "      <td>김태형</td>\n",
                            "      <td>25 years, 9 months, 12 days, 12 hours, 29 minu...</td>\n",
                            "    </tr>\n",
                            "    <tr>\n",
                            "      <th>5</th>\n",
                            "      <td>V</td>\n",
                            "      <td>Vocals</td>\n",
                            "      <td>1995-12-30</td>\n",
                            "      <td>Kim Tae-hyung</td>\n",
                            "      <td>김태형</td>\n",
                            "      <td>25 years, 6 months, 24 days, 12 hours, 29 minu...</td>\n",
                            "    </tr>\n",
                            "    <tr>\n",
                            "      <th>6</th>\n",
                            "      <td>JungKook</td>\n",
                            "      <td>Main Vocals</td>\n",
                            "      <td>1997-09-01</td>\n",
                            "      <td>Jeon Jung-kook</td>\n",
                            "      <td>전정국</td>\n",
                            "      <td>23 years, 10 months, 23 days, 12 hours, 29 min...</td>\n",
                            "    </tr>\n",
                            "  </tbody>\n",
                            "</table>\n",
                            "</div>"
                        ]
                    },
                    "metadata": {},
                    "execution_count": 38
                }
            ],
            "metadata": {}
        },
        {
            "cell_type": "markdown",
            "source": [
                "There's no _best loop_ just the loop that's best at the time."
            ],
            "metadata": {}
        }
    ],
    "metadata": {
        "orig_nbformat": 4,
        "language_info": {
            "name": "python"
        }
    },
    "nbformat": 4,
    "nbformat_minor": 2
}