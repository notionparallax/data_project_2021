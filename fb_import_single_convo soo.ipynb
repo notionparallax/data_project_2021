{
 "cells": [
  {
   "cell_type": "code",
   "execution_count": null,
   "metadata": {},
   "outputs": [],
   "source": [
    "from matplotlib.dates import DateFormatter\r\n",
    "from pathlib import Path\r\n",
    "import datetime\r\n",
    "import json\r\n",
    "import matplotlib as mpl\r\n",
    "import matplotlib.dates as mdates\r\n",
    "import matplotlib.pyplot as plt\r\n",
    "import numpy as np\r\n",
    "import os\r\n",
    "import pandas as pd\r\n",
    "import seaborn as sns\r\n",
    "import textwrap\r\n",
    "\r\n",
    "plt.rcParams['figure.figsize'] = (20, 9)\r\n",
    "plt.rcParams['font.sans-serif']=['Segoe UI Emoji']"
   ]
  },
  {
   "cell_type": "code",
   "execution_count": null,
   "metadata": {},
   "outputs": [],
   "source": [
    "RUN_HEAVY = True"
   ]
  },
  {
   "cell_type": "markdown",
   "metadata": {},
   "source": [
    "# Loading a single person's conversation\r\n",
    "\r\n",
    "This hard codes the conversation, you can get the link by right clicking on the file you want and then chosing _Copy Relative Path_ and then pasting it in below."
   ]
  },
  {
   "cell_type": "code",
   "execution_count": null,
   "metadata": {},
   "outputs": [],
   "source": [
    "def parse_obj(obj):\r\n",
    "    for key in obj:\r\n",
    "        if isinstance(obj[key], str):\r\n",
    "            obj[key] = obj[key].encode(\"latin_1\").decode(\"utf-8\")\r\n",
    "        elif isinstance(obj[key], list):\r\n",
    "            obj[key] = list(\r\n",
    "                map(\r\n",
    "                    lambda x: x\r\n",
    "                    if type(x) != str\r\n",
    "                    else x.encode(\"latin_1\").decode(\"utf-8\"),\r\n",
    "                    obj[key],\r\n",
    "                )\r\n",
    "            )\r\n",
    "        pass\r\n",
    "    return obj\r\n",
    "\r\n",
    "\r\n",
    "rootdir = \"fb_data/messages/inbox/lucyrimmer_pfwdzikwla/\"\r\n",
    "\r\n",
    "message_list = []\r\n",
    "participants = []\r\n",
    "for p in os.listdir(rootdir):\r\n",
    "    path = os.path.join(rootdir, p)\r\n",
    "    if Path(path).is_file():\r\n",
    "        with open(path, \"r\") as fb_data:\r\n",
    "            messages = json.load(fb_data, object_hook=parse_obj)\r\n",
    "            participants = messages[\"participants\"]\r\n",
    "            message_list.extend(messages[\"messages\"])\r\n"
   ]
  },
  {
   "cell_type": "code",
   "execution_count": null,
   "metadata": {},
   "outputs": [],
   "source": [
    "# message_list = messages[\"messages\"]\r\n",
    "df = pd.DataFrame(message_list)\r\n",
    "df[\"datetime\"] = df.timestamp_ms.apply(\r\n",
    "    lambda x: datetime.datetime.fromtimestamp(x / 1000.0)\r\n",
    ")\r\n",
    "\r\n",
    "\r\n",
    "def get_message_length(message):\r\n",
    "    if type(message) is str:\r\n",
    "        return len(message)\r\n",
    "    else:\r\n",
    "        return len(str(message))\r\n",
    "\r\n",
    "\r\n",
    "def replace_typographic_apostrophy(message):\r\n",
    "    if type(message) is str:\r\n",
    "        return message.replace(\"’\", \"'\")\r\n",
    "    else:\r\n",
    "        return message\r\n",
    "\r\n",
    "\r\n",
    "df[\"message_length\"] = df.content.apply(get_message_length)\r\n",
    "df.content = df.content.apply(replace_typographic_apostrophy)\r\n",
    "\r\n",
    "print(df.shape)\r\n",
    "df.sample(5)\r\n"
   ]
  },
  {
   "cell_type": "code",
   "execution_count": null,
   "metadata": {},
   "outputs": [],
   "source": [
    "unsent = [m for m in message_list if m[\"is_unsent\"]]\r\n",
    "period_string = f\"{df.datetime.min():%A %d %B, %Y} and {df.datetime.max():%A %d %B, %Y}\"\r\n",
    "print (\r\n",
    "    f\"Conversation between {participants[0]['name']} and {participants[1]['name']}.\\n\"\r\n",
    "    f\"Covering the period between {period_string}.\\n\"\r\n",
    "    f\"In this period there were {len(message_list)} messages, \"\r\n",
    "    f\"{len([x for x in df.photos if x is not np.nan])} photos, \"\r\n",
    "    f\"{len([x for x in df.videos if x is not np.nan])} videos, \"\r\n",
    "    # f\"{len([x for x in df.audio_files if x is not np.nan])} audio files, \"\r\n",
    "    f\"{len(unsent)} messages were unsent\"\r\n",
    ")\r\n"
   ]
  },
  {
   "cell_type": "code",
   "execution_count": null,
   "metadata": {},
   "outputs": [],
   "source": [
    "df.sender_name.value_counts().plot.barh()\r\n",
    "plt.title(\r\n",
    "    f\"Total number of messages sent between {period_string}\"\r\n",
    ")\r\n"
   ]
  },
  {
   "cell_type": "code",
   "execution_count": null,
   "metadata": {},
   "outputs": [],
   "source": [
    "df[\"type\"].value_counts().plot.barh()\r\n",
    "plt.title(f\"Types of message sent between {period_string}\")\r\n"
   ]
  },
  {
   "cell_type": "code",
   "execution_count": null,
   "metadata": {},
   "outputs": [],
   "source": [
    "if RUN_HEAVY:\r\n",
    "    plt.title(f\"Message length in chars (between {period_string})\")\r\n",
    "    for name, data in df.groupby(\"sender_name\"):\r\n",
    "        ave_length = data.message_length.mean()\r\n",
    "        max_length = data.message_length.max()\r\n",
    "        plt.hist(\r\n",
    "            data.message_length,\r\n",
    "            bins=75,\r\n",
    "            range=[0, 150],\r\n",
    "            label=f\"{name} (ave: {ave_length:.2f}, max: {max_length})\",\r\n",
    "            alpha=0.8,\r\n",
    "        )\r\n",
    "        plt.xlabel(\"Message Length\")\r\n",
    "        plt.ylabel(\"Count\")\r\n",
    "        plt.legend()\r\n"
   ]
  },
  {
   "cell_type": "code",
   "execution_count": null,
   "metadata": {},
   "outputs": [],
   "source": []
  },
  {
   "cell_type": "code",
   "execution_count": null,
   "metadata": {},
   "outputs": [],
   "source": [
    "def messages_per_day(range=False):\r\n",
    "    sender_a = participants[0][\"name\"]\r\n",
    "    a_message_counts = (\r\n",
    "        df[df.sender_name == sender_a]\r\n",
    "        .set_index(\"datetime\")\r\n",
    "        .groupby(pd.Grouper(freq=\"D\"))\r\n",
    "        .count()\r\n",
    "    )\r\n",
    "    ax = a_message_counts.sender_name.plot(alpha=0.8, label=sender_a)\r\n",
    "    sender_b = participants[1][\"name\"]\r\n",
    "    b_message_counts = (\r\n",
    "        df[df.sender_name == sender_b]\r\n",
    "        .set_index(\"datetime\")\r\n",
    "        .groupby(pd.Grouper(freq=\"D\"))\r\n",
    "        .count()\r\n",
    "    )\r\n",
    "    b_message_counts.sender_name.plot(alpha=0.8, label=sender_b)\r\n",
    "    plt.title(f\"Number of messages sent by {sender_a} and {sender_b} per day\")\r\n",
    "    plt.ylabel(\"count\")\r\n",
    "    plt.legend()\r\n",
    "    plt.grid(True)\r\n",
    "\r\n",
    "    # Highlight the weekends\r\n",
    "    # https://stackoverflow.com/a/66064136/1835727\r\n",
    "    xmin, xmax = ax.get_xlim()\r\n",
    "    days = np.arange(np.floor(xmin), np.ceil(xmax) + 2)  # range of days in date units\r\n",
    "    weekends = [(dt.weekday() >= 5) | (dt.weekday() == 0) for dt in mdates.num2date(days)]\r\n",
    "    ax.fill_between(days, *ax.get_ylim(), where=weekends, facecolor=\"k\", alpha=0.1)\r\n",
    "    if range:\r\n",
    "        ax.set_xlim(range[0], range[1])  # set limits back to default values\r\n",
    "    else:\r\n",
    "        ax.set_xlim(xmin, xmax)  # set limits back to default values\r\n",
    "\r\n",
    "    date_form = DateFormatter(\"%a %d %b\")\r\n",
    "    ax.xaxis.set_major_formatter(date_form)\r\n",
    "    ax.xaxis.set_major_locator(mdates.WeekdayLocator(interval=1))\r\n",
    "    plt.xticks(rotation=90)\r\n",
    "    plt.show()\r\n",
    "\r\n",
    "if RUN_HEAVY:\r\n",
    "    messages_per_day()"
   ]
  },
  {
   "cell_type": "code",
   "execution_count": null,
   "metadata": {},
   "outputs": [],
   "source": [
    "if RUN_HEAVY:\r\n",
    "    messages_per_day(range=[18181+318, 18814] )"
   ]
  },
  {
   "cell_type": "code",
   "execution_count": null,
   "metadata": {},
   "outputs": [],
   "source": [
    "if RUN_HEAVY:\r\n",
    "    p_a = participants[0][\"name\"]\r\n",
    "    p_b = participants[1][\"name\"]\r\n",
    "    day_counts = []\r\n",
    "    for x, data in df.set_index(\"datetime\").groupby(pd.Grouper(freq=\"D\")):\r\n",
    "        vc = data.sender_name.value_counts()\r\n",
    "\r\n",
    "        dic = {\"datetime\": x, p_a: vc.get(p_a, 0), p_b: vc.get(p_b, 0)}\r\n",
    "        day_counts.append(dic)\r\n",
    "        # print(x,vc, dic)\r\n",
    "\r\n",
    "    dc_df = pd.DataFrame(day_counts)\r\n",
    "    dc_df.set_index(\"datetime\", inplace=True)\r\n",
    "\r\n",
    "\r\n",
    "    def make_ratio(row):\r\n",
    "        try:\r\n",
    "            a = row.get(p_a, 0)\r\n",
    "            b = row.get(p_b, 0)\r\n",
    "            if a > 0 and b > 0:\r\n",
    "                r = a / b\r\n",
    "            else:\r\n",
    "                r = 0\r\n",
    "            return r\r\n",
    "        except:\r\n",
    "            return 0\r\n",
    "\r\n",
    "\r\n",
    "    dc_df[\"ratio\"] = dc_df.apply(make_ratio, axis=1)\r\n",
    "    dc_df.drop([\"ratio\"], axis=1).plot()\r\n"
   ]
  },
  {
   "cell_type": "code",
   "execution_count": null,
   "metadata": {},
   "outputs": [],
   "source": [
    "if RUN_HEAVY:\r\n",
    "    dc_df.ratio.plot()\r\n",
    "    plt.title(\"Ratio of message counts per day\");"
   ]
  },
  {
   "cell_type": "code",
   "execution_count": null,
   "metadata": {},
   "outputs": [],
   "source": [
    "s = df.loc[df[\"datetime\"].between(\"2021-06-01\", \"2021-06-5\", inclusive=False)]\r\n",
    "s[[\"sender_name\", \"content\"]]\r\n"
   ]
  },
  {
   "cell_type": "code",
   "execution_count": null,
   "metadata": {},
   "outputs": [],
   "source": [
    "def get_reaction_emojis(reaction):\r\n",
    "    if type(reaction) is list:\r\n",
    "        emojis = [r[\"reaction\"] for r in reaction]\r\n",
    "        return \"\".join(emojis)\r\n",
    "    else:\r\n",
    "        return reaction\r\n",
    "\r\n",
    "\r\n",
    "df[\"reaction_emojis\"] = df.reactions.apply(get_reaction_emojis)\r\n",
    "\r\n",
    "if RUN_HEAVY:\r\n",
    "    vc = df.reaction_emojis.value_counts()\r\n",
    "    plt.title(f\"Emojis used as reactions by both people\")\r\n",
    "    ax = vc[vc > 1].plot.bar()\r\n",
    "    ax.set_ylim(0, vc[1]*1.15)\r\n",
    "    plt.annotate(\r\n",
    "        f\"{vc.index[0]} goes to {vc[0]}!\",\r\n",
    "        (0, vc[1]*1.05),\r\n",
    "        xycoords=\"data\",\r\n",
    "        xytext=(30, 30),\r\n",
    "        textcoords=\"offset points\",\r\n",
    "        arrowprops=dict(arrowstyle=\"->\", connectionstyle=\"arc3,rad=-0.2\", color=\"k\"),\r\n",
    "    )\r\n"
   ]
  },
  {
   "cell_type": "code",
   "execution_count": null,
   "metadata": {},
   "outputs": [],
   "source": [
    "if RUN_HEAVY:\r\n",
    "    for name, data in df.groupby(\"sender_name\"):\r\n",
    "        plt.title(f\"Emojis used as reactions on {name}'s messages\")\r\n",
    "        all_response_emojis = [\r\n",
    "            x for x in list(data.reaction_emojis.unique()) if x is not np.nan\r\n",
    "        ]\r\n",
    "        vc = data.reaction_emojis.value_counts()\r\n",
    "        ae = \",\".join(vc.index.to_list())\r\n",
    "        print(\"Emojis used, in descending order of frequency: \",ae)\r\n",
    "        vc[vc > 1].plot.bar()\r\n",
    "        props = dict(boxstyle=\"round\", facecolor=\"wheat\", alpha=0.5)\r\n",
    "        plt.show()\r\n"
   ]
  },
  {
   "cell_type": "code",
   "execution_count": null,
   "metadata": {},
   "outputs": [],
   "source": [
    "def sumarise_convo(name, data):\r\n",
    "    stop_words = [\r\n",
    "        \"that's\", \"i\", \"i'm\", \"i'd\", \"i'll\", \"it's\", \"i've\", \"me\", \"my\", \"myself\", \"we\", \"our\", \"ours\", \"ourselves\", \"you\", \r\n",
    "        \"your\", \"yours\", \"yourself\", \"yourselves\", \"he\", \"him\", \"his\", \"himself\", \"she\", \"her\", \"hers\", \"herself\", \"it\", \r\n",
    "        \"its\", \"itself\", \"they\", \"them\", \"their\", \"theirs\", \"themselves\", \"what\", \"which\", \"who\", \"whom\", \"this\", \r\n",
    "        \"that\", \"these\", \"those\", \"am\", \"is\", \"are\", \"was\", \"were\", \"be\", \"been\", \"being\", \"have\", \"has\", \"had\", \r\n",
    "        \"having\", \"do\", \"does\", \"did\", \"doing\", \"a\", \"an\", \"the\", \"and\", \"but\", \"if\", \"or\", \"because\", \"as\", \"until\", \r\n",
    "        \"while\", \"of\", \"at\", \"by\", \"for\", \"with\", \"about\", \"against\", \"between\", \"into\", \"through\", \"during\", \"before\", \r\n",
    "        \"after\", \"above\", \"below\", \"to\", \"from\", \"up\", \"down\", \"in\", \"out\", \"on\", \"off\", \"over\", \"under\", \"again\", \r\n",
    "        \"further\", \"then\", \"once\", \"here\", \"there\", \"when\", \"where\", \"why\", \"how\", \"all\", \"any\", \"both\", \"each\", \"few\", \r\n",
    "        \"more\", \"most\", \"other\", \"some\", \"such\", \"no\", \"nor\", \"not\", \"only\", \"own\", \"same\", \"so\", \"than\", \"too\", \"very\", \r\n",
    "        \"s\", \"t\", \"can\", \"will\", \"just\", \"don\", \"should\", \"now\"\r\n",
    "    ]  # From: https://gist.github.com/sebleier/554280\r\n",
    "    words = {}\r\n",
    "    words[name] = data.content.str.cat(sep=\" \")\r\n",
    "    wordcount = len(words[name].split(\" \"))\r\n",
    "\r\n",
    "    clean_words = [\r\n",
    "        x.lower() for x in words[name].split(\" \") if x.lower() not in stop_words\r\n",
    "    ]\r\n",
    "    unique_words = set(words[name].split(\" \"))\r\n",
    "    print(\r\n",
    "        f\"Between {period_string}, {name} wrote {wordcount} words ({len(words[name])} characters)\"\r\n",
    "        f\" and used {len(unique_words)} different words.\"\r\n",
    "    )\r\n",
    "    # print(unique_words)\r\n",
    "\r\n",
    "    word_freq = pd.Series(clean_words).value_counts()\r\n",
    "    top = 40\r\n",
    "    # print(word_freq.iloc[:top])\r\n",
    "    try:\r\n",
    "        word_freq.iloc[:top].plot.barh()\r\n",
    "        plt.title(f\"{name}'s top {top} most used words\")\r\n",
    "        plt.tight_layout()\r\n",
    "        plt.savefig(f\"convo_graphs/{name}'s most used words\")\r\n",
    "        plt.show()\r\n",
    "    except Exception as e:\r\n",
    "        print(name, e)\r\n"
   ]
  },
  {
   "cell_type": "code",
   "execution_count": null,
   "metadata": {},
   "outputs": [],
   "source": [
    "if RUN_HEAVY:\r\n",
    "    for name, data in df.groupby(\"sender_name\"):\r\n",
    "        sumarise_convo(name, data)"
   ]
  },
  {
   "cell_type": "code",
   "execution_count": null,
   "metadata": {},
   "outputs": [],
   "source": [
    "def time_to_seconds(dt):\r\n",
    "    t = dt.time()\r\n",
    "    seconds = (t.hour * 60 + t.minute) * 60 + t.second\r\n",
    "    return seconds\r\n",
    "\r\n",
    "\r\n",
    "df[\"date\"] = df.datetime.apply(lambda x: x.date())\r\n",
    "df[\"time\"] = df.datetime.apply(lambda x: x.time())\r\n",
    "df[\"seconds\"] = df.datetime.apply(time_to_seconds)\r\n",
    "df.sample(5)\r\n"
   ]
  },
  {
   "cell_type": "code",
   "execution_count": null,
   "metadata": {},
   "outputs": [],
   "source": [
    "if RUN_HEAVY:\r\n",
    "    fig = plt.figure()\r\n",
    "    ax = fig.add_subplot(111)\r\n",
    "    ax.scatter(df.date, df.seconds, s=100, alpha=0.04)\r\n",
    "    ax.yaxis_date()\r\n",
    "    fig.autofmt_xdate()\r\n",
    "\r\n",
    "    plt.show()\r\n"
   ]
  },
  {
   "cell_type": "markdown",
   "metadata": {},
   "source": [
    "So, this makes sense to me, but it's a bit gross. The y axis is all messed up, it should be showing time, not number of seconds. I'm also not sure if time goes forward up or down the page.\r\n",
    "\r\n",
    "It'd be good to work out a way of identifying sleep periods. Maybe that's a period that starts after 10pm that's offline for more than 4 hours?"
   ]
  },
  {
   "cell_type": "code",
   "execution_count": null,
   "metadata": {},
   "outputs": [],
   "source": [
    "if RUN_HEAVY:\r\n",
    "    plot = sns.lmplot(\r\n",
    "        x=\"date\",\r\n",
    "        y=\"seconds\",\r\n",
    "        data=df,\r\n",
    "        # data=all_convo_df,\r\n",
    "        hue=\"sender_name\",\r\n",
    "        fit_reg=False,\r\n",
    "        legend=True,\r\n",
    "        palette=\"Set2\",\r\n",
    "        col=\"sender_name\",\r\n",
    "        col_wrap=4,\r\n",
    "        scatter_kws=dict(s=80, alpha=0.2),\r\n",
    "        height=7,\r\n",
    "        aspect=10 / 7,\r\n",
    "    )\r\n"
   ]
  },
  {
   "cell_type": "code",
   "execution_count": null,
   "metadata": {},
   "outputs": [],
   "source": [
    "if RUN_HEAVY:\r\n",
    "    sns.set(rc={\"figure.figsize\": (10, 10)})\r\n",
    "    plot = sns.lmplot(\r\n",
    "        x=\"date\",\r\n",
    "        y=\"seconds\",\r\n",
    "        data=df,\r\n",
    "        hue=\"sender_name\",\r\n",
    "        markers=[\"x\", \"x\"],\r\n",
    "        fit_reg=False,\r\n",
    "        legend=True,\r\n",
    "        palette=\"Set1\",\r\n",
    "        scatter_kws=dict(s=80, alpha=0.1),\r\n",
    "        height=20,\r\n",
    "        aspect=20 / 20,\r\n",
    "    )\r\n",
    "    # plt.xticks(rotation=45);\r\n"
   ]
  },
  {
   "cell_type": "code",
   "execution_count": null,
   "metadata": {},
   "outputs": [],
   "source": [
    "try:\r\n",
    "    df.set_index(\"datetime\", inplace=True)\r\n",
    "except:\r\n",
    "    pass # already set\r\n",
    "df[\"window_30min\"] = df['sender_name'].rolling(\"30min\").count()\r\n",
    "if RUN_HEAVY:\r\n",
    "    df.window_30min.plot()\r\n",
    "    plt.title(\"Messages sent per 30 minute rolling window\")"
   ]
  },
  {
   "cell_type": "code",
   "execution_count": null,
   "metadata": {},
   "outputs": [],
   "source": [
    "if RUN_HEAVY:\r\n",
    "    df[\"binary_convo_in_window\"] = df.window_30min.apply(lambda x: 0 if x<2 else 1)\r\n",
    "    df.binary_convo_in_window.plot()"
   ]
  },
  {
   "cell_type": "code",
   "execution_count": null,
   "metadata": {},
   "outputs": [],
   "source": []
  },
  {
   "cell_type": "code",
   "execution_count": null,
   "metadata": {},
   "outputs": [],
   "source": [
    "def contains_convo(ser):\r\n",
    "    \"\"\"Mark a rolling window if it contains a \"conversation\" or not.\r\n",
    "\r\n",
    "    The rolling apply is a bit unintuitive as it passes only the index, not the \r\n",
    "    section of data frame that we're interested in. We need to use the index to \r\n",
    "    get the bit of the main DF that we're interested in, out of it.\r\n",
    "\r\n",
    "    The definition of a conversation is pretty basic, more than one person, more \r\n",
    "    than 3 messages, in the time window.\r\n",
    "\r\n",
    "    Args:\r\n",
    "        ser (pd.core.series.Series): The section of the index that is the window\r\n",
    "\r\n",
    "    Returns:\r\n",
    "        int: 1 for True, 0 for False\r\n",
    "    \"\"\"\r\n",
    "    \r\n",
    "    rows = df.loc[ser.index]\r\n",
    "    # print(rows.shape, rows.sender_name.unique())\r\n",
    "    try:\r\n",
    "        if rows.shape[0] < 3:\r\n",
    "            # conversation must have more than 3 messages\r\n",
    "            return 0\r\n",
    "        elif len(rows.sender_name.unique()) <= 1:\r\n",
    "            # conversation must have more than one person in it\r\n",
    "            return 0\r\n",
    "        else:\r\n",
    "            return 1\r\n",
    "    except Exception as e:\r\n",
    "        print(e)\r\n",
    "        return 0\r\n",
    "\r\n",
    "\r\n",
    "# df[\"fancy_binary_convo_in_window\"]\r\n",
    "# temp = df.iloc[:5000]\r\n",
    "# print(temp.head(2))\r\n",
    "# print(temp.shape)\r\n",
    "x = df.rolling(\"30min\").apply(contains_convo, raw=False)[\"timestamp_ms\"]\r\n",
    "# Arbitrary column\r\n",
    "x.head()\r\n"
   ]
  },
  {
   "cell_type": "code",
   "execution_count": null,
   "metadata": {},
   "outputs": [],
   "source": [
    "x.plot()"
   ]
  }
 ],
 "metadata": {
  "interpreter": {
   "hash": "0bc9a1eeff4ba10b0800c01e5b0b872b265b92561193d5706117af22821f4cc2"
  },
  "kernelspec": {
   "display_name": "Python 3.9.5 64-bit ('dp-env': venv)",
   "name": "python3"
  },
  "language_info": {
   "codemirror_mode": {
    "name": "ipython",
    "version": 3
   },
   "file_extension": ".py",
   "mimetype": "text/x-python",
   "name": "python",
   "nbconvert_exporter": "python",
   "pygments_lexer": "ipython3",
   "version": "3.9.5"
  }
 },
 "nbformat": 4,
 "nbformat_minor": 2
}
