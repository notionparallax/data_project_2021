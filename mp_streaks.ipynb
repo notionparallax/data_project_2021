{
 "cells": [
  {
   "cell_type": "markdown",
   "metadata": {},
   "source": [
    "# Firsts\n",
    "\n",
    "If we consider all the messages ever sent to, and recieved by, _the corpus_, when did each word enter the corpus? Who put it there? What does it say about a person if they put a lot of new words into the corpus, and what even is a word? "
   ]
  },
  {
   "cell_type": "markdown",
   "metadata": {},
   "source": [
    "---\n",
    "\n",
    "Load up a tonne of libraries"
   ]
  },
  {
   "cell_type": "code",
   "execution_count": 1,
   "metadata": {},
   "outputs": [],
   "source": [
    "import datetime\n",
    "import json\n",
    "import os\n",
    "import pickle\n",
    "import random\n",
    "import re\n",
    "import textwrap\n",
    "from pathlib import Path\n",
    "from collections import OrderedDict\n",
    "\n",
    "import matplotlib as mpl\n",
    "import matplotlib.dates as mdates\n",
    "import matplotlib.pyplot as plt\n",
    "from matplotlib.font_manager import FontProperties\n",
    "from matplotlib.ticker import MultipleLocator, FixedFormatter, FixedLocator\n",
    "import numpy as np\n",
    "import pandas as pd\n",
    "import seaborn as sns\n",
    "from scipy.optimize import curve_fit\n",
    "from scipy.spatial import ConvexHull\n",
    "\n",
    "import message_helpers as mh\n",
    "from hangouts_loader import load_hangouts\n"
   ]
  },
  {
   "cell_type": "code",
   "execution_count": 2,
   "metadata": {},
   "outputs": [],
   "source": [
    "plt.rcParams[\"figure.figsize\"] = (20, 10)\n",
    "plt.rcParams[\"font.sans-serif\"] = [\"Segoe UI Emoji\"]\n"
   ]
  },
  {
   "cell_type": "code",
   "execution_count": 3,
   "metadata": {},
   "outputs": [],
   "source": [
    "pickle_name = \"all_convo.pickle\"\n",
    "pickle_path = Path(pickle_name)\n"
   ]
  },
  {
   "cell_type": "markdown",
   "metadata": {},
   "source": [
    "Set your name here. This is so that you can take yourself out of some of the graphs. Because these are conversations, naievely, they go A B A B and so on, so you'll be roughly 50% of the messages, which makes other trends hard to see."
   ]
  },
  {
   "cell_type": "code",
   "execution_count": 4,
   "metadata": {},
   "outputs": [],
   "source": [
    "MY_NAME = \"Ben Doherty\"\n"
   ]
  },
  {
   "cell_type": "code",
   "execution_count": 5,
   "metadata": {},
   "outputs": [
    {
     "name": "stdout",
     "output_type": "stream",
     "text": [
      "done: all_convo_df has 951556 rows\n"
     ]
    },
    {
     "data": {
      "text/html": [
       "<div>\n",
       "<style scoped>\n",
       "    .dataframe tbody tr th:only-of-type {\n",
       "        vertical-align: middle;\n",
       "    }\n",
       "\n",
       "    .dataframe tbody tr th {\n",
       "        vertical-align: top;\n",
       "    }\n",
       "\n",
       "    .dataframe thead th {\n",
       "        text-align: right;\n",
       "    }\n",
       "</style>\n",
       "<table border=\"1\" class=\"dataframe\">\n",
       "  <thead>\n",
       "    <tr style=\"text-align: right;\">\n",
       "      <th></th>\n",
       "      <th>sender_name</th>\n",
       "      <th>timestamp_ms</th>\n",
       "      <th>content</th>\n",
       "      <th>type</th>\n",
       "      <th>is_unsent</th>\n",
       "      <th>users</th>\n",
       "      <th>source_convo</th>\n",
       "      <th>datetime</th>\n",
       "      <th>message_length</th>\n",
       "      <th>platform</th>\n",
       "      <th>...</th>\n",
       "      <th>ip</th>\n",
       "      <th>gifs</th>\n",
       "      <th>files</th>\n",
       "      <th>audio_files</th>\n",
       "      <th>missed</th>\n",
       "      <th>event_id</th>\n",
       "      <th>input_names</th>\n",
       "      <th>initials</th>\n",
       "      <th>gender</th>\n",
       "      <th>clean_content</th>\n",
       "    </tr>\n",
       "  </thead>\n",
       "  <tbody>\n",
       "    <tr>\n",
       "      <th>0</th>\n",
       "      <td>Ben Doherty</td>\n",
       "      <td>1.521518e+12</td>\n",
       "      <td>This probably isn't the best name for this</td>\n",
       "      <td>Generic</td>\n",
       "      <td>False</td>\n",
       "      <td>NaN</td>\n",
       "      <td>1161remedialsessions_b_fdlwp_va</td>\n",
       "      <td>2018-03-20 14:47:48.721</td>\n",
       "      <td>42</td>\n",
       "      <td>Facebook</td>\n",
       "      <td>...</td>\n",
       "      <td>NaN</td>\n",
       "      <td>NaN</td>\n",
       "      <td>NaN</td>\n",
       "      <td>NaN</td>\n",
       "      <td>NaN</td>\n",
       "      <td>NaN</td>\n",
       "      <td>Ben Doherty</td>\n",
       "      <td>BD</td>\n",
       "      <td>me</td>\n",
       "      <td>probably isn't best name</td>\n",
       "    </tr>\n",
       "    <tr>\n",
       "      <th>1</th>\n",
       "      <td>Ben Doherty</td>\n",
       "      <td>1.521503e+12</td>\n",
       "      <td>You waved hello to the group.</td>\n",
       "      <td>Share</td>\n",
       "      <td>False</td>\n",
       "      <td>NaN</td>\n",
       "      <td>1161remedialsessions_b_fdlwp_va</td>\n",
       "      <td>2018-03-20 10:44:18.115</td>\n",
       "      <td>29</td>\n",
       "      <td>Facebook</td>\n",
       "      <td>...</td>\n",
       "      <td>NaN</td>\n",
       "      <td>NaN</td>\n",
       "      <td>NaN</td>\n",
       "      <td>NaN</td>\n",
       "      <td>NaN</td>\n",
       "      <td>NaN</td>\n",
       "      <td>Ben Doherty</td>\n",
       "      <td>BD</td>\n",
       "      <td>me</td>\n",
       "      <td>waved hello group</td>\n",
       "    </tr>\n",
       "    <tr>\n",
       "      <th>2</th>\n",
       "      <td>Ben Doherty</td>\n",
       "      <td>1.600076e+12</td>\n",
       "      <td>Oops</td>\n",
       "      <td>Generic</td>\n",
       "      <td>False</td>\n",
       "      <td>NaN</td>\n",
       "      <td>40thbirthdaydinner_xskxnp_jva</td>\n",
       "      <td>2020-09-14 19:40:35.115</td>\n",
       "      <td>4</td>\n",
       "      <td>Facebook</td>\n",
       "      <td>...</td>\n",
       "      <td>NaN</td>\n",
       "      <td>NaN</td>\n",
       "      <td>NaN</td>\n",
       "      <td>NaN</td>\n",
       "      <td>NaN</td>\n",
       "      <td>NaN</td>\n",
       "      <td>Ben Doherty</td>\n",
       "      <td>BD</td>\n",
       "      <td>me</td>\n",
       "      <td>oops</td>\n",
       "    </tr>\n",
       "    <tr>\n",
       "      <th>3</th>\n",
       "      <td>Ben Doherty</td>\n",
       "      <td>1.600076e+12</td>\n",
       "      <td>This poll is no longer available.</td>\n",
       "      <td>Generic</td>\n",
       "      <td>False</td>\n",
       "      <td>NaN</td>\n",
       "      <td>40thbirthdaydinner_xskxnp_jva</td>\n",
       "      <td>2020-09-14 19:40:24.749</td>\n",
       "      <td>33</td>\n",
       "      <td>Facebook</td>\n",
       "      <td>...</td>\n",
       "      <td>NaN</td>\n",
       "      <td>NaN</td>\n",
       "      <td>NaN</td>\n",
       "      <td>NaN</td>\n",
       "      <td>NaN</td>\n",
       "      <td>NaN</td>\n",
       "      <td>Ben Doherty</td>\n",
       "      <td>BD</td>\n",
       "      <td>me</td>\n",
       "      <td>poll longer available</td>\n",
       "    </tr>\n",
       "    <tr>\n",
       "      <th>4</th>\n",
       "      <td>Ben Doherty</td>\n",
       "      <td>1.600076e+12</td>\n",
       "      <td>This poll is no longer available.</td>\n",
       "      <td>Generic</td>\n",
       "      <td>False</td>\n",
       "      <td>NaN</td>\n",
       "      <td>40thbirthdaydinner_xskxnp_jva</td>\n",
       "      <td>2020-09-14 19:40:10.299</td>\n",
       "      <td>33</td>\n",
       "      <td>Facebook</td>\n",
       "      <td>...</td>\n",
       "      <td>NaN</td>\n",
       "      <td>NaN</td>\n",
       "      <td>NaN</td>\n",
       "      <td>NaN</td>\n",
       "      <td>NaN</td>\n",
       "      <td>NaN</td>\n",
       "      <td>Ben Doherty</td>\n",
       "      <td>BD</td>\n",
       "      <td>me</td>\n",
       "      <td>poll longer available</td>\n",
       "    </tr>\n",
       "  </tbody>\n",
       "</table>\n",
       "<p>5 rows × 26 columns</p>\n",
       "</div>"
      ],
      "text/plain": [
       "   sender_name  timestamp_ms                                     content  \\\n",
       "0  Ben Doherty  1.521518e+12  This probably isn't the best name for this   \n",
       "1  Ben Doherty  1.521503e+12               You waved hello to the group.   \n",
       "2  Ben Doherty  1.600076e+12                                        Oops   \n",
       "3  Ben Doherty  1.600076e+12           This poll is no longer available.   \n",
       "4  Ben Doherty  1.600076e+12           This poll is no longer available.   \n",
       "\n",
       "      type  is_unsent users                     source_convo  \\\n",
       "0  Generic      False   NaN  1161remedialsessions_b_fdlwp_va   \n",
       "1    Share      False   NaN  1161remedialsessions_b_fdlwp_va   \n",
       "2  Generic      False   NaN    40thbirthdaydinner_xskxnp_jva   \n",
       "3  Generic      False   NaN    40thbirthdaydinner_xskxnp_jva   \n",
       "4  Generic      False   NaN    40thbirthdaydinner_xskxnp_jva   \n",
       "\n",
       "                 datetime  message_length  platform  ...   ip gifs  files  \\\n",
       "0 2018-03-20 14:47:48.721              42  Facebook  ...  NaN  NaN    NaN   \n",
       "1 2018-03-20 10:44:18.115              29  Facebook  ...  NaN  NaN    NaN   \n",
       "2 2020-09-14 19:40:35.115               4  Facebook  ...  NaN  NaN    NaN   \n",
       "3 2020-09-14 19:40:24.749              33  Facebook  ...  NaN  NaN    NaN   \n",
       "4 2020-09-14 19:40:10.299              33  Facebook  ...  NaN  NaN    NaN   \n",
       "\n",
       "  audio_files missed event_id  input_names initials gender  \\\n",
       "0         NaN    NaN      NaN  Ben Doherty       BD     me   \n",
       "1         NaN    NaN      NaN  Ben Doherty       BD     me   \n",
       "2         NaN    NaN      NaN  Ben Doherty       BD     me   \n",
       "3         NaN    NaN      NaN  Ben Doherty       BD     me   \n",
       "4         NaN    NaN      NaN  Ben Doherty       BD     me   \n",
       "\n",
       "              clean_content  \n",
       "0  probably isn't best name  \n",
       "1         waved hello group  \n",
       "2                      oops  \n",
       "3     poll longer available  \n",
       "4     poll longer available  \n",
       "\n",
       "[5 rows x 26 columns]"
      ]
     },
     "execution_count": 5,
     "metadata": {},
     "output_type": "execute_result"
    }
   ],
   "source": [
    "all_convo_df = pd.read_pickle(pickle_path)\n",
    "print(f\"done: all_convo_df has {all_convo_df.shape[0]} rows\")\n",
    "all_convo_df.head()\n"
   ]
  },
  {
   "cell_type": "code",
   "execution_count": 6,
   "metadata": {},
   "outputs": [
    {
     "name": "stdout",
     "output_type": "stream",
     "text": [
      "Overall, there are 951556, messages in this dataset. These come from about 87 people, covering a period of 5472 days between January, 2007 and December, 2021. Over 3 platforms:\n"
     ]
    },
    {
     "data": {
      "text/plain": [
       "Facebook     750279\n",
       "Hangouts     129683\n",
       "Instagram     71594\n",
       "Name: platform, dtype: int64"
      ]
     },
     "execution_count": 6,
     "metadata": {},
     "output_type": "execute_result"
    }
   ],
   "source": [
    "print(\n",
    "    f\"Overall, there are {len(all_convo_df)}, messages in this dataset. \"\n",
    "    f\"These come from about {len(all_convo_df.sender_name.unique())} people, \"\n",
    "    f\"covering a period of {str(all_convo_df.datetime.max()-all_convo_df.datetime.min()).split(' days')[0]} days \"\n",
    "    f\"between {all_convo_df.datetime.min():%B, %Y} and {all_convo_df.datetime.max():%B, %Y}. \"\n",
    "    f\"Over {len(all_convo_df.platform.unique())} platforms:\"\n",
    ")\n",
    "all_convo_df.platform.value_counts()\n"
   ]
  },
  {
   "cell_type": "code",
   "execution_count": 10,
   "metadata": {},
   "outputs": [
    {
     "data": {
      "text/plain": [
       "Ben Doherty             492887\n",
       "Meike Wijers             67526\n",
       "Irina Belova             50729\n",
       "Ivana Kuzmanovska        44311\n",
       "Lucy Rimmer              39013\n",
       "Jenn Martin              34331\n",
       "Bree-Danielle Wyatt      21717\n",
       "Maddie Johanson          12670\n",
       "Charles Ogilvie          12314\n",
       "Natalie Barnes           10703\n",
       "David Wilcox              9482\n",
       "Annisa Rivera Rizal       9253\n",
       "Katherine Withnell        8627\n",
       "Erika Bloomingdale        7588\n",
       "Alessandra Moschella      7557\n",
       "Elizabeth Deacon          7468\n",
       "Jülz Milthorpe            7273\n",
       "Byron Sullivan            6880\n",
       "Sarah Maloof              5700\n",
       "Nazmul Azim Khan          5568\n",
       "Name: sender_name, dtype: int64"
      ]
     },
     "execution_count": 10,
     "metadata": {},
     "output_type": "execute_result"
    }
   ],
   "source": [
    "all_convo_df.sender_name.value_counts()[:20]"
   ]
  },
  {
   "cell_type": "markdown",
   "metadata": {},
   "source": [
    "# Finding streaks\n",
    "\n",
    "The goal here is to see how long communication is maintained over different sized periods.\n",
    "\n",
    "Using [this](https://joshdevlin.com/blog/calculate-streaks-in-pandas/) as a guide, lets start by looking at streaks in just one person's comms."
   ]
  },
  {
   "cell_type": "code",
   "execution_count": null,
   "metadata": {},
   "outputs": [],
   "source": [
    "person_of_intrerest = \"Meike Wijers\"\n",
    "period = \"1d\""
   ]
  },
  {
   "cell_type": "code",
   "execution_count": null,
   "metadata": {},
   "outputs": [],
   "source": [
    "mw_df = all_convo_df[all_convo_df.sender_name == person_of_intrerest]\n",
    "mw_df.head()"
   ]
  },
  {
   "cell_type": "code",
   "execution_count": null,
   "metadata": {},
   "outputs": [],
   "source": [
    "mpd = mw_df.set_index(\"datetime\").groupby(pd.Grouper(freq=period)).count().sender_name\n",
    "mpd.plot()\n",
    "plt.title(f\"Number of messages per day recieved from {person_of_intrerest}\")\n"
   ]
  },
  {
   "cell_type": "code",
   "execution_count": null,
   "metadata": {},
   "outputs": [],
   "source": [
    "m_df = mpd.to_frame(name=\"message_count\")\n",
    "m_df[\"message_flag\"] = m_df.message_count.apply(lambda x: x > 0)\n",
    "m_df[\"start_of_streak\"] = m_df.message_flag.ne(m_df.message_flag.shift())\n",
    "m_df[\"streak_id\"] = m_df.start_of_streak.cumsum()\n",
    "m_df[\"streak_counter\"] = m_df.groupby(\"streak_id\").cumcount() + 1\n",
    "m_df.streak_counter = m_df.apply(\n",
    "    lambda row: row.streak_counter if row.message_flag else 0,\n",
    "    axis=1\n",
    ")\n",
    "m_df.head()\n"
   ]
  },
  {
   "cell_type": "code",
   "execution_count": null,
   "metadata": {},
   "outputs": [],
   "source": [
    "m_df[\"streak_counter\"].plot()\n",
    "plt.title(\n",
    "    f\"Length of streaks of conversations with {person_of_intrerest}\\n\"\n",
    "    f\"Where the period is {period}\"\n",
    ")\n",
    "plt.ylabel(f\"number of {period}s of continuous communication\")"
   ]
  },
  {
   "cell_type": "code",
   "execution_count": null,
   "metadata": {},
   "outputs": [],
   "source": [
    "def make_streak_df(convo_df, period=\"1d\"):\n",
    "    poi_list = []\n",
    "    for person_of_intrerest in convo_df.sender_name.unique():\n",
    "        mw_df = convo_df[convo_df.sender_name == person_of_intrerest]\n",
    "        mpd = (\n",
    "            mw_df.set_index(\"datetime\")\n",
    "            .groupby(pd.Grouper(freq=period))\n",
    "            .count()\n",
    "            .sender_name\n",
    "        )\n",
    "        m_df = mpd.to_frame(name=\"message_count\")\n",
    "        m_df[\"message_flag\"] = m_df.message_count.apply(lambda x: x > 0)\n",
    "        m_df[\"start_of_streak\"] = m_df.message_flag.ne(m_df.message_flag.shift())\n",
    "        m_df[\"streak_id\"] = m_df.start_of_streak.cumsum()\n",
    "        m_df[\"streak_counter\"] = m_df.groupby(\"streak_id\").cumcount() + 1\n",
    "        m_df.streak_counter = m_df.apply(\n",
    "            lambda row: row.streak_counter\n",
    "            if row.message_flag\n",
    "            else (-1 * row.streak_counter),\n",
    "            axis=1,\n",
    "        )\n",
    "        s = m_df.streak_counter\n",
    "        s.index = s.index.normalize()\n",
    "        poi_list.append(s.to_frame(name=person_of_intrerest))\n",
    "\n",
    "    everyone_df = pd.concat(poi_list, axis=\"index\")\n",
    "    # This last step is really nasty. I can't work out why it's not concatenating \n",
    "    # the DFs nicely and merging the common index values.\n",
    "    everyone_df = everyone_df.groupby(pd.Grouper(freq=period)).sum() \n",
    "    return everyone_df\n",
    "\n",
    "\n",
    "everyone_df = make_streak_df(all_convo_df, \"1d\")\n"
   ]
  },
  {
   "cell_type": "code",
   "execution_count": null,
   "metadata": {},
   "outputs": [],
   "source": [
    "def plot_streak_graph(\n",
    "    df,\n",
    "    period=\"1d\",\n",
    "    period_name=\"days\",\n",
    "    time_span=[\"2013-01-01\", \"2022-01-05\"],\n",
    "    ylim=[0, 500],\n",
    "):\n",
    "    plt.style.use(\"ggplot\")\n",
    "\n",
    "    trim = df.drop(MY_NAME, axis=\"columns\")\n",
    "    trim.fillna(0).plot(kind=\"line\", style=\"-\", legend=None)\n",
    "    # trim.interpolate().plot(kind=\"line\", style=\"-\", legend=None)\n",
    "\n",
    "    if time_span:\n",
    "        plt.xlim(time_span)\n",
    "    else:\n",
    "        time_span = [df.index[0], df.index[-1]]\n",
    "    if ylim:\n",
    "        plt.ylim(ylim)\n",
    "    else:\n",
    "        for col in trim:\n",
    "            peak = trim[col].min()\n",
    "            peak_idx = trim[col].idxmin()\n",
    "            plt.annotate(\n",
    "                f\"{col} ({peak} {period_name})\",\n",
    "                (peak_idx, peak),\n",
    "                rotation=90,\n",
    "                ha=\"left\",\n",
    "            )\n",
    "    # Rotate text (https://matplotlib.org/3.1.1/gallery/text_labels_and_annotations/text_rotation_relative_to_line.html)\n",
    "    raw_ang = np.array((45,))\n",
    "    l2 = np.array((1, 1))\n",
    "    trans_ang = plt.gca().transData.transform_angles(raw_ang, l2.reshape((1, 2)))[0]\n",
    "\n",
    "    for col in trim:\n",
    "        peak = trim[col].max()\n",
    "        peak_idx = trim[col].idxmax()\n",
    "        plt.annotate(\n",
    "            f\"{col} ({int(peak)} {period_name}) {peak_idx.strftime('%b %d')}\",\n",
    "            (peak_idx, peak),\n",
    "            rotation=trans_ang,\n",
    "            ha=\"left\",\n",
    "        )\n",
    "\n",
    "    # plt.legend(ncol=5)\n",
    "    plt.title(\n",
    "        f\"Length of streaks of conversations during the period {time_span[0]} to {time_span[1]}\\n\"\n",
    "        f\"Where the period is {period}\"\n",
    "    )\n",
    "    plt.ylabel(f\"number of {period}s of continuous communication\")\n",
    "    plt.show()\n",
    "\n",
    "\n",
    "plot_streak_graph(everyone_df, period=\"1d\", period_name=\"days\", ylim=[0, 400])\n"
   ]
  },
  {
   "cell_type": "code",
   "execution_count": null,
   "metadata": {},
   "outputs": [],
   "source": [
    "everyone_df = make_streak_df(all_convo_df, \"1d\")\n",
    "plot_streak_graph(everyone_df, period=\"1d\", time_span=False, period_name=\"days\", ylim=[0, 400])\n",
    "plot_streak_graph(everyone_df, period=\"1d\", period_name=\"days\", ylim=[0, 400])"
   ]
  },
  {
   "cell_type": "code",
   "execution_count": null,
   "metadata": {},
   "outputs": [],
   "source": []
  },
  {
   "cell_type": "code",
   "execution_count": null,
   "metadata": {},
   "outputs": [],
   "source": [
    "everyone_df = make_streak_df(all_convo_df, \"7d\")\n",
    "plot_streak_graph(everyone_df, period=\"7d\", period_name=\"weeks\", ylim=False)\n",
    "plot_streak_graph(everyone_df, period=\"1w\", period_name=\"weeks\", ylim=[0, 250])"
   ]
  },
  {
   "cell_type": "code",
   "execution_count": null,
   "metadata": {},
   "outputs": [],
   "source": [
    "everyone_df = make_streak_df(all_convo_df, \"1m\")\n",
    "plot_streak_graph(everyone_df, period=\"1m\", period_name=\"months\", ylim=False)"
   ]
  }
 ],
 "metadata": {
  "interpreter": {
   "hash": "0bc9a1eeff4ba10b0800c01e5b0b872b265b92561193d5706117af22821f4cc2"
  },
  "kernelspec": {
   "display_name": "Python 3.9.5 64-bit ('dp-env': venv)",
   "name": "python3"
  },
  "language_info": {
   "codemirror_mode": {
    "name": "ipython",
    "version": 3
   },
   "file_extension": ".py",
   "mimetype": "text/x-python",
   "name": "python",
   "nbconvert_exporter": "python",
   "pygments_lexer": "ipython3",
   "version": "3.9.9"
  }
 },
 "nbformat": 4,
 "nbformat_minor": 2
}
