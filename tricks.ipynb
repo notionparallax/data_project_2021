{
 "cells": [
  {
   "cell_type": "markdown",
   "metadata": {
    "slideshow": {
     "slide_type": "slide"
    }
   },
   "source": [
    "# Tricks"
   ]
  },
  {
   "cell_type": "markdown",
   "metadata": {},
   "source": [
    "First, lets make some variables that we can do things to as a demo:"
   ]
  },
  {
   "cell_type": "code",
   "execution_count": null,
   "metadata": {
    "slideshow": {
     "slide_type": "slide"
    }
   },
   "outputs": [],
   "source": [
    "pets = [\"dog\", \"goat\", \"pig\", \"sheep\", \"cattle\", \"zebu\", \"cat\", \"chicken\",\n",
    "        \"guinea pig\", \"donkey\", \"duck\", \"water buffalo\",\n",
    "        \"western honey bee\", \"dromedary camel\", \"horse\", \"silkmoth\",\n",
    "        \"pigeon\", \"goose\", \"yak\", \"bactrian camel\", \"llama\", \"alpaca\",\n",
    "        \"guineafowl\", \"ferret\", \"muscovy duck\", \"barbary dove\",\n",
    "        \"bali cattle\", \"gayal\", \"turkey\", \"goldfish\", \"rabbit\", \"koi\",\n",
    "        \"canary\", \"society finch\", \"fancy mouse\", \"siamese fighting fish\",\n",
    "        \"fancy rat and lab rat\", \"mink\", \"red fox\", \"hedgehog\", \"guppy\"]\n",
    "# pets = list(range(40))\n",
    "\n",
    "numbers = list(range(30))\n",
    "\n",
    "message_dict = {\"name\": \"Ben\",\n",
    "                \"Year\": 2017,\n",
    "                \"Location\": \"Sydney\",\n",
    "                \"Greeting\": \"Yo whatup now and give a brother room\",\n",
    "                \"Fact\": \"It would take 1,200,000 mosquitoes, each \" +\n",
    "                        \"sucking once, to completely drain the \" +\n",
    "                        \"average human of blood\",\n",
    "                \"Alphabet Inc Class A\": \"847.80USD\",\n",
    "                \"fruit\": [\"apple\", \"apricot\", \"avocado\", \"abiu\"]}"
   ]
  },
  {
   "cell_type": "markdown",
   "metadata": {
    "slideshow": {
     "slide_type": "slide"
    }
   },
   "source": [
    "# Slicing\n",
    "\n",
    "This is a powerful Python idea that is now available in a few other languages.\n",
    "\n",
    "Try and come up with your own way to remember the syntax, and if you do, share it with me!"
   ]
  },
  {
   "cell_type": "code",
   "execution_count": null,
   "metadata": {
    "tags": []
   },
   "outputs": [],
   "source": [
    "print(\"[:10]\", pets[:10])"
   ]
  },
  {
   "cell_type": "code",
   "execution_count": null,
   "metadata": {
    "tags": []
   },
   "outputs": [],
   "source": [
    "print(\"\\n[35:]\", pets[35:])"
   ]
  },
  {
   "cell_type": "code",
   "execution_count": null,
   "metadata": {
    "tags": []
   },
   "outputs": [],
   "source": [
    "print(\"\\n[4:20]\", pets[4:20])"
   ]
  },
  {
   "cell_type": "code",
   "execution_count": null,
   "metadata": {
    "tags": []
   },
   "outputs": [],
   "source": [
    "print(\"\\n[:-35]\", pets[:-35])"
   ]
  },
  {
   "cell_type": "code",
   "execution_count": null,
   "metadata": {
    "tags": []
   },
   "outputs": [],
   "source": [
    "print(\"\\n[::-1]\", pets[::-1])"
   ]
  },
  {
   "cell_type": "code",
   "execution_count": null,
   "metadata": {},
   "outputs": [],
   "source": [
    "some_pets = pets[4:10]\n",
    "some_pets"
   ]
  },
  {
   "cell_type": "markdown",
   "metadata": {
    "slideshow": {
     "slide_type": "slide"
    }
   },
   "source": [
    "# Append vs Extend\n",
    "\n",
    "We've seen append a lot, it adds something to a list.\n",
    "\n",
    "_Extend_ works on lists, and adds the _contents_ of the list to a list. It's rare that you'll need it, but it's really helpful when you do."
   ]
  },
  {
   "cell_type": "code",
   "execution_count": null,
   "metadata": {
    "slideshow": {
     "slide_type": "fragment"
    },
    "tags": []
   },
   "outputs": [],
   "source": [
    "new_list = []\n",
    "new_list.append(numbers)\n",
    "new_list.append(some_pets)\n",
    "print(new_list)"
   ]
  },
  {
   "cell_type": "code",
   "execution_count": null,
   "metadata": {
    "slideshow": {
     "slide_type": "fragment"
    },
    "tags": []
   },
   "outputs": [],
   "source": [
    "another_new_list = []\n",
    "another_new_list.extend(numbers)\n",
    "another_new_list.extend(some_pets)\n",
    "print(another_new_list)"
   ]
  },
  {
   "cell_type": "markdown",
   "metadata": {
    "slideshow": {
     "slide_type": "slide"
    }
   },
   "source": [
    "# Truthy values\n",
    "\n",
    "You don't always need to say `x == True`, if `x` is _truthy_, you can use it directly."
   ]
  },
  {
   "cell_type": "code",
   "execution_count": null,
   "metadata": {
    "slideshow": {
     "slide_type": "fragment"
    }
   },
   "outputs": [],
   "source": [
    "thing = False\n",
    "if thing:\n",
    "    print(\"You'll never see me\")"
   ]
  },
  {
   "cell_type": "code",
   "execution_count": null,
   "metadata": {
    "tags": []
   },
   "outputs": [],
   "source": [
    "if \"\":\n",
    "    print(\"Empty strings are falsy\")\n",
    "if \"Hello\":\n",
    "    print(\"Non empty strings are truthy\")\n",
    "if 0:\n",
    "    print(\"Zero is falsy\")\n",
    "if 6:\n",
    "    print(\"Non-zero numbers are truthy\")\n",
    "if -7:\n",
    "    print(\"Non-zero numbers are truthy, even negative ones\")\n",
    "if []:\n",
    "    print(\"Empty lists are falsy\")\n",
    "if [\"stuff\"]:\n",
    "    print(\"Non empty lists are truthy...\")\n",
    "if [False]:\n",
    "    print(\"...even if they're full of falsy things\")\n",
    "if None:\n",
    "    print(\"None is falsy\")\n",
    "if False:\n",
    "    print(\"False is falsy\")\n",
    "if True:\n",
    "    print(\"True is truthy\")"
   ]
  },
  {
   "cell_type": "code",
   "execution_count": null,
   "metadata": {
    "slideshow": {
     "slide_type": "fragment"
    },
    "tags": []
   },
   "outputs": [],
   "source": [
    "thing = \"hi!\"\n",
    "if thing:\n",
    "    print(\"Woah, look at me!\" )"
   ]
  },
  {
   "cell_type": "code",
   "execution_count": null,
   "metadata": {
    "slideshow": {
     "slide_type": "fragment"
    }
   },
   "outputs": [],
   "source": [
    "thing = None\n",
    "if thing:\n",
    "    print(\"I'm a sneaky snake\")"
   ]
  },
  {
   "cell_type": "markdown",
   "metadata": {
    "slideshow": {
     "slide_type": "slide"
    }
   },
   "source": [
    "# List comprehensions"
   ]
  },
  {
   "cell_type": "code",
   "execution_count": null,
   "metadata": {
    "slideshow": {
     "slide_type": "fragment"
    },
    "tags": []
   },
   "outputs": [],
   "source": [
    "pet_name_lengths = []\n",
    "for p in pets:\n",
    "    pet_name_lengths.append(len(p))\n",
    "    \n",
    "print(pet_name_lengths)"
   ]
  },
  {
   "cell_type": "code",
   "execution_count": null,
   "metadata": {
    "slideshow": {
     "slide_type": "fragment"
    },
    "tags": []
   },
   "outputs": [],
   "source": [
    "pet_name_lengths = [len(p) for p in pets]\n",
    "print(pet_name_lengths)"
   ]
  },
  {
   "cell_type": "code",
   "execution_count": null,
   "metadata": {
    "tags": []
   },
   "outputs": [],
   "source": [
    "short_pets = [p for p in pets if len(p) < 6]\n",
    "print(short_pets)"
   ]
  },
  {
   "cell_type": "code",
   "execution_count": null,
   "metadata": {
    "tags": []
   },
   "outputs": [],
   "source": [
    "big_short_pets = [p.upper() for p in pets if len(p) < 6]\n",
    "print(big_short_pets)"
   ]
  },
  {
   "cell_type": "markdown",
   "metadata": {
    "slideshow": {
     "slide_type": "slide"
    }
   },
   "source": [
    "# λambdas \n",
    "\n",
    "Lambdas are anonymous functions. They're used a bit as Pandas apply functions, but they're a bit crap these days (in python 3), and comprehensions will usually do the job.\n",
    "\n",
    "They're massive in javascript, so often if people are converting, they'll reach for them."
   ]
  },
  {
   "cell_type": "code",
   "execution_count": null,
   "metadata": {
    "slideshow": {
     "slide_type": "fragment"
    },
    "tags": []
   },
   "outputs": [],
   "source": [
    "def get_2x_len(my_string):\n",
    "    return len(my_string) * 2\n",
    "\n",
    "print(list(map(get_2x_len, pets)))"
   ]
  },
  {
   "cell_type": "code",
   "execution_count": null,
   "metadata": {
    "tags": []
   },
   "outputs": [],
   "source": [
    "print(list(map(lambda x: len(x) * 2, pets)))"
   ]
  },
  {
   "cell_type": "code",
   "execution_count": null,
   "metadata": {
    "tags": []
   },
   "outputs": [],
   "source": [
    "print([len(p) * 2 for p in pets])"
   ]
  },
  {
   "cell_type": "code",
   "execution_count": null,
   "metadata": {
    "slideshow": {
     "slide_type": "fragment"
    },
    "tags": []
   },
   "outputs": [],
   "source": [
    "print(list(map(lambda x: x[1], pets)))"
   ]
  },
  {
   "cell_type": "code",
   "execution_count": null,
   "metadata": {
    "tags": []
   },
   "outputs": [],
   "source": [
    "print([x[1] for x in pets])"
   ]
  },
  {
   "cell_type": "code",
   "execution_count": null,
   "metadata": {
    "slideshow": {
     "slide_type": "fragment"
    },
    "tags": []
   },
   "outputs": [],
   "source": [
    "print(list(map(len, pets)))"
   ]
  },
  {
   "cell_type": "markdown",
   "metadata": {
    "slideshow": {
     "slide_type": "slide"
    }
   },
   "source": [
    "# Built ins\n",
    "\n",
    "Some functions don't need to be imported, they're always available."
   ]
  },
  {
   "cell_type": "code",
   "execution_count": null,
   "metadata": {
    "slideshow": {
     "slide_type": "-"
    }
   },
   "outputs": [],
   "source": [
    "from random import randint\n",
    "my_odd_list = [randint(0,100) for _ in range(30)]"
   ]
  },
  {
   "cell_type": "code",
   "execution_count": null,
   "metadata": {
    "slideshow": {
     "slide_type": "fragment"
    }
   },
   "outputs": [],
   "source": [
    "max(my_odd_list)"
   ]
  },
  {
   "cell_type": "code",
   "execution_count": null,
   "metadata": {
    "slideshow": {
     "slide_type": "fragment"
    }
   },
   "outputs": [],
   "source": [
    "min(my_odd_list)"
   ]
  },
  {
   "cell_type": "code",
   "execution_count": null,
   "metadata": {
    "slideshow": {
     "slide_type": "slide"
    }
   },
   "outputs": [],
   "source": [
    "list(zip(range(len(pets)), pets))"
   ]
  },
  {
   "cell_type": "code",
   "execution_count": null,
   "metadata": {
    "slideshow": {
     "slide_type": "slide"
    },
    "tags": []
   },
   "outputs": [],
   "source": [
    "for p in enumerate(pets):\n",
    "    print(p)"
   ]
  },
  {
   "cell_type": "markdown",
   "metadata": {
    "slideshow": {
     "slide_type": "slide"
    }
   },
   "source": [
    "# Generators"
   ]
  },
  {
   "cell_type": "code",
   "execution_count": null,
   "metadata": {
    "slideshow": {
     "slide_type": "slide"
    }
   },
   "outputs": [],
   "source": [
    "a = enumerate(pets)"
   ]
  },
  {
   "cell_type": "code",
   "execution_count": null,
   "metadata": {},
   "outputs": [],
   "source": [
    "next(a)"
   ]
  },
  {
   "cell_type": "code",
   "execution_count": null,
   "metadata": {
    "slideshow": {
     "slide_type": "slide"
    },
    "tags": []
   },
   "outputs": [],
   "source": [
    "def a_generator():\n",
    "    counter = 0\n",
    "    while True:\n",
    "        yield counter\n",
    "        counter += 3\n",
    "        \n",
    "g = a_generator()\n",
    "\n",
    "print(next(g))\n",
    "print(next(g))\n",
    "print(next(g))"
   ]
  },
  {
   "cell_type": "markdown",
   "metadata": {},
   "source": [
    "# Dictionary comprehensions"
   ]
  },
  {
   "cell_type": "code",
   "execution_count": null,
   "metadata": {
    "tags": []
   },
   "outputs": [],
   "source": [
    "# all yours terry!\n",
    "L = range(10)\n",
    "d = {k:v for k, v in zip(pets, L)}\n",
    "print(d)"
   ]
  },
  {
   "cell_type": "code",
   "execution_count": null,
   "metadata": {
    "tags": []
   },
   "outputs": [],
   "source": [
    "import collections\n",
    "d = collections.defaultdict(list)\n",
    "d = collections.Counter()\n",
    "d = collections.Counter(my_odd_list)\n",
    "print(d)\n",
    "print()\n",
    "print(max(d, key=lambda x: d[x]))"
   ]
  },
  {
   "cell_type": "code",
   "execution_count": null,
   "metadata": {},
   "outputs": [],
   "source": []
  }
 ],
 "metadata": {
  "celltoolbar": "Slideshow",
  "kernelspec": {
   "display_name": "Python 3.7.1 64-bit",
   "language": "python",
   "name": "python_defaultSpec_1595328765133"
  },
  "language_info": {
   "codemirror_mode": {
    "name": "ipython",
    "version": 2
   },
   "file_extension": ".py",
   "mimetype": "text/x-python",
   "name": "python",
   "nbconvert_exporter": "python",
   "pygments_lexer": "ipython2",
   "version": "2.7.12"
  },
  "toc": {
   "colors": {
    "hover_highlight": "#DAA520",
    "navigate_num": "#000000",
    "navigate_text": "#333333",
    "running_highlight": "#FF0000",
    "selected_highlight": "#FFD700",
    "sidebar_border": "#EEEEEE",
    "wrapper_background": "#FFFFFF"
   },
   "moveMenuLeft": true,
   "nav_menu": {
    "height": "174px",
    "width": "252px"
   },
   "navigate_menu": true,
   "number_sections": true,
   "sideBar": true,
   "threshold": 4,
   "toc_cell": false,
   "toc_section_display": "block",
   "toc_window_display": false,
   "widenNotebook": false
  }
 },
 "nbformat": 4,
 "nbformat_minor": 1
}
