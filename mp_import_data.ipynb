{
 "cells": [
  {
   "cell_type": "markdown",
   "metadata": {},
   "source": [
    "## Start here\n",
    "\n",
    "All the information you've got in your DMs is in different places and in different formats. This file will load up all those files, do some cleaning, then drop the data into a _pickle_ which you can load into other files to do your analysis. The loading process is quite slow, so the pickle makes your life much quicker.\n",
    "\n",
    "---\n",
    "\n",
    "# Importing all the conversations\n",
    "\n",
    "This is a bit trickier than you might imagine as you need to do something with all the conversations you're loading up."
   ]
  },
  {
   "cell_type": "markdown",
   "metadata": {},
   "source": [
    "---\n",
    "\n",
    "Load up a tonne of libraries. We don't need all of them, but it's nice to have them ready while we're working."
   ]
  },
  {
   "cell_type": "code",
   "execution_count": 1,
   "metadata": {},
   "outputs": [],
   "source": [
    "import datetime\n",
    "import json\n",
    "import os\n",
    "import pickle\n",
    "import random\n",
    "import re\n",
    "import textwrap\n",
    "from pathlib import Path\n",
    "from collections import OrderedDict\n",
    "\n",
    "import matplotlib as mpl\n",
    "import matplotlib.dates as mdates\n",
    "import matplotlib.pyplot as plt\n",
    "from matplotlib.font_manager import FontProperties\n",
    "import numpy as np\n",
    "import pandas as pd\n",
    "import seaborn as sns\n",
    "from scipy.optimize import curve_fit\n",
    "from scipy.spatial import ConvexHull\n",
    "\n",
    "import message_helpers as mh\n",
    "from hangouts_loader import load_hangouts\n"
   ]
  },
  {
   "cell_type": "code",
   "execution_count": 2,
   "metadata": {},
   "outputs": [],
   "source": [
    "plt.rcParams[\"figure.figsize\"] = (20, 10)\n",
    "plt.rcParams[\"font.sans-serif\"] = [\"Segoe UI Emoji\"]\n"
   ]
  },
  {
   "cell_type": "code",
   "execution_count": 3,
   "metadata": {},
   "outputs": [],
   "source": [
    "pickle_name = \"all_convo.pickle\"\n",
    "pickle_path = Path(pickle_name)\n"
   ]
  },
  {
   "cell_type": "markdown",
   "metadata": {},
   "source": [
    "Set your name here. This is so that you can take yourself out of some of the graphs. Because these are conversations, naievely, they go A B A B and so on, so you'll be roughly 50% of the messages, which makes other trends hard to see."
   ]
  },
  {
   "cell_type": "code",
   "execution_count": 4,
   "metadata": {},
   "outputs": [],
   "source": [
    "MY_NAME = \"Ben Doherty\"\n"
   ]
  },
  {
   "cell_type": "code",
   "execution_count": 5,
   "metadata": {},
   "outputs": [],
   "source": [
    "def parse_obj(obj):\n",
    "    \"\"\"Unfuck facebook's message storage encoding.\n",
    "\n",
    "    Facebook stores their messages in some kind of insane mix of latin 1 and utf-8\n",
    "    This means that emoji and iOS punctuation are broken unless decoded with this.\n",
    "\n",
    "    Args:\n",
    "        obj (dict): a part of a facebook message\n",
    "\n",
    "    Returns:\n",
    "        dict: tht object, but not munted\n",
    "    \"\"\"\n",
    "    for key in obj:\n",
    "        if isinstance(obj[key], str):\n",
    "            obj[key] = obj[key].encode(\"latin_1\").decode(\"utf-8\")\n",
    "        elif isinstance(obj[key], list):\n",
    "            obj[key] = list(\n",
    "                map(\n",
    "                    lambda x: x\n",
    "                    if type(x) != str\n",
    "                    else x.encode(\"latin_1\").decode(\"utf-8\"),\n",
    "                    obj[key],\n",
    "                )\n",
    "            )\n",
    "        pass\n",
    "    return obj\n",
    "\n",
    "\n",
    "def sumarise_convo(name, data, verbose=False):\n",
    "    words = {}\n",
    "    words[name] = data.content.str.cat(sep=\" \")\n",
    "    wordcount = len(words[name].split(\" \"))\n",
    "\n",
    "    unique_words = set(words[name].split(\" \"))\n",
    "\n",
    "    pool = \" \".join([str(x) for x in data.content.to_list()]).lower()\n",
    "    clean = re.sub(mh.PUNCTUATION_REGEX, \" \", pool, flags=re.VERBOSE)\n",
    "    # and replace it with a single space\n",
    "    stopped = list(set([w for w in clean.split() if w not in mh.STOP_WORDS]))\n",
    "\n",
    "    if verbose:\n",
    "        print(\n",
    "            f\"{name} wrote {wordcount} words ({len(words[name])} characters)\"\n",
    "            f\" and used {len(stopped)} different words.\"\n",
    "        )\n",
    "    return {\n",
    "        \"participant\": name,\n",
    "        \"wordcount\": wordcount,\n",
    "        \"unique_words\": len(unique_words),\n",
    "        \"cleaned_unique\": len(stopped),\n",
    "    }\n",
    "\n",
    "\n",
    "def get_message_length(message):\n",
    "    if type(message) is str:\n",
    "        return len(message)\n",
    "    else:\n",
    "        return len(str(message))\n",
    "\n",
    "\n",
    "def replace_typographic_apostrophy(message):\n",
    "    if type(message) is str:\n",
    "        return message.replace(\"’\", \"'\")\n",
    "    else:\n",
    "        return message\n",
    "\n",
    "\n",
    "def load_whole_inbox(rootdir, platform=\"Facebook\", verbose=False):\n",
    "    conversations = []\n",
    "    for d in os.listdir(rootdir):\n",
    "        conversations.append(d)\n",
    "    print(\n",
    "        f\"There are {len(conversations)} conversations to look at from {platform}. ({rootdir})\"\n",
    "    )\n",
    "    # conversations\n",
    "\n",
    "    convo_df_list = []\n",
    "\n",
    "    for convo in os.listdir(rootdir):\n",
    "        for f in os.listdir(os.path.join(rootdir, convo)):\n",
    "            try:\n",
    "                message_list = []\n",
    "                path = os.path.join(os.path.join(rootdir, convo, f))\n",
    "                if Path(path).is_file():\n",
    "                    with open(path, \"r\") as fb_data:\n",
    "                        messages = json.load(fb_data, object_hook=parse_obj)\n",
    "                        message_list.extend(messages[\"messages\"])\n",
    "\n",
    "                if len(message_list) != 0:\n",
    "                    df = pd.DataFrame(message_list)\n",
    "                    df[\"source_convo\"] = convo\n",
    "                    df[\"datetime\"] = df.timestamp_ms.apply(\n",
    "                        lambda x: datetime.datetime.fromtimestamp(x / 1000.0)\n",
    "                    )\n",
    "\n",
    "                    if \"content\" in df.columns:\n",
    "                        df[\"message_length\"] = df.content.apply(get_message_length)\n",
    "                        df.content = df.content.apply(replace_typographic_apostrophy)\n",
    "                    else:\n",
    "                        df[\"message_length\"] = 0\n",
    "                        df[\"content\"] = np.nan\n",
    "\n",
    "                    df[\"platform\"] = platform\n",
    "\n",
    "                    convo_df_list.append(df)\n",
    "                    if verbose:\n",
    "                        try:\n",
    "                            print(convo, f)\n",
    "                            print(f\"{df.shape[0]} rows, between:\", \", \".join(list(df.sender_name.unique())))\n",
    "                            print()\n",
    "                        except:\n",
    "                            pass\n",
    "\n",
    "            except Exception as e:\n",
    "                print(\"exception\", convo, e)\n",
    "    print(f\"finished with {platform}\")\n",
    "    return convo_df_list\n"
   ]
  },
  {
   "cell_type": "code",
   "execution_count": 6,
   "metadata": {},
   "outputs": [
    {
     "name": "stdout",
     "output_type": "stream",
     "text": [
      "Loading from source files\n",
      "There are 1214 conversations to look at from Facebook. (fb_data/messages/inbox)\n",
      "finished with Facebook\n",
      "There are 43 conversations to look at from Facebook. (fb_data/messages/inbox_1)\n",
      "finished with Facebook\n",
      "There are 6 conversations to look at from Facebook. (fb_data/messages/archived_threads)\n",
      "finished with Facebook\n",
      "There are 162 conversations to look at from Instagram. (ig_data/inbox)\n",
      "finished with Instagram\n",
      "All_convo_df has 1109293 rows\n",
      "deduped: all_convo_df has 1011154 rows\n",
      "Done\n"
     ]
    }
   ],
   "source": [
    "fb_rootdir = \"fb_data/messages/inbox\"\n",
    "ig_rootdir = \"ig_data/inbox\"\n",
    "\n",
    "print(\"Loading from source files\")\n",
    "fb_convo_df_list = load_whole_inbox(fb_rootdir, platform=\"Facebook\")\n",
    "fb_convo_df_list_2 = load_whole_inbox(fb_rootdir + \"_1\", platform=\"Facebook\")\n",
    "fb_archived_threads = load_whole_inbox(\"fb_data/messages/archived_threads\", platform=\"Facebook\", verbose=False)\n",
    "ig_convo_df_list = load_whole_inbox(ig_rootdir, platform=\"Instagram\")\n",
    "ho_convo_df_list = [load_hangouts()]\n",
    "\n",
    "convo_df_list = (\n",
    "    fb_convo_df_list + fb_convo_df_list_2 + ig_convo_df_list + ho_convo_df_list\n",
    ")\n",
    "# print(len(convo_df_list))\n",
    "all_convo_df = pd.concat(convo_df_list)\n",
    "print(f\"All_convo_df has {all_convo_df.shape[0]} rows\")\n",
    "all_convo_df.drop_duplicates(subset=[\"sender_name\", \"timestamp_ms\"],inplace=True)\n",
    "print(f\"deduped: all_convo_df has {all_convo_df.shape[0]} rows\")\n",
    "print(\"Done\")\n"
   ]
  },
  {
   "cell_type": "code",
   "execution_count": 7,
   "metadata": {},
   "outputs": [
    {
     "name": "stdout",
     "output_type": "stream",
     "text": [
      "Overall, there are 1011154, messages in this dataset. These come from about 791 people, covering a period of 5473 days between January, 2007 and January, 2022. Over 3 platforms:\n"
     ]
    },
    {
     "data": {
      "text/plain": [
       "Facebook     764999\n",
       "Hangouts     146211\n",
       "Instagram     99944\n",
       "Name: platform, dtype: int64"
      ]
     },
     "execution_count": 7,
     "metadata": {},
     "output_type": "execute_result"
    }
   ],
   "source": [
    "print(\n",
    "    f\"Overall, there are {len(all_convo_df)}, messages in this dataset. \"\n",
    "    f\"These come from about {len(all_convo_df.sender_name.unique())} people, \"\n",
    "    f\"covering a period of {str(all_convo_df.datetime.max()-all_convo_df.datetime.min()).split(' days')[0]} days \"\n",
    "    f\"between {all_convo_df.datetime.min():%B, %Y} and {all_convo_df.datetime.max():%B, %Y}. \"\n",
    "    f\"Over {len(all_convo_df.platform.unique())} platforms:\"\n",
    ")\n",
    "all_convo_df.platform.value_counts()\n"
   ]
  },
  {
   "cell_type": "markdown",
   "metadata": {},
   "source": [
    "## Merge names\n",
    "\n",
    "Some people have different names across different platforms, firstly let's get a list of unique names, and then define a dictionary that will say what to merge into what."
   ]
  },
  {
   "cell_type": "code",
   "execution_count": 8,
   "metadata": {},
   "outputs": [
    {
     "name": "stdout",
     "output_type": "stream",
     "text": [
      "\n",
      " Facebook \n",
      " ['Ben Doherty', 'Meike Wijers', 'Ivana Kuzmanovska', 'Jenn Martin', 'Lucy Rimmer', 'Bree-Danielle Wyatt', 'Irina Belova', 'Karin Frost', 'Maddie Johanson', 'Natalie Barnes', 'Annisa Rivera Rizal', 'Katherine Withnell', 'Erika Bloomingdale', 'Elizabeth Deacon', 'Jülz Milthorpe', 'Sarah Maloof', 'Nazmul Azim Khan', 'Emma Stewart', 'Thearlaich Ogilive', 'Byron Sullivan', 'Antonia Sheil', 'Alessandra Moschella', 'Ishaan Varshney', 'Jodie Hinton', 'Tiara Dobbs', '', 'Shelda Kristie', 'Ali Jane', 'Adam Pigott', 'Marc Micuta', 'Debbie Hodge', 'Jess Howard', 'Brndn Wlsh', 'Rachel Bee', 'Bethan Ellis-Jones', 'Sebastian Winnett', 'Baptiste Higgs', 'Alexander Lee', 'Shawnee Finlayson', 'MattWho Bell', 'Barnaby Bennett', 'Elynda Ma', 'Heather Louise', 'Aiden Ray', 'Lydia Durkin George', 'Barry Dineen', 'Kelly Melrose', 'Y-e Ho', 'Yien Yien Soo', 'Lauren Maree', 'Clare Jackson', 'John Richard Gale', 'Bianca Toth', 'Anthea Murray', 'Deezy Jefferson', 'Other User', 'Laurel Fox', 'Sophie Chisholm', 'Melanie Mury', 'Grace Chung', 'Anna Biddlestone', 'Chelsea Harper', 'Rachel McHale', 'Toby Shew', 'Daniel Steven', 'Steph Harmon', 'Talor Browne', 'PayPal', 'Leslie Berman', 'Shirin Borthwick', 'Joseph Samuel', 'Alice Haylett Bryan', 'Shanny Lam', 'Ayelen Moure', 'Alex Chaston', 'Alex Doherty', 'Gen Pitkeathly', 'Nicole Sarapata', 'Ellie Armstrong', 'Matthew James', 'Kirby Rees', 'Louise Barbour', 'Danielle McParland', 'Sarah Farrell', 'Farb Od', 'Manal Shaikh', 'Rona Louise', 'Rima Sabina', 'John Doherty', 'Kameron Ahmad', 'Chris Bickerton', 'Angela Layana', 'Rachel Yabsley', 'Ellesha Dobbs', 'Julia Mintzer', 'Nick Flutter', 'Jonathan Capparelli', 'Paul Ylioja', 'Kimberly Ward', 'Kirsty Pat Douglas', 'Julia Bouvy Holland', 'Brooke Jackson', 'Adele Varcoe', 'Tina G Lee', 'Mikey Slezak', 'Brown Guy', 'Antony Lo', 'Josie Elt', 'Eva Seljan Mljač', 'Anna Meacher', 'Amanda Tenn', 'Lachlan Rowston', 'Lauren Gilling', 'Maryam Alavi', 'Sophie Scott', 'Michael Coburn', 'Clarrie Morabito', 'Suleiman Alhadidi', 'Rachel Elizabeth Smith', 'Charles Tarrant', 'Polly Brown', 'Angela Woda', 'Josh Mason', 'Stephanie Roberts', 'Jared Na', 'Linda Ovelgonne', 'Katharine Eva', 'Jimmy Dalton', 'Hannah Elphick', 'Lauren Battishall', 'Facebook for Business', 'Jordon Blank']\n",
      "\n",
      " Hangouts \n",
      " ['Ben Doherty', 'Irina Belova', 'unknown', 'David Wilcox', 'Lucy Rimmer', 'Charles Ogilvie', 'Alessandra Moschella', 'Melanie Mury', 'Dan R', 'Andrew Burrow', 'Barry Dineen', 'Angela Woda', 'Anthea Murray', 'Jonathan Capparelli', 'Daniel Elias']\n",
      "\n",
      " Instagram \n",
      " ['Ben Doherty', 'ivana kuzmanovska', 'Bree-Danielle Wyatt', 'tanyaruby', 'Jenn Martin', 'Byron', 'Maddie Johanson', 'Belinda Dunstan', 'Natalie Barnes', 'Instagram User', 'karin ke', 'iflaneuse', 'Frank', 'Meike Wijers', 'Emmy Collins', 'Tiana Jane', 'Asher Haynes', 'Charles OGILVIE', 'Alessandra Moschella', 'Irina Belova', 'Brooke Jackson', 'Katherine Withnell', 'Shelda Kristie', 'Clarrie M', 'Tones', 'Clarrie', 'Claire Oh', 'Lucy Rimmer', 'Jodie', 'Jülz', 'jesshoward', 'Maddie Rose', 'annisarivera', 'Ross Bryan', 'Josh', 'Barry Dineen']\n"
     ]
    }
   ],
   "source": [
    "names = []\n",
    "platform_names = {}\n",
    "for platform, df in all_convo_df.groupby(\"platform\"):\n",
    "    vc = df.sender_name.value_counts()\n",
    "    these_names = vc[vc > 100].index.to_list()\n",
    "    names += these_names\n",
    "    print(\"\\n\",platform, \"\\n\",these_names)\n",
    "    platform_names[platform] = set(these_names)\n",
    "# print(platform_names)"
   ]
  },
  {
   "cell_type": "code",
   "execution_count": 9,
   "metadata": {},
   "outputs": [
    {
     "name": "stdout",
     "output_type": "stream",
     "text": [
      "\n",
      "shows in all platforms {'Ben Doherty', 'Alessandra Moschella', 'Irina Belova', 'Lucy Rimmer', 'Barry Dineen'}\n",
      "\n",
      "shows in fb and ig {'Ben Doherty', 'Meike Wijers', 'Maddie Johanson', 'Alessandra Moschella', 'Bree-Danielle Wyatt', 'Natalie Barnes', 'Shelda Kristie', 'Irina Belova', 'Katherine Withnell', 'Lucy Rimmer', 'Jenn Martin', 'Barry Dineen', 'Brooke Jackson'}\n",
      "\n",
      "fb only {'', 'Gen Pitkeathly', 'Rima Sabina', 'Antony Lo', 'Matthew James', 'Baptiste Higgs', 'Suleiman Alhadidi', 'Steph Harmon', 'Anna Biddlestone', 'Rona Louise', 'Thearlaich Ogilive', 'Alice Haylett Bryan', 'Eva Seljan Mljač', 'Danielle McParland', 'Alex Chaston', 'Grace Chung', 'Alexander Lee', 'Charles Tarrant', 'Lauren Battishall', 'Michael Coburn', 'Antonia Sheil', 'Maryam Alavi', 'Byron Sullivan', 'John Doherty', 'Marc Micuta', 'Lydia Durkin George', 'Yien Yien Soo', 'Shanny Lam', 'Jodie Hinton', 'Rachel Elizabeth Smith', 'Kirsty Pat Douglas', 'Sophie Chisholm', 'Ishaan Varshney', 'MattWho Bell', 'Nicole Sarapata', 'Brown Guy', 'Nazmul Azim Khan', 'Talor Browne', 'Jared Na', 'Chelsea Harper', 'Ivana Kuzmanovska', 'Clarrie Morabito', 'Toby Shew', 'Anthea Murray', 'Other User', 'Nick Flutter', 'PayPal', 'Jimmy Dalton', 'Lauren Maree', 'Angela Layana', 'Sebastian Winnett', 'Joseph Samuel', 'Laurel Fox', 'Stephanie Roberts', 'Jordon Blank', 'Kimberly Ward', 'Louise Barbour', 'Elynda Ma', 'Shirin Borthwick', 'Chris Bickerton', 'Amanda Tenn', 'Erika Bloomingdale', 'Mikey Slezak', 'John Richard Gale', 'Julia Bouvy Holland', 'Sarah Maloof', 'Karin Frost', 'Adam Pigott', 'Rachel McHale', 'Clare Jackson', 'Aiden Ray', 'Polly Brown', 'Lachlan Rowston', 'Josie Elt', 'Barnaby Bennett', 'Ellie Armstrong', 'Debbie Hodge', 'Jonathan Capparelli', 'Facebook for Business', 'Kelly Melrose', 'Jülz Milthorpe', 'Adele Varcoe', 'Tina G Lee', 'Shawnee Finlayson', 'Rachel Bee', 'Brndn Wlsh', 'Ellesha Dobbs', 'Bianca Toth', 'Bethan Ellis-Jones', 'Anna Meacher', 'Paul Ylioja', 'Linda Ovelgonne', 'Rachel Yabsley', 'Hannah Elphick', 'Ayelen Moure', 'Daniel Steven', 'Manal Shaikh', 'Sophie Scott', 'Alex Doherty', 'Annisa Rivera Rizal', 'Kirby Rees', 'Tiara Dobbs', 'Emma Stewart', 'Josh Mason', 'Elizabeth Deacon', 'Ali Jane', 'Lauren Gilling', 'Sarah Farrell', 'Heather Louise', 'Leslie Berman', 'Kameron Ahmad', 'Melanie Mury', 'Deezy Jefferson', 'Farb Od', 'Y-e Ho', 'Angela Woda', 'Katharine Eva', 'Jess Howard', 'Julia Mintzer'}\n",
      "\n",
      "ig only {'iflaneuse', 'Josh', 'Asher Haynes', 'Ross Bryan', 'Belinda Dunstan', 'Clarrie M', 'Tones', 'Tiana Jane', 'Byron', 'karin ke', 'Emmy Collins', 'Maddie Rose', 'jesshoward', 'Instagram User', 'Clarrie', 'ivana kuzmanovska', 'Jülz', 'annisarivera', 'Charles OGILVIE', 'Claire Oh', 'Jodie', 'tanyaruby', 'Frank'}\n"
     ]
    }
   ],
   "source": [
    "fb_s = set(platform_names[\"Facebook\"])\n",
    "ig_s = set(platform_names[\"Instagram\"])\n",
    "ho_s = set(platform_names[\"Hangouts\"])\n",
    "# print(fb_s.symmetric_difference(ig_s))\n",
    "# print(fb_s.intersection(ig_s))\n",
    "print(\"\\nshows in all platforms\", fb_s & ig_s & ho_s)\n",
    "print(\"\\nshows in fb and ig\", fb_s & ig_s)\n",
    "print(\"\\nfb only\", fb_s - ig_s)\n",
    "print(\"\\nig only\", ig_s - fb_s)\n"
   ]
  },
  {
   "cell_type": "markdown",
   "metadata": {},
   "source": [
    "\n",
    "Use the lists above to work out who shows up in more than one list, but under different names, and then use the thesaurus below to map their names to a single value."
   ]
  },
  {
   "cell_type": "code",
   "execution_count": 10,
   "metadata": {},
   "outputs": [],
   "source": [
    "def fold_names(input_name):\n",
    "    annisa = \"Annisa Rivera Rizal\"\n",
    "    ben = \"Ben Doherty\"\n",
    "    brendan = \"Brendan Walsh\"\n",
    "    byron = \"Byron Sullivan\"\n",
    "    charlie = \"Charles Ogilvie\"\n",
    "    clarrie = \"Clarrie Morabito\"\n",
    "    em = \"Em Collins\"\n",
    "    ivana = \"Ivana Kuzmanovska\"\n",
    "    jess = \"Jess Howard\"\n",
    "    jodie = \"Jodie Hinton\"\n",
    "    julz = \"Jülz Milthorpe\"\n",
    "    karin = \"Karin Ke\"\n",
    "    rima = \"Rima Aouf\"\n",
    "    rona = \"Rona Inniss\"\n",
    "    shanny = \"Shanny Lam\"\n",
    "    tones = \"Antonia Sheil\"\n",
    "    thesaurus = {\n",
    "        \"annisarivera\": annisa,\n",
    "        \"ben@notionparallax.co.uk\": ben,\n",
    "        \"Byron Sullivan\": byron,\n",
    "        \"Byron\": byron,\n",
    "        \"Brndn Wlsh\": brendan,\n",
    "        \"Thearlaich Ogilive\": charlie,\n",
    "        \"Charles OGILVIE\": charlie,\n",
    "        \"Charles Ogilvie\": charlie,\n",
    "        \"Karin Frost\": karin,\n",
    "        \"karin ke\": karin,\n",
    "        \"Ivana Kuzmanovska\": ivana,\n",
    "        \"ivana kuzmanovska\": ivana,\n",
    "        \"Jülz\": julz,\n",
    "        \"Jülz Milthorpe\": julz,\n",
    "        \"jesshoward\": jess,\n",
    "        \"Jess Howard\": jess,\n",
    "        \"Jodie\": jodie,\n",
    "        \"Tones\": tones,\n",
    "        \"Clarrie\": clarrie,\n",
    "        \"tanyaruby\": \"Tanya P\",\n",
    "        \"iflaneuse\": \"Nicole Gardiner\",\n",
    "        \"Frank\": \"Francis Lockie\",\n",
    "        \"Rima Sabina Aouf\":rima,\n",
    "        \"Rima Sabina\":rima,\n",
    "        \"Rona Louise\":rona,\n",
    "        \"ronainniss@gmail.com\":rona,\n",
    "        \"shanny.l\":shanny,\n",
    "        \"“Mr Marc”\": \"Marc Micuta\",\n",
    "        \"T I A R A\": \"Tiara Dobbs\",\n",
    "        \"Three Ingredients & The Truth\":em,\n",
    "        \"honey and nuts\":em,\n",
    "        \"iflaneuse\": \"Nicole Gardiner\",\n",
    "\n",
    "    }\n",
    "    new_name = thesaurus.get(input_name, input_name)\n",
    "    # if new_name != input_name:\n",
    "    #     print(f\"renamed {input_name} to {new_name}\")\n",
    "    return new_name\n",
    "\n",
    "\n",
    "all_convo_df[\"input_names\"] = all_convo_df.sender_name\n",
    "all_convo_df.sender_name = all_convo_df.sender_name.apply(fold_names)\n"
   ]
  },
  {
   "cell_type": "code",
   "execution_count": 11,
   "metadata": {},
   "outputs": [
    {
     "data": {
      "text/plain": [
       "<AxesSubplot:>"
      ]
     },
     "execution_count": 11,
     "metadata": {},
     "output_type": "execute_result"
    },
    {
     "data": {
      "image/png": "[encoded data removed]",
      "text/plain": [
       "<Figure size 1440x720 with 1 Axes>"
      ]
     },
     "metadata": {
      "needs_background": "light"
     },
     "output_type": "display_data"
    }
   ],
   "source": [
    "vc = all_convo_df.sender_name.value_counts()\n",
    "vc[(vc>1000) & (vc<100000)].plot(kind=\"barh\")"
   ]
  },
  {
   "cell_type": "markdown",
   "metadata": {},
   "source": [
    "## Initials\n",
    "\n",
    "To label a lot of graphs we'll need a compact way to represent people, so—for example—I (Ben Doherty) will shown as BD."
   ]
  },
  {
   "cell_type": "code",
   "execution_count": 12,
   "metadata": {},
   "outputs": [
    {
     "data": {
      "text/html": [
       "<div>\n",
       "<style scoped>\n",
       "    .dataframe tbody tr th:only-of-type {\n",
       "        vertical-align: middle;\n",
       "    }\n",
       "\n",
       "    .dataframe tbody tr th {\n",
       "        vertical-align: top;\n",
       "    }\n",
       "\n",
       "    .dataframe thead th {\n",
       "        text-align: right;\n",
       "    }\n",
       "</style>\n",
       "<table border=\"1\" class=\"dataframe\">\n",
       "  <thead>\n",
       "    <tr style=\"text-align: right;\">\n",
       "      <th></th>\n",
       "      <th>sender_name</th>\n",
       "      <th>content</th>\n",
       "      <th>initials</th>\n",
       "    </tr>\n",
       "  </thead>\n",
       "  <tbody>\n",
       "    <tr>\n",
       "      <th>0</th>\n",
       "      <td>The House Gym</td>\n",
       "      <td>NaN</td>\n",
       "      <td>THG</td>\n",
       "    </tr>\n",
       "    <tr>\n",
       "      <th>0</th>\n",
       "      <td>Amanda Tenn</td>\n",
       "      <td>😄</td>\n",
       "      <td>AT</td>\n",
       "    </tr>\n",
       "    <tr>\n",
       "      <th>0</th>\n",
       "      <td>Hyunsoo Lee</td>\n",
       "      <td>https://youtube.com/watch?v=gleneNe_VRs&amp;featur...</td>\n",
       "      <td>HLe</td>\n",
       "    </tr>\n",
       "    <tr>\n",
       "      <th>0</th>\n",
       "      <td>Abbeys Auctions</td>\n",
       "      <td>Abbeys Auctions sent an attachment.</td>\n",
       "      <td>AA</td>\n",
       "    </tr>\n",
       "    <tr>\n",
       "      <th>0</th>\n",
       "      <td>Barbara Taylor</td>\n",
       "      <td>IM AM WRITING TO INFORM YOU THAT DUE TO YOU TH...</td>\n",
       "      <td>BTa</td>\n",
       "    </tr>\n",
       "    <tr>\n",
       "      <th>3</th>\n",
       "      <td>Peterv Hayes</td>\n",
       "      <td>It appears there is a tent quandary.\\n\\nso von...</td>\n",
       "      <td>PHa</td>\n",
       "    </tr>\n",
       "    <tr>\n",
       "      <th>4</th>\n",
       "      <td>Jemma Hunt</td>\n",
       "      <td>Hey, so sorry Sarah, I was just reminded by a ...</td>\n",
       "      <td>JHu</td>\n",
       "    </tr>\n",
       "    <tr>\n",
       "      <th>0</th>\n",
       "      <td>Conor Worth</td>\n",
       "      <td>hey research is going pretty ok... working so ...</td>\n",
       "      <td>CW</td>\n",
       "    </tr>\n",
       "    <tr>\n",
       "      <th>1</th>\n",
       "      <td>Edward Russell</td>\n",
       "      <td>i was looking for some fried chicken \\nstill b...</td>\n",
       "      <td>ERu</td>\n",
       "    </tr>\n",
       "    <tr>\n",
       "      <th>2</th>\n",
       "      <td>Amy Underbelly</td>\n",
       "      <td>Hey, by any chance do you do web design!? :)</td>\n",
       "      <td>AU</td>\n",
       "    </tr>\n",
       "  </tbody>\n",
       "</table>\n",
       "</div>"
      ],
      "text/plain": [
       "       sender_name                                            content initials\n",
       "0    The House Gym                                                NaN      THG\n",
       "0      Amanda Tenn                                                  😄       AT\n",
       "0      Hyunsoo Lee  https://youtube.com/watch?v=gleneNe_VRs&featur...      HLe\n",
       "0  Abbeys Auctions                Abbeys Auctions sent an attachment.       AA\n",
       "0   Barbara Taylor  IM AM WRITING TO INFORM YOU THAT DUE TO YOU TH...      BTa\n",
       "3     Peterv Hayes  It appears there is a tent quandary.\\n\\nso von...      PHa\n",
       "4       Jemma Hunt  Hey, so sorry Sarah, I was just reminded by a ...      JHu\n",
       "0      Conor Worth  hey research is going pretty ok... working so ...       CW\n",
       "1   Edward Russell  i was looking for some fried chicken \\nstill b...      ERu\n",
       "2   Amy Underbelly       Hey, by any chance do you do web design!? :)       AU"
      ]
     },
     "execution_count": 12,
     "metadata": {},
     "output_type": "execute_result"
    }
   ],
   "source": [
    "all_initials = all_convo_df.sender_name.value_counts().to_dict()\n",
    "initials_pool = []\n",
    "for name in all_initials.keys():\n",
    "    split = [x for x in re.split(\"[ \\.-]\", name) if x != \"\"]\n",
    "    try:\n",
    "        initials = \"\".join([n[0] for n in split]).upper()\n",
    "        if initials in initials_pool:\n",
    "            # print(\"uh oh, double up on\", initials, name, initials_pool)\n",
    "            initials = \"\".join([n[0] for n in split]).upper() + name.split()[-1][1]\n",
    "            # print(\"replaced with\", initials)\n",
    "            if initials in initials_pool:\n",
    "                initials = (\n",
    "                    split[0].upper()\n",
    "                    + split[1].lower()\n",
    "                    + split[-1].upper()\n",
    "                    + split[-2].lower()\n",
    "                )\n",
    "                if initials in initials_pool:\n",
    "                    print(\"fuck, complicated\", name)\n",
    "                    initials = name + \"x\"\n",
    "    except Exception as e:\n",
    "        # print(name, e, split)\n",
    "        initials = name + \"x\"\n",
    "    all_initials[name] = initials\n",
    "    initials_pool.append(initials)\n",
    "\n",
    "all_convo_df[\"initials\"] = all_convo_df.sender_name.apply(lambda x: all_initials[x])\n",
    "all_convo_df[[\"sender_name\", \"content\", \"initials\"]].drop_duplicates(\n",
    "    subset=\"initials\"\n",
    ").sample(10)\n"
   ]
  },
  {
   "cell_type": "markdown",
   "metadata": {},
   "source": [
    "## Gender\n",
    "\n",
    "I've had to make a new table, and just make up what people are assigning, but I think it's basically right. This will show if I'm biased in one way or the other in my messaging.\n",
    "\n",
    "I've put myself in with a gender of `me` so that I can tell where the split really lies, as I'm &thickapprox; 50% of the messages."
   ]
  },
  {
   "cell_type": "code",
   "execution_count": 13,
   "metadata": {},
   "outputs": [
    {
     "data": {
      "text/html": [
       "<div>\n",
       "<style scoped>\n",
       "    .dataframe tbody tr th:only-of-type {\n",
       "        vertical-align: middle;\n",
       "    }\n",
       "\n",
       "    .dataframe tbody tr th {\n",
       "        vertical-align: top;\n",
       "    }\n",
       "\n",
       "    .dataframe thead th {\n",
       "        text-align: right;\n",
       "    }\n",
       "</style>\n",
       "<table border=\"1\" class=\"dataframe\">\n",
       "  <thead>\n",
       "    <tr style=\"text-align: right;\">\n",
       "      <th></th>\n",
       "      <th>sender_name</th>\n",
       "      <th>timestamp_ms</th>\n",
       "      <th>content</th>\n",
       "      <th>type</th>\n",
       "      <th>is_unsent</th>\n",
       "      <th>users</th>\n",
       "      <th>source_convo</th>\n",
       "      <th>datetime</th>\n",
       "      <th>message_length</th>\n",
       "      <th>platform</th>\n",
       "      <th>...</th>\n",
       "      <th>share</th>\n",
       "      <th>ip</th>\n",
       "      <th>gifs</th>\n",
       "      <th>files</th>\n",
       "      <th>audio_files</th>\n",
       "      <th>missed</th>\n",
       "      <th>event_id</th>\n",
       "      <th>input_names</th>\n",
       "      <th>initials</th>\n",
       "      <th>gender</th>\n",
       "    </tr>\n",
       "  </thead>\n",
       "  <tbody>\n",
       "    <tr>\n",
       "      <th>103467</th>\n",
       "      <td>Bree-Danielle Wyatt</td>\n",
       "      <td>1.575970e+12</td>\n",
       "      <td>Pls let me know. May make it for Christmas Day</td>\n",
       "      <td>Generic</td>\n",
       "      <td>False</td>\n",
       "      <td>NaN</td>\n",
       "      <td>breedaniellewyatt_knxipoa3_w</td>\n",
       "      <td>2019-12-10 20:30:49.123</td>\n",
       "      <td>46</td>\n",
       "      <td>Facebook</td>\n",
       "      <td>...</td>\n",
       "      <td>NaN</td>\n",
       "      <td>NaN</td>\n",
       "      <td>NaN</td>\n",
       "      <td>NaN</td>\n",
       "      <td>NaN</td>\n",
       "      <td>NaN</td>\n",
       "      <td>NaN</td>\n",
       "      <td>Bree-Danielle Wyatt</td>\n",
       "      <td>BDW</td>\n",
       "      <td>f</td>\n",
       "    </tr>\n",
       "    <tr>\n",
       "      <th>848708</th>\n",
       "      <td>Natalie Barnes</td>\n",
       "      <td>1.632909e+12</td>\n",
       "      <td>NaN</td>\n",
       "      <td>Share</td>\n",
       "      <td>False</td>\n",
       "      <td>NaN</td>\n",
       "      <td>nataliebarnes_wy1lhy723w</td>\n",
       "      <td>2021-09-29 19:49:12.118</td>\n",
       "      <td>3</td>\n",
       "      <td>Instagram</td>\n",
       "      <td>...</td>\n",
       "      <td>{'original_content_owner': 'sib.bellala'}</td>\n",
       "      <td>NaN</td>\n",
       "      <td>NaN</td>\n",
       "      <td>NaN</td>\n",
       "      <td>NaN</td>\n",
       "      <td>NaN</td>\n",
       "      <td>NaN</td>\n",
       "      <td>Natalie Barnes</td>\n",
       "      <td>NB</td>\n",
       "      <td>f</td>\n",
       "    </tr>\n",
       "    <tr>\n",
       "      <th>474621</th>\n",
       "      <td>Lucy Rimmer</td>\n",
       "      <td>1.549007e+12</td>\n",
       "      <td>Indeed</td>\n",
       "      <td>Generic</td>\n",
       "      <td>False</td>\n",
       "      <td>NaN</td>\n",
       "      <td>lucyrimmer_pfwdzikwla</td>\n",
       "      <td>2019-02-01 18:43:48.035</td>\n",
       "      <td>6</td>\n",
       "      <td>Facebook</td>\n",
       "      <td>...</td>\n",
       "      <td>NaN</td>\n",
       "      <td>NaN</td>\n",
       "      <td>NaN</td>\n",
       "      <td>NaN</td>\n",
       "      <td>NaN</td>\n",
       "      <td>NaN</td>\n",
       "      <td>NaN</td>\n",
       "      <td>Lucy Rimmer</td>\n",
       "      <td>LR</td>\n",
       "      <td>f</td>\n",
       "    </tr>\n",
       "    <tr>\n",
       "      <th>83103</th>\n",
       "      <td>Bree-Danielle Wyatt</td>\n",
       "      <td>1.616132e+12</td>\n",
       "      <td>But I appreciate the thought</td>\n",
       "      <td>Generic</td>\n",
       "      <td>False</td>\n",
       "      <td>NaN</td>\n",
       "      <td>breedaniellewyatt_knxipoa3_w</td>\n",
       "      <td>2021-03-19 16:38:32.146</td>\n",
       "      <td>28</td>\n",
       "      <td>Facebook</td>\n",
       "      <td>...</td>\n",
       "      <td>NaN</td>\n",
       "      <td>NaN</td>\n",
       "      <td>NaN</td>\n",
       "      <td>NaN</td>\n",
       "      <td>NaN</td>\n",
       "      <td>NaN</td>\n",
       "      <td>NaN</td>\n",
       "      <td>Bree-Danielle Wyatt</td>\n",
       "      <td>BDW</td>\n",
       "      <td>f</td>\n",
       "    </tr>\n",
       "  </tbody>\n",
       "</table>\n",
       "<p>4 rows × 25 columns</p>\n",
       "</div>"
      ],
      "text/plain": [
       "                sender_name  timestamp_ms  \\\n",
       "103467  Bree-Danielle Wyatt  1.575970e+12   \n",
       "848708       Natalie Barnes  1.632909e+12   \n",
       "474621          Lucy Rimmer  1.549007e+12   \n",
       "83103   Bree-Danielle Wyatt  1.616132e+12   \n",
       "\n",
       "                                               content     type  is_unsent  \\\n",
       "103467  Pls let me know. May make it for Christmas Day  Generic      False   \n",
       "848708                                             NaN    Share      False   \n",
       "474621                                          Indeed  Generic      False   \n",
       "83103                     But I appreciate the thought  Generic      False   \n",
       "\n",
       "       users                  source_convo                datetime  \\\n",
       "103467   NaN  breedaniellewyatt_knxipoa3_w 2019-12-10 20:30:49.123   \n",
       "848708   NaN      nataliebarnes_wy1lhy723w 2021-09-29 19:49:12.118   \n",
       "474621   NaN         lucyrimmer_pfwdzikwla 2019-02-01 18:43:48.035   \n",
       "83103    NaN  breedaniellewyatt_knxipoa3_w 2021-03-19 16:38:32.146   \n",
       "\n",
       "        message_length   platform  ...  \\\n",
       "103467              46   Facebook  ...   \n",
       "848708               3  Instagram  ...   \n",
       "474621               6   Facebook  ...   \n",
       "83103               28   Facebook  ...   \n",
       "\n",
       "                                            share   ip  gifs files  \\\n",
       "103467                                        NaN  NaN   NaN   NaN   \n",
       "848708  {'original_content_owner': 'sib.bellala'}  NaN   NaN   NaN   \n",
       "474621                                        NaN  NaN   NaN   NaN   \n",
       "83103                                         NaN  NaN   NaN   NaN   \n",
       "\n",
       "       audio_files missed event_id          input_names initials gender  \n",
       "103467         NaN    NaN      NaN  Bree-Danielle Wyatt      BDW      f  \n",
       "848708         NaN    NaN      NaN       Natalie Barnes       NB      f  \n",
       "474621         NaN    NaN      NaN          Lucy Rimmer       LR      f  \n",
       "83103          NaN    NaN      NaN  Bree-Danielle Wyatt      BDW      f  \n",
       "\n",
       "[4 rows x 25 columns]"
      ]
     },
     "execution_count": 13,
     "metadata": {},
     "output_type": "execute_result"
    }
   ],
   "source": [
    "gender_file = \"gender.csv\"\n",
    "gender_df = pd.read_csv(gender_file)\n",
    "all_convo_df = pd.merge(all_convo_df, gender_df, on=\"sender_name\", how=\"left\")\n",
    "all_convo_df.sample(4)"
   ]
  },
  {
   "cell_type": "code",
   "execution_count": 14,
   "metadata": {},
   "outputs": [
    {
     "name": "stdout",
     "output_type": "stream",
     "text": [
      "you need to tag people in the gender file: gender.csv\n",
      "If you don't want to, just comment this and the section above out\n",
      "unknown              15977\n",
      "                      3896\n",
      "Clarrie M              260\n",
      "Maddie Rose            184\n",
      "Taz OBrien              95\n",
      "                     ...  \n",
      "Sylvie Pawłowska         1\n",
      "Craig Watson             1\n",
      "Muimui Pearl Wong        1\n",
      "Emily Rosenberg          1\n",
      "Milena Muretti           1\n",
      "Name: sender_name, Length: 532, dtype: int64\n"
     ]
    }
   ],
   "source": [
    "gender_list = [\"me\", \"f\", \"m\", \"biz\", \"unknown\"] # edit this to match your gender_file\n",
    "not_assigned = all_convo_df[[x not in gender_list for x in all_convo_df.gender]]\n",
    "if not_assigned.shape[0] != 0:\n",
    "    print(\n",
    "        f\"you need to tag people in the gender file: {gender_file}\\n\"\n",
    "        \"If you don't want to, just comment this and the section above out\"\n",
    "    )\n",
    "    print(not_assigned.sender_name.value_counts())\n"
   ]
  },
  {
   "cell_type": "code",
   "execution_count": 15,
   "metadata": {},
   "outputs": [
    {
     "name": "stdout",
     "output_type": "stream",
     "text": [
      "517 people have fewer than 20 messages, and so left out\n"
     ]
    },
    {
     "data": {
      "text/plain": [
       "'unknown, , Clarrie M, Maddie Rose, Taz OBrien, Angela Juniper, Laurel Fox Creative'"
      ]
     },
     "execution_count": 15,
     "metadata": {},
     "output_type": "execute_result"
    }
   ],
   "source": [
    "cut = 20\n",
    "navc = not_assigned.sender_name.value_counts()\n",
    "more_than_minimal = navc[navc>cut]\n",
    "print(f\"{len(navc[navc<cut])} people have fewer than {cut} messages, and so left out\")\n",
    "\", \".join(list(more_than_minimal.index))"
   ]
  },
  {
   "cell_type": "code",
   "execution_count": 16,
   "metadata": {},
   "outputs": [
    {
     "data": {
      "text/plain": [
       "(22883, 25)"
      ]
     },
     "execution_count": 16,
     "metadata": {},
     "output_type": "execute_result"
    }
   ],
   "source": [
    "all_convo_df[[x not in gender_list for x in all_convo_df.gender]].shape"
   ]
  },
  {
   "cell_type": "code",
   "execution_count": 17,
   "metadata": {},
   "outputs": [],
   "source": [
    "def clean_and_stop(content, as_list=False):\n",
    "    try:\n",
    "        clean = re.sub(\n",
    "            mh.PUNCTUATION_REGEX,\n",
    "            \" \",\n",
    "            content,\n",
    "            flags=re.VERBOSE,  # and replace it with a single space\n",
    "        )\n",
    "        stopped = [w.lower() for w in clean.split() if w.lower() not in mh.STOP_WORDS]\n",
    "        # print(content, \"=>\", stopped)\n",
    "        if as_list:\n",
    "            return stopped\n",
    "        else:\n",
    "            return \" \".join(stopped)\n",
    "    except Exception as e:\n",
    "        # print(content, e)\n",
    "        return content\n",
    "\n",
    "\n",
    "all_convo_df[\"clean_content\"] = all_convo_df.content.apply(clean_and_stop)\n"
   ]
  },
  {
   "cell_type": "code",
   "execution_count": 18,
   "metadata": {},
   "outputs": [
    {
     "name": "stdout",
     "output_type": "stream",
     "text": [
      "saving new pickle: all_convo.pickle\n",
      "done\n",
      "Overall, there are 1011154, messages in this dataset. These come from about 773 people, covering a period of 5473 days between January, 2007 and January, 2022. Over 3 platforms:\n"
     ]
    },
    {
     "data": {
      "text/plain": [
       "Facebook     764999\n",
       "Hangouts     146211\n",
       "Instagram     99944\n",
       "Name: platform, dtype: int64"
      ]
     },
     "execution_count": 18,
     "metadata": {},
     "output_type": "execute_result"
    }
   ],
   "source": [
    "print(f\"saving new pickle: {pickle_path}\")\n",
    "pd.to_pickle(all_convo_df, pickle_path)\n",
    "print(\"done\")\n",
    "\n",
    "print(\n",
    "    f\"Overall, there are {len(all_convo_df)}, messages in this dataset. \"\n",
    "    f\"These come from about {len(all_convo_df.sender_name.unique())} people, \"\n",
    "    f\"covering a period of {str(all_convo_df.datetime.max()-all_convo_df.datetime.min()).split(' days')[0]} days \"\n",
    "    f\"between {all_convo_df.datetime.min():%B, %Y} and {all_convo_df.datetime.max():%B, %Y}. \"\n",
    "    f\"Over {len(all_convo_df.platform.unique())} platforms:\"\n",
    ")\n",
    "all_convo_df.platform.value_counts()"
   ]
  },
  {
   "cell_type": "code",
   "execution_count": null,
   "metadata": {},
   "outputs": [],
   "source": []
  }
 ],
 "metadata": {
  "interpreter": {
   "hash": "0bc9a1eeff4ba10b0800c01e5b0b872b265b92561193d5706117af22821f4cc2"
  },
  "kernelspec": {
   "display_name": "Python 3.9.5 64-bit ('dp-env': venv)",
   "name": "python3"
  },
  "language_info": {
   "codemirror_mode": {
    "name": "ipython",
    "version": 3
   },
   "file_extension": ".py",
   "mimetype": "text/x-python",
   "name": "python",
   "nbconvert_exporter": "python",
   "pygments_lexer": "ipython3",
   "version": "3.9.9"
  }
 },
 "nbformat": 4,
 "nbformat_minor": 2
}
