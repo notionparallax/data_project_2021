{
 "cells": [
  {
   "cell_type": "markdown",
   "metadata": {},
   "source": [
    "# Importing all the conversations\n",
    "\n",
    "This is a bit trickier as you need to do something with all the conversations you're loading up."
   ]
  },
  {
   "cell_type": "markdown",
   "metadata": {},
   "source": [
    "---\n",
    "\n",
    "Load up a tonne of libraries"
   ]
  },
  {
   "cell_type": "code",
   "execution_count": 1,
   "metadata": {},
   "outputs": [],
   "source": [
    "import datetime\n",
    "import json\n",
    "import os\n",
    "import pickle\n",
    "import random\n",
    "import re\n",
    "import textwrap\n",
    "from pathlib import Path\n",
    "from collections import OrderedDict\n",
    "\n",
    "import matplotlib as mpl\n",
    "import matplotlib.dates as mdates\n",
    "import matplotlib.pyplot as plt\n",
    "from matplotlib.font_manager import FontProperties\n",
    "import numpy as np\n",
    "import pandas as pd\n",
    "import seaborn as sns\n",
    "from scipy.optimize import curve_fit\n",
    "from scipy.spatial import ConvexHull\n",
    "\n",
    "import message_helpers as mh\n",
    "from hangouts_loader import load_hangouts\n"
   ]
  },
  {
   "cell_type": "code",
   "execution_count": 2,
   "metadata": {},
   "outputs": [],
   "source": [
    "plt.rcParams[\"figure.figsize\"] = (20, 10)\n",
    "plt.rcParams[\"font.sans-serif\"] = [\"Segoe UI Emoji\"]\n"
   ]
  },
  {
   "cell_type": "code",
   "execution_count": 3,
   "metadata": {},
   "outputs": [],
   "source": [
    "pickle_name = \"all_convo.pickle\"\n",
    "pickle_path = Path(pickle_name)\n"
   ]
  },
  {
   "cell_type": "markdown",
   "metadata": {},
   "source": [
    "Set your name here. This is so that you can take yourself out of some of the graphs. Because these are conversations, naievely, they go A B A B and so on, so you'll be roughly 50% of the messages, which makes other trends hard to see."
   ]
  },
  {
   "cell_type": "code",
   "execution_count": 4,
   "metadata": {},
   "outputs": [],
   "source": [
    "MY_NAME = \"Ben Doherty\"\n"
   ]
  },
  {
   "cell_type": "code",
   "execution_count": 5,
   "metadata": {},
   "outputs": [],
   "source": [
    "def parse_obj(obj):\n",
    "    \"\"\"Unfuck facebook's message storage encoding.\n",
    "\n",
    "    Facebook stores their messages in some kind of insane mix of latin 1 and utf-8\n",
    "    This means that emoji and iOS punctuation are broken unless decoded with this.\n",
    "\n",
    "    Args:\n",
    "        obj (dict): a part of a facebook message\n",
    "\n",
    "    Returns:\n",
    "        dict: tht object, but not munted\n",
    "    \"\"\"\n",
    "    for key in obj:\n",
    "        if isinstance(obj[key], str):\n",
    "            obj[key] = obj[key].encode(\"latin_1\").decode(\"utf-8\")\n",
    "        elif isinstance(obj[key], list):\n",
    "            obj[key] = list(\n",
    "                map(\n",
    "                    lambda x: x\n",
    "                    if type(x) != str\n",
    "                    else x.encode(\"latin_1\").decode(\"utf-8\"),\n",
    "                    obj[key],\n",
    "                )\n",
    "            )\n",
    "        pass\n",
    "    return obj\n",
    "\n",
    "\n",
    "def sumarise_convo(name, data, verbose=False):\n",
    "    words = {}\n",
    "    words[name] = data.content.str.cat(sep=\" \")\n",
    "    wordcount = len(words[name].split(\" \"))\n",
    "\n",
    "    unique_words = set(words[name].split(\" \"))\n",
    "\n",
    "    pool = \" \".join([str(x) for x in data.content.to_list()]).lower()\n",
    "    clean = re.sub(mh.PUNCTUATION_REGEX, \" \", pool, flags=re.VERBOSE)\n",
    "    # and replace it with a single space\n",
    "    stopped = list(set([w for w in clean.split() if w not in mh.STOP_WORDS]))\n",
    "\n",
    "    if verbose:\n",
    "        print(\n",
    "            f\"{name} wrote {wordcount} words ({len(words[name])} characters)\"\n",
    "            f\" and used {len(stopped)} different words.\"\n",
    "        )\n",
    "    return {\n",
    "        \"participant\": name,\n",
    "        \"wordcount\": wordcount,\n",
    "        \"unique_words\": len(unique_words),\n",
    "        \"cleaned_unique\": len(stopped),\n",
    "    }\n",
    "\n",
    "\n",
    "def get_message_length(message):\n",
    "    if type(message) is str:\n",
    "        return len(message)\n",
    "    else:\n",
    "        return len(str(message))\n",
    "\n",
    "\n",
    "def replace_typographic_apostrophy(message):\n",
    "    if type(message) is str:\n",
    "        return message.replace(\"’\", \"'\")\n",
    "    else:\n",
    "        return message\n",
    "\n",
    "\n",
    "def load_whole_inbox(rootdir, platform=\"Facebook\", verbose=False):\n",
    "    conversations = []\n",
    "    for d in os.listdir(rootdir):\n",
    "        conversations.append(d)\n",
    "    print(\n",
    "        f\"There are {len(conversations)} conversations to look at from {platform}. ({rootdir})\"\n",
    "    )\n",
    "    # conversations\n",
    "\n",
    "    convo_df_list = []\n",
    "\n",
    "    for convo in os.listdir(rootdir):\n",
    "        for f in os.listdir(os.path.join(rootdir, convo)):\n",
    "            try:\n",
    "                message_list = []\n",
    "                path = os.path.join(os.path.join(rootdir, convo, f))\n",
    "                if Path(path).is_file():\n",
    "                    with open(path, \"r\") as fb_data:\n",
    "                        messages = json.load(fb_data, object_hook=parse_obj)\n",
    "                        message_list.extend(messages[\"messages\"])\n",
    "\n",
    "                if len(message_list) != 0:\n",
    "                    df = pd.DataFrame(message_list)\n",
    "                    df[\"source_convo\"] = convo\n",
    "                    df[\"datetime\"] = df.timestamp_ms.apply(\n",
    "                        lambda x: datetime.datetime.fromtimestamp(x / 1000.0)\n",
    "                    )\n",
    "\n",
    "                    if \"content\" in df.columns:\n",
    "                        df[\"message_length\"] = df.content.apply(get_message_length)\n",
    "                        df.content = df.content.apply(replace_typographic_apostrophy)\n",
    "                    else:\n",
    "                        df[\"message_length\"] = 0\n",
    "                        df[\"content\"] = np.nan\n",
    "\n",
    "                    df[\"platform\"] = platform\n",
    "\n",
    "                    convo_df_list.append(df)\n",
    "                    if verbose:\n",
    "                        try:\n",
    "                            print(convo, f)\n",
    "                            print(f\"{df.shape[0]} rows, between:\", \", \".join(list(df.sender_name.unique())))\n",
    "                            print()\n",
    "                        except:\n",
    "                            pass\n",
    "\n",
    "            except Exception as e:\n",
    "                print(\"exception\", convo, e)\n",
    "    print(f\"finished with {platform}\")\n",
    "    return convo_df_list\n"
   ]
  },
  {
   "cell_type": "code",
   "execution_count": 6,
   "metadata": {},
   "outputs": [
    {
     "name": "stdout",
     "output_type": "stream",
     "text": [
      "Loading from source files\n",
      "There are 1214 conversations to look at from Facebook. (fb_data/messages/inbox)\n",
      "finished with Facebook\n",
      "There are 43 conversations to look at from Facebook. (fb_data/messages/inbox_1)\n",
      "finished with Facebook\n",
      "There are 6 conversations to look at from Facebook. (fb_data/messages/archived_threads)\n",
      "finished with Facebook\n",
      "There are 144 conversations to look at from Instagram. (ig_data/inbox)\n",
      "finished with Instagram\n",
      "All_convo_df has 1010751 rows\n",
      "deduped: all_convo_df has 991967 rows\n",
      "Done\n"
     ]
    }
   ],
   "source": [
    "fb_rootdir = \"fb_data/messages/inbox\"\n",
    "ig_rootdir = \"ig_data/inbox\"\n",
    "\n",
    "print(\"Loading from source files\")\n",
    "fb_convo_df_list = load_whole_inbox(fb_rootdir, platform=\"Facebook\")\n",
    "fb_convo_df_list_2 = load_whole_inbox(fb_rootdir + \"_1\", platform=\"Facebook\")\n",
    "fb_archived_threads = load_whole_inbox(\"fb_data/messages/archived_threads\", platform=\"Facebook\", verbose=False)\n",
    "ig_convo_df_list = load_whole_inbox(ig_rootdir, platform=\"Instagram\")\n",
    "ho_convo_df_list = [load_hangouts()]\n",
    "\n",
    "convo_df_list = (\n",
    "    fb_convo_df_list + fb_convo_df_list_2 + ig_convo_df_list + ho_convo_df_list\n",
    ")\n",
    "# print(len(convo_df_list))\n",
    "all_convo_df = pd.concat(convo_df_list)\n",
    "print(f\"All_convo_df has {all_convo_df.shape[0]} rows\")\n",
    "all_convo_df.drop_duplicates(subset=[\"sender_name\", \"timestamp_ms\"],inplace=True)\n",
    "print(f\"deduped: all_convo_df has {all_convo_df.shape[0]} rows\")\n",
    "print(\"Done\")\n"
   ]
  },
  {
   "cell_type": "code",
   "execution_count": 7,
   "metadata": {},
   "outputs": [
    {
     "name": "stdout",
     "output_type": "stream",
     "text": [
      "Overall, there are 991967, messages in this dataset. These come from about 778 people, covering a period of 5472 days between January, 2007 and December, 2021. Over 3 platforms:\n"
     ]
    },
    {
     "data": {
      "text/plain": [
       "Facebook     764999\n",
       "Hangouts     146211\n",
       "Instagram     80757\n",
       "Name: platform, dtype: int64"
      ]
     },
     "execution_count": 7,
     "metadata": {},
     "output_type": "execute_result"
    }
   ],
   "source": [
    "print(\n",
    "    f\"Overall, there are {len(all_convo_df)}, messages in this dataset. \"\n",
    "    f\"These come from about {len(all_convo_df.sender_name.unique())} people, \"\n",
    "    f\"covering a period of {str(all_convo_df.datetime.max()-all_convo_df.datetime.min()).split(' days')[0]} days \"\n",
    "    f\"between {all_convo_df.datetime.min():%B, %Y} and {all_convo_df.datetime.max():%B, %Y}. \"\n",
    "    f\"Over {len(all_convo_df.platform.unique())} platforms:\"\n",
    ")\n",
    "all_convo_df.platform.value_counts()\n"
   ]
  },
  {
   "cell_type": "markdown",
   "metadata": {},
   "source": [
    "## Merge names\n",
    "\n",
    "Some people have different names across different platforms, firstly let's get a list of unique names, and then define a dictionary that will say what to merge into what."
   ]
  },
  {
   "cell_type": "code",
   "execution_count": 8,
   "metadata": {},
   "outputs": [
    {
     "name": "stdout",
     "output_type": "stream",
     "text": [
      "\n",
      " Facebook \n",
      " ['Ben Doherty', 'Meike Wijers', 'Ivana Kuzmanovska', 'Jenn Martin', 'Lucy Rimmer', 'Bree-Danielle Wyatt', 'Irina Belova', 'Karin Frost', 'Maddie Johanson', 'Natalie Barnes', 'Annisa Rivera Rizal', 'Katherine Withnell', 'Erika Bloomingdale', 'Elizabeth Deacon', 'Jülz Milthorpe', 'Sarah Maloof', 'Nazmul Azim Khan', 'Emma Stewart', 'Thearlaich Ogilive', 'Byron Sullivan', 'Antonia Sheil', 'Alessandra Moschella', 'Ishaan Varshney', 'Jodie Hinton', 'Tiara Dobbs', '', 'Shelda Kristie', 'Ali Jane', 'Adam Pigott', 'Marc Micuta', 'Debbie Hodge', 'Jess Howard', 'Brndn Wlsh', 'Rachel Bee', 'Bethan Ellis-Jones', 'Sebastian Winnett', 'Baptiste Higgs', 'Alexander Lee', 'Shawnee Finlayson', 'MattWho Bell', 'Barnaby Bennett', 'Elynda Ma', 'Heather Louise', 'Aiden Ray', 'Lydia Durkin George', 'Barry Dineen', 'Kelly Melrose', 'Y-e Ho', 'Yien Yien Soo', 'Lauren Maree', 'Clare Jackson', 'John Richard Gale', 'Bianca Toth', 'Anthea Murray', 'Deezy Jefferson', 'Other User', 'Laurel Fox', 'Sophie Chisholm', 'Melanie Mury', 'Grace Chung', 'Anna Biddlestone', 'Chelsea Harper', 'Rachel McHale', 'Toby Shew', 'Daniel Steven', 'Steph Harmon', 'Talor Browne', 'PayPal', 'Leslie Berman', 'Shirin Borthwick', 'Joseph Samuel', 'Alice Haylett Bryan', 'Shanny Lam', 'Ayelen Moure', 'Alex Chaston', 'Alex Doherty', 'Gen Pitkeathly', 'Nicole Sarapata', 'Ellie Armstrong', 'Matthew James', 'Kirby Rees', 'Louise Barbour', 'Danielle McParland', 'Sarah Farrell', 'Farb Od', 'Manal Shaikh', 'Rona Louise', 'Rima Sabina', 'John Doherty', 'Kameron Ahmad', 'Chris Bickerton', 'Angela Layana', 'Rachel Yabsley', 'Ellesha Dobbs', 'Julia Mintzer', 'Nick Flutter', 'Jonathan Capparelli', 'Paul Ylioja', 'Kimberly Ward', 'Kirsty Pat Douglas', 'Julia Bouvy Holland', 'Brooke Jackson', 'Adele Varcoe', 'Tina G Lee', 'Mikey Slezak', 'Brown Guy', 'Antony Lo', 'Josie Elt', 'Eva Seljan Mljač', 'Anna Meacher', 'Amanda Tenn', 'Lachlan Rowston', 'Lauren Gilling', 'Maryam Alavi', 'Sophie Scott', 'Michael Coburn', 'Clarrie Morabito', 'Suleiman Alhadidi', 'Rachel Elizabeth Smith', 'Charles Tarrant', 'Polly Brown', 'Angela Woda', 'Josh Mason', 'Stephanie Roberts', 'Jared Na', 'Linda Ovelgonne', 'Katharine Eva', 'Jimmy Dalton', 'Hannah Elphick', 'Lauren Battishall', 'Facebook for Business', 'Jordon Blank']\n",
      "\n",
      " Hangouts \n",
      " ['Ben Doherty', 'Irina Belova', 'unknown', 'David Wilcox', 'Lucy Rimmer', 'Charles Ogilvie', 'Alessandra Moschella', 'Melanie Mury', 'Dan R', 'Andrew Burrow', 'Barry Dineen', 'Angela Woda', 'Anthea Murray', 'Jonathan Capparelli', 'Daniel Elias']\n",
      "\n",
      " Instagram \n",
      " ['Ben Doherty', 'ivana kuzmanovska', 'Bree-Danielle Wyatt', 'tanyaruby', 'Jenn Martin', 'Maddie Johanson', 'Belinda Dunstan', 'Byron', 'karin ke', 'iflaneuse', 'Meike Wijers', 'Frank', 'Tiana Jane', 'Emmy Collins', 'Asher Haynes', 'Irina Belova', 'Brooke Jackson', 'Charles OGILVIE', 'Katherine Withnell', 'Alessandra Moschella', 'Natalie Barnes', 'Instagram User', 'Shelda Kristie', 'Clarrie', 'Lucy Rimmer', 'Jülz', 'jesshoward', 'Jodie', 'Tones', 'annisarivera', 'Claire Oh', 'Ross Bryan']\n"
     ]
    }
   ],
   "source": [
    "names = []\n",
    "platform_names = {}\n",
    "for platform, df in all_convo_df.groupby(\"platform\"):\n",
    "    vc = df.sender_name.value_counts()\n",
    "    these_names = vc[vc > 100].index.to_list()\n",
    "    names += these_names\n",
    "    print(\"\\n\",platform, \"\\n\",these_names)\n",
    "    platform_names[platform] = set(these_names)\n",
    "# print(platform_names)"
   ]
  },
  {
   "cell_type": "code",
   "execution_count": 9,
   "metadata": {},
   "outputs": [
    {
     "name": "stdout",
     "output_type": "stream",
     "text": [
      "\n",
      "shows in all platforms {'Lucy Rimmer', 'Alessandra Moschella', 'Ben Doherty', 'Irina Belova'}\n",
      "\n",
      "shows in fb and ig {'Maddie Johanson', 'Irina Belova', 'Bree-Danielle Wyatt', 'Brooke Jackson', 'Ben Doherty', 'Meike Wijers', 'Jenn Martin', 'Alessandra Moschella', 'Lucy Rimmer', 'Katherine Withnell', 'Natalie Barnes', 'Shelda Kristie'}\n",
      "\n",
      "fb only {'', 'Barry Dineen', 'Chris Bickerton', 'PayPal', 'Nicole Sarapata', 'Shanny Lam', 'Brown Guy', 'Jess Howard', 'Leslie Berman', 'Tina G Lee', 'Shirin Borthwick', 'Brndn Wlsh', 'Polly Brown', 'Melanie Mury', 'Elynda Ma', 'Josh Mason', 'Lydia Durkin George', 'Toby Shew', 'Joseph Samuel', 'Katharine Eva', 'Adele Varcoe', 'Hannah Elphick', 'Baptiste Higgs', 'Nick Flutter', 'Rachel Elizabeth Smith', 'Anna Biddlestone', 'Tiara Dobbs', 'Sarah Maloof', 'Sophie Chisholm', 'Debbie Hodge', 'Facebook for Business', 'Jared Na', 'Kirby Rees', 'Kirsty Pat Douglas', 'Thearlaich Ogilive', 'Ellesha Dobbs', 'Mikey Slezak', 'Byron Sullivan', 'Maryam Alavi', 'Danielle McParland', 'Eva Seljan Mljač', 'Suleiman Alhadidi', 'Emma Stewart', 'Jimmy Dalton', 'Alex Doherty', 'Jordon Blank', 'John Richard Gale', 'Ivana Kuzmanovska', 'Aiden Ray', 'Grace Chung', 'Anna Meacher', 'Rima Sabina', 'Annisa Rivera Rizal', 'Stephanie Roberts', 'Y-e Ho', 'Antony Lo', 'Angela Woda', 'Other User', 'Amanda Tenn', 'MattWho Bell', 'Rachel Bee', 'Bethan Ellis-Jones', 'Chelsea Harper', 'Alex Chaston', 'Ishaan Varshney', 'Sarah Farrell', 'Louise Barbour', 'Alice Haylett Bryan', 'Erika Bloomingdale', 'Alexander Lee', 'Antonia Sheil', 'Anthea Murray', 'Clarrie Morabito', 'Ali Jane', 'Nazmul Azim Khan', 'Charles Tarrant', 'Lachlan Rowston', 'Ellie Armstrong', 'Sebastian Winnett', 'Kameron Ahmad', 'Karin Frost', 'Bianca Toth', 'Clare Jackson', 'Gen Pitkeathly', 'Steph Harmon', 'Lauren Battishall', 'Linda Ovelgonne', 'Laurel Fox', 'Yien Yien Soo', 'Adam Pigott', 'Josie Elt', 'Talor Browne', 'Rona Louise', 'Lauren Maree', 'Shawnee Finlayson', 'Rachel Yabsley', 'Jülz Milthorpe', 'Barnaby Bennett', 'Farb Od', 'John Doherty', 'Marc Micuta', 'Ayelen Moure', 'Paul Ylioja', 'Lauren Gilling', 'Jonathan Capparelli', 'Angela Layana', 'Julia Bouvy Holland', 'Kimberly Ward', 'Rachel McHale', 'Elizabeth Deacon', 'Jodie Hinton', 'Kelly Melrose', 'Deezy Jefferson', 'Daniel Steven', 'Michael Coburn', 'Julia Mintzer', 'Manal Shaikh', 'Matthew James', 'Heather Louise', 'Sophie Scott'}\n",
      "\n",
      "ig only {'Ross Bryan', 'Jodie', 'Tones', 'Byron', 'Instagram User', 'annisarivera', 'ivana kuzmanovska', 'Asher Haynes', 'Tiana Jane', 'Claire Oh', 'Charles OGILVIE', 'jesshoward', 'karin ke', 'iflaneuse', 'Jülz', 'tanyaruby', 'Clarrie', 'Belinda Dunstan', 'Emmy Collins', 'Frank'}\n"
     ]
    }
   ],
   "source": [
    "fb_s = set(platform_names[\"Facebook\"])\n",
    "ig_s = set(platform_names[\"Instagram\"])\n",
    "ho_s = set(platform_names[\"Hangouts\"])\n",
    "# print(fb_s.symmetric_difference(ig_s))\n",
    "# print(fb_s.intersection(ig_s))\n",
    "print(\"\\nshows in all platforms\", fb_s & ig_s & ho_s)\n",
    "print(\"\\nshows in fb and ig\", fb_s & ig_s)\n",
    "print(\"\\nfb only\", fb_s - ig_s)\n",
    "print(\"\\nig only\", ig_s - fb_s)\n"
   ]
  },
  {
   "cell_type": "markdown",
   "metadata": {},
   "source": [
    "\n",
    "Use the lists above to work out who shows up in more than one list, but under different names, and then use the thesaurus below to map their names to a single value."
   ]
  },
  {
   "cell_type": "code",
   "execution_count": 10,
   "metadata": {},
   "outputs": [],
   "source": [
    "def fold_names(input_name):\n",
    "    annisa = \"Annisa Rivera Rizal\"\n",
    "    byron = \"Byron Sullivan\"\n",
    "    charlie = \"Charles Ogilvie\"\n",
    "    clarrie = \"Clarrie Morabito\"\n",
    "    ivana = \"Ivana Kuzmanovska\"\n",
    "    jess = \"Jess Howard\"\n",
    "    jodie = \"Jodie Hinton\"\n",
    "    julz = \"Jülz Milthorpe\"\n",
    "    karin = \"Karin Ke\"\n",
    "    tones = \"Antonia Sheil\"\n",
    "    brendan = \"Brendan Walsh\"\n",
    "    thesaurus = {\n",
    "        \"Byron Sullivan\": byron,\n",
    "        \"Byron\": byron,\n",
    "        \"Brndn Wlsh\": brendan,\n",
    "        \"Thearlaich Ogilive\": charlie,\n",
    "        \"Charles OGILVIE\": charlie,\n",
    "        \"Charles Ogilvie\": charlie,\n",
    "        \"Karin Frost\": karin,\n",
    "        \"karin ke\": karin,\n",
    "        \"Ivana Kuzmanovska\": ivana,\n",
    "        \"ivana kuzmanovska\": ivana,\n",
    "        \"Jülz\": julz,\n",
    "        \"Jülz Milthorpe\": julz,\n",
    "        \"jesshoward\": jess,\n",
    "        \"Jess Howard\": jess,\n",
    "        \"Jodie\": jodie,\n",
    "        \"Tones\": tones,\n",
    "        \"annisarivera\": annisa,\n",
    "        \"Clarrie\": clarrie,\n",
    "        \"tanyaruby\": \"Tanya P\",\n",
    "        \"iflaneuse\": \"Nicole Gardiner\",\n",
    "        \"Frank\": \"Francis Lockie\",\n",
    "    }\n",
    "    new_name = thesaurus.get(input_name, input_name)\n",
    "    # if new_name != input_name:\n",
    "    #     print(f\"renamed {input_name} to {new_name}\")\n",
    "    return new_name\n",
    "\n",
    "\n",
    "all_convo_df[\"input_names\"] = all_convo_df.sender_name\n",
    "all_convo_df.sender_name = all_convo_df.sender_name.apply(fold_names)\n"
   ]
  },
  {
   "cell_type": "code",
   "execution_count": 11,
   "metadata": {},
   "outputs": [
    {
     "data": {
      "text/plain": [
       "<AxesSubplot:>"
      ]
     },
     "execution_count": 11,
     "metadata": {},
     "output_type": "execute_result"
    },
    {
     "data": {
      "image/png": "[encoded data removed]",
      "text/plain": [
       "<Figure size 1440x720 with 1 Axes>"
      ]
     },
     "metadata": {
      "needs_background": "light"
     },
     "output_type": "display_data"
    }
   ],
   "source": [
    "vc = all_convo_df.sender_name.value_counts()\n",
    "vc[(vc>1000) & (vc<100000)].plot(kind=\"barh\")"
   ]
  },
  {
   "cell_type": "markdown",
   "metadata": {},
   "source": [
    "## Initials\n",
    "\n",
    "To label a lot of graphs we'll need a compact way to represent people, so I (Ben Doherty) can be shown as BD."
   ]
  },
  {
   "cell_type": "code",
   "execution_count": 12,
   "metadata": {},
   "outputs": [
    {
     "data": {
      "text/html": [
       "<div>\n",
       "<style scoped>\n",
       "    .dataframe tbody tr th:only-of-type {\n",
       "        vertical-align: middle;\n",
       "    }\n",
       "\n",
       "    .dataframe tbody tr th {\n",
       "        vertical-align: top;\n",
       "    }\n",
       "\n",
       "    .dataframe thead th {\n",
       "        text-align: right;\n",
       "    }\n",
       "</style>\n",
       "<table border=\"1\" class=\"dataframe\">\n",
       "  <thead>\n",
       "    <tr style=\"text-align: right;\">\n",
       "      <th></th>\n",
       "      <th>sender_name</th>\n",
       "      <th>content</th>\n",
       "      <th>initials</th>\n",
       "    </tr>\n",
       "  </thead>\n",
       "  <tbody>\n",
       "    <tr>\n",
       "      <th>0</th>\n",
       "      <td>Elena Bonanni</td>\n",
       "      <td>󾌸󾌸</td>\n",
       "      <td>EBo</td>\n",
       "    </tr>\n",
       "    <tr>\n",
       "      <th>1</th>\n",
       "      <td>Siân Evans</td>\n",
       "      <td>Sorry, i didnt mean to make you disapear. my i...</td>\n",
       "      <td>SEv</td>\n",
       "    </tr>\n",
       "    <tr>\n",
       "      <th>2</th>\n",
       "      <td>Joey Rumbold</td>\n",
       "      <td>Hi Ben \\nI can pick up early this evening if t...</td>\n",
       "      <td>JRu</td>\n",
       "    </tr>\n",
       "    <tr>\n",
       "      <th>0</th>\n",
       "      <td>Ro M Rodriguez</td>\n",
       "      <td>󾮗🏻</td>\n",
       "      <td>RMR</td>\n",
       "    </tr>\n",
       "    <tr>\n",
       "      <th>1078</th>\n",
       "      <td>Dan R</td>\n",
       "      <td>its actually quite linear going by that graph,...</td>\n",
       "      <td>DR</td>\n",
       "    </tr>\n",
       "    <tr>\n",
       "      <th>0</th>\n",
       "      <td>Chris Grant</td>\n",
       "      <td>Thanks - I have client meetings with my boss o...</td>\n",
       "      <td>CHRISgrantGRANTchris</td>\n",
       "    </tr>\n",
       "    <tr>\n",
       "      <th>0</th>\n",
       "      <td>Sarah Brown</td>\n",
       "      <td>i did read that on the final page.  the graph ...</td>\n",
       "      <td>SBr</td>\n",
       "    </tr>\n",
       "    <tr>\n",
       "      <th>27</th>\n",
       "      <td>Mitch Reed</td>\n",
       "      <td>Yes from me - thank you!</td>\n",
       "      <td>MITCHreedREEDmitch</td>\n",
       "    </tr>\n",
       "    <tr>\n",
       "      <th>0</th>\n",
       "      <td>Ghislaine Halpenny</td>\n",
       "      <td>Thanks. Much appreciated.</td>\n",
       "      <td>GH</td>\n",
       "    </tr>\n",
       "    <tr>\n",
       "      <th>1</th>\n",
       "      <td>Elizabeth Illsley</td>\n",
       "      <td>Cheers muchly!\\n\\nI certainly will when i'm in...</td>\n",
       "      <td>EI</td>\n",
       "    </tr>\n",
       "  </tbody>\n",
       "</table>\n",
       "</div>"
      ],
      "text/plain": [
       "             sender_name                                            content  \\\n",
       "0          Elena Bonanni                                                 󾌸󾌸   \n",
       "1             Siân Evans  Sorry, i didnt mean to make you disapear. my i...   \n",
       "2           Joey Rumbold  Hi Ben \\nI can pick up early this evening if t...   \n",
       "0         Ro M Rodriguez                                                 󾮗🏻   \n",
       "1078               Dan R  its actually quite linear going by that graph,...   \n",
       "0            Chris Grant  Thanks - I have client meetings with my boss o...   \n",
       "0            Sarah Brown  i did read that on the final page.  the graph ...   \n",
       "27            Mitch Reed                           Yes from me - thank you!   \n",
       "0     Ghislaine Halpenny                          Thanks. Much appreciated.   \n",
       "1      Elizabeth Illsley  Cheers muchly!\\n\\nI certainly will when i'm in...   \n",
       "\n",
       "                  initials  \n",
       "0                      EBo  \n",
       "1                      SEv  \n",
       "2                      JRu  \n",
       "0                      RMR  \n",
       "1078                    DR  \n",
       "0     CHRISgrantGRANTchris  \n",
       "0                      SBr  \n",
       "27      MITCHreedREEDmitch  \n",
       "0                       GH  \n",
       "1                       EI  "
      ]
     },
     "execution_count": 12,
     "metadata": {},
     "output_type": "execute_result"
    }
   ],
   "source": [
    "all_initials = all_convo_df.sender_name.value_counts().to_dict()\n",
    "initials_pool = []\n",
    "for name in all_initials.keys():\n",
    "    split = [x for x in re.split(\"[ \\.-]\", name) if x != \"\"]\n",
    "    try:\n",
    "        initials = \"\".join([n[0] for n in split]).upper()\n",
    "        if initials in initials_pool:\n",
    "            # print(\"uh oh, double up on\", initials, name, initials_pool)\n",
    "            initials = \"\".join([n[0] for n in split]).upper() + name.split()[-1][1]\n",
    "            # print(\"replaced with\", initials)\n",
    "            if initials in initials_pool:\n",
    "                initials = (\n",
    "                    split[0].upper()\n",
    "                    + split[1].lower()\n",
    "                    + split[-1].upper()\n",
    "                    + split[-2].lower()\n",
    "                )\n",
    "                if initials in initials_pool:\n",
    "                    print(\"fuck, complicated\", name)\n",
    "                    initials = name+\"x\"\n",
    "    except Exception as e:\n",
    "        # print(name, e, split)\n",
    "        initials = name+\"x\"\n",
    "    all_initials[name] = initials\n",
    "    initials_pool.append(initials)\n",
    "\n",
    "all_convo_df[\"initials\"] = all_convo_df.sender_name.apply(lambda x: all_initials[x])\n",
    "all_convo_df[[\"sender_name\", \"content\", \"initials\"]].drop_duplicates(subset=\"initials\").sample(10)\n"
   ]
  },
  {
   "cell_type": "markdown",
   "metadata": {},
   "source": [
    "## Gender\n",
    "\n",
    "I've had to make a new table, and just make up what people are assigning, but I think it's basically right. This will show if I'm biased in one way or the other in my messaging.\n",
    "\n",
    "I've put myself in with a gender of `me` so that I can tell where the split really lies, as I'm &thickapprox; 50% of the messages."
   ]
  },
  {
   "cell_type": "code",
   "execution_count": 16,
   "metadata": {},
   "outputs": [
    {
     "data": {
      "text/html": [
       "<div>\n",
       "<style scoped>\n",
       "    .dataframe tbody tr th:only-of-type {\n",
       "        vertical-align: middle;\n",
       "    }\n",
       "\n",
       "    .dataframe tbody tr th {\n",
       "        vertical-align: top;\n",
       "    }\n",
       "\n",
       "    .dataframe thead th {\n",
       "        text-align: right;\n",
       "    }\n",
       "</style>\n",
       "<table border=\"1\" class=\"dataframe\">\n",
       "  <thead>\n",
       "    <tr style=\"text-align: right;\">\n",
       "      <th></th>\n",
       "      <th>sender_name</th>\n",
       "      <th>timestamp_ms</th>\n",
       "      <th>content</th>\n",
       "      <th>type</th>\n",
       "      <th>is_unsent</th>\n",
       "      <th>users</th>\n",
       "      <th>source_convo</th>\n",
       "      <th>datetime</th>\n",
       "      <th>message_length</th>\n",
       "      <th>platform</th>\n",
       "      <th>...</th>\n",
       "      <th>ip</th>\n",
       "      <th>gifs</th>\n",
       "      <th>files</th>\n",
       "      <th>audio_files</th>\n",
       "      <th>missed</th>\n",
       "      <th>event_id</th>\n",
       "      <th>input_names</th>\n",
       "      <th>initials</th>\n",
       "      <th>gender_x</th>\n",
       "      <th>gender_y</th>\n",
       "    </tr>\n",
       "  </thead>\n",
       "  <tbody>\n",
       "    <tr>\n",
       "      <th>230117</th>\n",
       "      <td>Ben Doherty</td>\n",
       "      <td>1.589421e+12</td>\n",
       "      <td>NaN</td>\n",
       "      <td>Generic</td>\n",
       "      <td>False</td>\n",
       "      <td>NaN</td>\n",
       "      <td>lucyrimmer_pfwdzikwla</td>\n",
       "      <td>2020-05-14 11:53:31.409000</td>\n",
       "      <td>3</td>\n",
       "      <td>Facebook</td>\n",
       "      <td>...</td>\n",
       "      <td>NaN</td>\n",
       "      <td>NaN</td>\n",
       "      <td>NaN</td>\n",
       "      <td>NaN</td>\n",
       "      <td>NaN</td>\n",
       "      <td>NaN</td>\n",
       "      <td>Ben Doherty</td>\n",
       "      <td>BD</td>\n",
       "      <td>me</td>\n",
       "      <td>me</td>\n",
       "    </tr>\n",
       "    <tr>\n",
       "      <th>518631</th>\n",
       "      <td>Lucy Rimmer</td>\n",
       "      <td>1.500272e+12</td>\n",
       "      <td>Oh yeAh</td>\n",
       "      <td>Generic</td>\n",
       "      <td>False</td>\n",
       "      <td>NaN</td>\n",
       "      <td>lucyrimmer_pfwdzikwla</td>\n",
       "      <td>2017-07-17 16:20:28.973000</td>\n",
       "      <td>7</td>\n",
       "      <td>Facebook</td>\n",
       "      <td>...</td>\n",
       "      <td>NaN</td>\n",
       "      <td>NaN</td>\n",
       "      <td>NaN</td>\n",
       "      <td>NaN</td>\n",
       "      <td>NaN</td>\n",
       "      <td>NaN</td>\n",
       "      <td>Lucy Rimmer</td>\n",
       "      <td>LR</td>\n",
       "      <td>f</td>\n",
       "      <td>f</td>\n",
       "    </tr>\n",
       "    <tr>\n",
       "      <th>853140</th>\n",
       "      <td>Brndn Wlsh</td>\n",
       "      <td>1.430615e+12</td>\n",
       "      <td>Yea what a legend</td>\n",
       "      <td>Generic</td>\n",
       "      <td>False</td>\n",
       "      <td>NaN</td>\n",
       "      <td>timandbrndn_tno9fbhybq</td>\n",
       "      <td>2015-05-03 11:10:26.779000</td>\n",
       "      <td>17</td>\n",
       "      <td>Facebook</td>\n",
       "      <td>...</td>\n",
       "      <td>NaN</td>\n",
       "      <td>NaN</td>\n",
       "      <td>NaN</td>\n",
       "      <td>NaN</td>\n",
       "      <td>NaN</td>\n",
       "      <td>NaN</td>\n",
       "      <td>Brndn Wlsh</td>\n",
       "      <td>BW</td>\n",
       "      <td>m</td>\n",
       "      <td>m</td>\n",
       "    </tr>\n",
       "    <tr>\n",
       "      <th>587901</th>\n",
       "      <td>Irina Belova</td>\n",
       "      <td>1.394232e+12</td>\n",
       "      <td>Not yet</td>\n",
       "      <td>Generic</td>\n",
       "      <td>False</td>\n",
       "      <td>NaN</td>\n",
       "      <td>NaN</td>\n",
       "      <td>2014-03-08 09:38:41.563014</td>\n",
       "      <td>7</td>\n",
       "      <td>Hangouts</td>\n",
       "      <td>...</td>\n",
       "      <td>NaN</td>\n",
       "      <td>NaN</td>\n",
       "      <td>NaN</td>\n",
       "      <td>NaN</td>\n",
       "      <td>NaN</td>\n",
       "      <td>NaN</td>\n",
       "      <td>Irina Belova</td>\n",
       "      <td>IB</td>\n",
       "      <td>f</td>\n",
       "      <td>f</td>\n",
       "    </tr>\n",
       "  </tbody>\n",
       "</table>\n",
       "<p>4 rows × 26 columns</p>\n",
       "</div>"
      ],
      "text/plain": [
       "         sender_name  timestamp_ms            content     type  is_unsent  \\\n",
       "230117   Ben Doherty  1.589421e+12                NaN  Generic      False   \n",
       "518631   Lucy Rimmer  1.500272e+12            Oh yeAh  Generic      False   \n",
       "853140    Brndn Wlsh  1.430615e+12  Yea what a legend  Generic      False   \n",
       "587901  Irina Belova  1.394232e+12            Not yet  Generic      False   \n",
       "\n",
       "       users            source_convo                   datetime  \\\n",
       "230117   NaN   lucyrimmer_pfwdzikwla 2020-05-14 11:53:31.409000   \n",
       "518631   NaN   lucyrimmer_pfwdzikwla 2017-07-17 16:20:28.973000   \n",
       "853140   NaN  timandbrndn_tno9fbhybq 2015-05-03 11:10:26.779000   \n",
       "587901   NaN                     NaN 2014-03-08 09:38:41.563014   \n",
       "\n",
       "        message_length  platform  ...   ip gifs  files audio_files missed  \\\n",
       "230117               3  Facebook  ...  NaN  NaN    NaN         NaN    NaN   \n",
       "518631               7  Facebook  ...  NaN  NaN    NaN         NaN    NaN   \n",
       "853140              17  Facebook  ...  NaN  NaN    NaN         NaN    NaN   \n",
       "587901               7  Hangouts  ...  NaN  NaN    NaN         NaN    NaN   \n",
       "\n",
       "       event_id   input_names initials gender_x gender_y  \n",
       "230117      NaN   Ben Doherty       BD       me       me  \n",
       "518631      NaN   Lucy Rimmer       LR        f        f  \n",
       "853140      NaN    Brndn Wlsh       BW        m        m  \n",
       "587901      NaN  Irina Belova       IB        f        f  \n",
       "\n",
       "[4 rows x 26 columns]"
      ]
     },
     "execution_count": 16,
     "metadata": {},
     "output_type": "execute_result"
    }
   ],
   "source": [
    "gender_file = \"gender.csv\"\n",
    "gender_df = pd.read_csv(gender_file)\n",
    "all_convo_df = pd.merge(all_convo_df, gender_df, on=\"sender_name\", how=\"left\")\n",
    "all_convo_df.sample(4)"
   ]
  },
  {
   "cell_type": "code",
   "execution_count": 15,
   "metadata": {},
   "outputs": [],
   "source": [
    "gender_list = [\"me\", \"f\", \"m\"] # edit this to match your gender_file\n",
    "not_assigned = all_convo_df[[x not in gender_list for x in all_convo_df.gender]]\n",
    "if not_assigned.shape[0] != 0:\n",
    "    print(\n",
    "        f\"you need to tag people in the gender file: {gender_file}\\n\"\n",
    "        \"If you don't want to, just comment this and the section above out\"\n",
    "    )\n",
    "    not_assigned.sender_name.valuecounts()\n"
   ]
  },
  {
   "cell_type": "code",
   "execution_count": 15,
   "metadata": {},
   "outputs": [
    {
     "data": {
      "text/plain": [
       "(0, 25)"
      ]
     },
     "execution_count": 15,
     "metadata": {},
     "output_type": "execute_result"
    }
   ],
   "source": [
    "all_convo_df[[x not in gender_list for x in all_convo_df.gender]].shape"
   ]
  },
  {
   "cell_type": "code",
   "execution_count": 16,
   "metadata": {},
   "outputs": [],
   "source": [
    "def clean_and_stop(content, as_list=False):\n",
    "    try:\n",
    "        clean = re.sub(\n",
    "            mh.PUNCTUATION_REGEX,\n",
    "            \" \",\n",
    "            content,\n",
    "            flags=re.VERBOSE,  # and replace it with a single space\n",
    "        )\n",
    "        stopped = [w.lower() for w in clean.split() if w.lower() not in mh.STOP_WORDS]\n",
    "        # print(content, \"=>\", stopped)\n",
    "        if as_list:\n",
    "            return stopped\n",
    "        else:\n",
    "            return \" \".join(stopped)\n",
    "    except Exception as e:\n",
    "        # print(content, e)\n",
    "        return content\n",
    "\n",
    "\n",
    "all_convo_df[\"clean_content\"] = all_convo_df.content.apply(clean_and_stop)\n"
   ]
  },
  {
   "cell_type": "code",
   "execution_count": 17,
   "metadata": {},
   "outputs": [
    {
     "name": "stdout",
     "output_type": "stream",
     "text": [
      "saving new pickle: all_convo.pickle\n",
      "done\n",
      "Overall, there are 933925, messages in this dataset. These come from about 87 people, covering a period of 5472 days between January, 2007 and December, 2021. Over 3 platforms:\n"
     ]
    },
    {
     "data": {
      "text/plain": [
       "Facebook     733106\n",
       "Hangouts     129683\n",
       "Instagram     71136\n",
       "Name: platform, dtype: int64"
      ]
     },
     "execution_count": 17,
     "metadata": {},
     "output_type": "execute_result"
    }
   ],
   "source": [
    "print(f\"saving new pickle: {pickle_path}\")\n",
    "pd.to_pickle(all_convo_df, pickle_path)\n",
    "print(\"done\")\n",
    "\n",
    "print(\n",
    "    f\"Overall, there are {len(all_convo_df)}, messages in this dataset. \"\n",
    "    f\"These come from about {len(all_convo_df.sender_name.unique())} people, \"\n",
    "    f\"covering a period of {str(all_convo_df.datetime.max()-all_convo_df.datetime.min()).split(' days')[0]} days \"\n",
    "    f\"between {all_convo_df.datetime.min():%B, %Y} and {all_convo_df.datetime.max():%B, %Y}. \"\n",
    "    f\"Over {len(all_convo_df.platform.unique())} platforms:\"\n",
    ")\n",
    "all_convo_df.platform.value_counts()"
   ]
  },
  {
   "cell_type": "code",
   "execution_count": 18,
   "metadata": {},
   "outputs": [
    {
     "data": {
      "text/plain": [
       "<AxesSubplot:>"
      ]
     },
     "execution_count": 18,
     "metadata": {},
     "output_type": "execute_result"
    },
    {
     "data": {
      "image/png": "[encoded data removed]",
      "text/plain": [
       "<Figure size 1440x720 with 1 Axes>"
      ]
     },
     "metadata": {
      "needs_background": "light"
     },
     "output_type": "display_data"
    }
   ],
   "source": []
  }
 ],
 "metadata": {
  "interpreter": {
   "hash": "0bc9a1eeff4ba10b0800c01e5b0b872b265b92561193d5706117af22821f4cc2"
  },
  "kernelspec": {
   "display_name": "Python 3.9.5 64-bit ('dp-env': venv)",
   "name": "python3"
  },
  "language_info": {
   "codemirror_mode": {
    "name": "ipython",
    "version": 3
   },
   "file_extension": ".py",
   "mimetype": "text/x-python",
   "name": "python",
   "nbconvert_exporter": "python",
   "pygments_lexer": "ipython3",
   "version": "3.9.9"
  }
 },
 "nbformat": 4,
 "nbformat_minor": 2
}
