{
 "cells": [
  {
   "cell_type": "markdown",
   "metadata": {},
   "source": [
    "# Importing all the conversations\n",
    "\n",
    "This is a bit trickier as you need to do something with all the conversations you're loading up."
   ]
  },
  {
   "cell_type": "markdown",
   "metadata": {},
   "source": [
    "---\n",
    "\n",
    "Load up a tonne of libraries"
   ]
  },
  {
   "cell_type": "code",
   "execution_count": 1,
   "metadata": {},
   "outputs": [],
   "source": [
    "import datetime\n",
    "import json\n",
    "import os\n",
    "import pickle\n",
    "import random\n",
    "import re\n",
    "import textwrap\n",
    "from pathlib import Path\n",
    "from collections import OrderedDict\n",
    "\n",
    "import matplotlib as mpl\n",
    "import matplotlib.dates as mdates\n",
    "import matplotlib.pyplot as plt\n",
    "from matplotlib.font_manager import FontProperties\n",
    "import numpy as np\n",
    "import pandas as pd\n",
    "import seaborn as sns\n",
    "from scipy.optimize import curve_fit\n",
    "from scipy.spatial import ConvexHull\n",
    "\n",
    "import message_helpers as mh\n",
    "from hangouts_loader import load_hangouts\n"
   ]
  },
  {
   "cell_type": "code",
   "execution_count": 2,
   "metadata": {},
   "outputs": [],
   "source": [
    "plt.rcParams[\"figure.figsize\"] = (20, 10)\n",
    "plt.rcParams[\"font.sans-serif\"] = [\"Segoe UI Emoji\"]\n"
   ]
  },
  {
   "cell_type": "code",
   "execution_count": 3,
   "metadata": {},
   "outputs": [],
   "source": [
    "pickle_name = \"all_convo.pickle\"\n",
    "pickle_path = Path(pickle_name)\n"
   ]
  },
  {
   "cell_type": "markdown",
   "metadata": {},
   "source": [
    "Set your name here. This is so that you can take yourself out of some of the graphs. Because these are conversations, naievely, they go A B A B and so on, so you'll be roughly 50% of the messages, which makes other trends hard to see."
   ]
  },
  {
   "cell_type": "code",
   "execution_count": 4,
   "metadata": {},
   "outputs": [],
   "source": [
    "MY_NAME = \"Ben Doherty\"\n"
   ]
  },
  {
   "cell_type": "code",
   "execution_count": 5,
   "metadata": {},
   "outputs": [],
   "source": [
    "def parse_obj(obj):\n",
    "    \"\"\"Unfuck facebook's message storage encoding.\n",
    "\n",
    "    Facebook stores their messages in some kind of insane mix of latin 1 and utf-8\n",
    "    This means that emoji and iOS punctuation are broken unless decoded with this.\n",
    "\n",
    "    Args:\n",
    "        obj (dict): a part of a facebook message\n",
    "\n",
    "    Returns:\n",
    "        dict: tht object, but not munted\n",
    "    \"\"\"\n",
    "    for key in obj:\n",
    "        if isinstance(obj[key], str):\n",
    "            obj[key] = obj[key].encode(\"latin_1\").decode(\"utf-8\")\n",
    "        elif isinstance(obj[key], list):\n",
    "            obj[key] = list(\n",
    "                map(\n",
    "                    lambda x: x\n",
    "                    if type(x) != str\n",
    "                    else x.encode(\"latin_1\").decode(\"utf-8\"),\n",
    "                    obj[key],\n",
    "                )\n",
    "            )\n",
    "        pass\n",
    "    return obj\n",
    "\n",
    "\n",
    "def sumarise_convo(name, data, verbose=False):\n",
    "    words = {}\n",
    "    words[name] = data.content.str.cat(sep=\" \")\n",
    "    wordcount = len(words[name].split(\" \"))\n",
    "\n",
    "    unique_words = set(words[name].split(\" \"))\n",
    "\n",
    "    pool = \" \".join([str(x) for x in data.content.to_list()]).lower()\n",
    "    clean = re.sub(mh.PUNCTUATION_REGEX, \" \", pool, flags=re.VERBOSE)\n",
    "    # and replace it with a single space\n",
    "    stopped = list(set([w for w in clean.split() if w not in mh.STOP_WORDS]))\n",
    "\n",
    "    if verbose:\n",
    "        print(\n",
    "            f\"{name} wrote {wordcount} words ({len(words[name])} characters)\"\n",
    "            f\" and used {len(stopped)} different words.\"\n",
    "        )\n",
    "    return {\n",
    "        \"participant\": name,\n",
    "        \"wordcount\": wordcount,\n",
    "        \"unique_words\": len(unique_words),\n",
    "        \"cleaned_unique\": len(stopped),\n",
    "    }\n",
    "\n",
    "\n",
    "def get_message_length(message):\n",
    "    if type(message) is str:\n",
    "        return len(message)\n",
    "    else:\n",
    "        return len(str(message))\n",
    "\n",
    "\n",
    "def replace_typographic_apostrophy(message):\n",
    "    if type(message) is str:\n",
    "        return message.replace(\"’\", \"'\")\n",
    "    else:\n",
    "        return message\n",
    "\n",
    "\n",
    "def load_whole_inbox(rootdir, platform=\"Facebook\", verbose=False):\n",
    "    conversations = []\n",
    "    for d in os.listdir(rootdir):\n",
    "        conversations.append(d)\n",
    "    print(\n",
    "        f\"There are {len(conversations)} conversations to look at from {platform}. ({rootdir})\"\n",
    "    )\n",
    "    # conversations\n",
    "\n",
    "    convo_df_list = []\n",
    "\n",
    "    for convo in os.listdir(rootdir):\n",
    "        for f in os.listdir(os.path.join(rootdir, convo)):\n",
    "            try:\n",
    "                message_list = []\n",
    "                path = os.path.join(os.path.join(rootdir, convo, f))\n",
    "                if Path(path).is_file():\n",
    "                    with open(path, \"r\") as fb_data:\n",
    "                        messages = json.load(fb_data, object_hook=parse_obj)\n",
    "                        message_list.extend(messages[\"messages\"])\n",
    "\n",
    "                if len(message_list) != 0:\n",
    "                    df = pd.DataFrame(message_list)\n",
    "                    df[\"source_convo\"] = convo\n",
    "                    df[\"datetime\"] = df.timestamp_ms.apply(\n",
    "                        lambda x: datetime.datetime.fromtimestamp(x / 1000.0)\n",
    "                    )\n",
    "\n",
    "                    if \"content\" in df.columns:\n",
    "                        df[\"message_length\"] = df.content.apply(get_message_length)\n",
    "                        df.content = df.content.apply(replace_typographic_apostrophy)\n",
    "                    else:\n",
    "                        df[\"message_length\"] = 0\n",
    "                        df[\"content\"] = np.nan\n",
    "\n",
    "                    df[\"platform\"] = platform\n",
    "\n",
    "                    convo_df_list.append(df)\n",
    "                    if verbose:\n",
    "                        try:\n",
    "                            print(convo, f)\n",
    "                            print(f\"{df.shape[0]} rows, between:\", \", \".join(list(df.sender_name.unique())))\n",
    "                            print()\n",
    "                        except:\n",
    "                            pass\n",
    "\n",
    "            except Exception as e:\n",
    "                print(\"exception\", convo, e)\n",
    "    print(f\"finished with {platform}\")\n",
    "    return convo_df_list\n"
   ]
  },
  {
   "cell_type": "code",
   "execution_count": 6,
   "metadata": {},
   "outputs": [
    {
     "name": "stdout",
     "output_type": "stream",
     "text": [
      "Loading from source files\n",
      "There are 1214 conversations to look at from Facebook. (fb_data/messages/inbox)\n",
      "finished with Facebook\n",
      "There are 43 conversations to look at from Facebook. (fb_data/messages/inbox_1)\n",
      "finished with Facebook\n",
      "There are 6 conversations to look at from Facebook. (fb_data/messages/archived_threads)\n",
      "catherineheatherflickand2others_36f1-zehrw message_1.json\n",
      "6 rows, between: Ben Doherty, Ali Jane, Beverley Renders, Tish McCrohan, Eif Reynolds, Sue Terry\n",
      "\n",
      "ilanarebeccapaulaand31others_djv402zenw message_1.json\n",
      "23 rows, between: Ben Doherty, Andrew Kavanagh, Ginni Tory, Matt Brook, Pooky Hesmondhalgh, Josie Elt, Duncan Wagstaff, Kalani Kuruppu, Anna Watson, Lizzi Potter, Lizzy Westmacott, Rachel McHale, Charles Tarrant, David Collyer, Katie Cannon, John Richard Gale, Hannah Elphick, Jeffrey Arun Rubasingham, Leighanne DB, Angela Taylor, Gillian Chan, Anna Biddlestone\n",
      "\n",
      "karinfrost_ytv2zmljrq message_1 (2).json\n",
      "703 rows, between: Ben Doherty, Karin Frost\n",
      "\n",
      "karinfrost_ytv2zmljrq message_1.json\n",
      "430 rows, between: Ben Doherty, Karin Frost\n",
      "\n",
      "mikekateelissiaand37others_lwb1qk173w message_1.json\n",
      "8 rows, between: Ben Doherty, Matthew Olson, Natalie Pasfield, Heather Cardin, Jonathan Foxley, Grace Hynd, Anthea Murray\n",
      "\n",
      "tiaraand_y7s6ikogbw message_1.json\n",
      "5 rows, between: Ben Doherty, Tiara Dobbs\n",
      "\n",
      "witchesofmarrickville_mftva6awjw message_1.json\n",
      "7 rows, between: Ben Doherty\n",
      "\n",
      "finished with Facebook\n",
      "There are 144 conversations to look at from Instagram. (ig_data/inbox)\n",
      "finished with Instagram\n",
      "done: all_convo_df has 1010751 rows\n"
     ]
    }
   ],
   "source": [
    "fb_rootdir = \"fb_data/messages/inbox\"\n",
    "ig_rootdir = \"ig_data/inbox\"\n",
    "\n",
    "print(\"Loading from source files\")\n",
    "fb_convo_df_list = load_whole_inbox(fb_rootdir, platform=\"Facebook\")\n",
    "fb_convo_df_list_2 = load_whole_inbox(fb_rootdir + \"_1\", platform=\"Facebook\")\n",
    "fb_archived_threads = load_whole_inbox(\"fb_data/messages/archived_threads\", platform=\"Facebook\", verbose=True)\n",
    "ig_convo_df_list = load_whole_inbox(ig_rootdir, platform=\"Instagram\")\n",
    "ho_convo_df_list = [load_hangouts()]\n",
    "\n",
    "convo_df_list = (\n",
    "    fb_convo_df_list + fb_convo_df_list_2 + ig_convo_df_list + ho_convo_df_list\n",
    ")\n",
    "# print(len(convo_df_list))\n",
    "all_convo_df = pd.concat(convo_df_list)\n",
    "print(f\"done: all_convo_df has {all_convo_df.shape[0]} rows\")\n"
   ]
  },
  {
   "cell_type": "code",
   "execution_count": 7,
   "metadata": {},
   "outputs": [
    {
     "name": "stdout",
     "output_type": "stream",
     "text": [
      "Overall, there are 1010751, messages in this dataset. These come from about 778 people, covering a period of 5472 days between January, 2007 and December, 2021. Over 3 platforms:\n"
     ]
    },
    {
     "data": {
      "text/plain": [
       "Facebook     783319\n",
       "Hangouts     146211\n",
       "Instagram     81221\n",
       "Name: platform, dtype: int64"
      ]
     },
     "execution_count": 7,
     "metadata": {},
     "output_type": "execute_result"
    }
   ],
   "source": [
    "print(\n",
    "    f\"Overall, there are {len(all_convo_df)}, messages in this dataset. \"\n",
    "    f\"These come from about {len(all_convo_df.sender_name.unique())} people, \"\n",
    "    f\"covering a period of {str(all_convo_df.datetime.max()-all_convo_df.datetime.min()).split(' days')[0]} days \"\n",
    "    f\"between {all_convo_df.datetime.min():%B, %Y} and {all_convo_df.datetime.max():%B, %Y}. \"\n",
    "    f\"Over {len(all_convo_df.platform.unique())} platforms:\"\n",
    ")\n",
    "all_convo_df.platform.value_counts()\n"
   ]
  },
  {
   "cell_type": "markdown",
   "metadata": {},
   "source": [
    "## Merge names\n",
    "\n",
    "Some people have different names across different platforms, firstly let's get a list of unique names, and then define a dictionary that will say what to merge into what."
   ]
  },
  {
   "cell_type": "code",
   "execution_count": 8,
   "metadata": {},
   "outputs": [
    {
     "name": "stdout",
     "output_type": "stream",
     "text": [
      "\n",
      " Facebook \n",
      " ['Ben Doherty', 'Meike Wijers', 'Ivana Kuzmanovska', 'Jenn Martin', 'Lucy Rimmer', 'Bree-Danielle Wyatt', 'Irina Belova', 'Karin Frost', 'Maddie Johanson', 'Natalie Barnes', 'Annisa Rivera Rizal', 'Katherine Withnell', 'Erika Bloomingdale', 'Elizabeth Deacon', 'Jülz Milthorpe', 'Sarah Maloof', 'Nazmul Azim Khan', 'Emma Stewart', 'Thearlaich Ogilive', 'Byron Sullivan', 'Antonia Sheil', 'Alessandra Moschella', 'Ishaan Varshney', 'Jodie Hinton', 'Tiara Dobbs', '', 'Shelda Kristie', 'Ali Jane', 'Adam Pigott', 'Marc Micuta', 'Debbie Hodge', 'Jess Howard', 'Brndn Wlsh', 'Rachel Bee', 'Bethan Ellis-Jones', 'Sebastian Winnett', 'Baptiste Higgs', 'Alexander Lee', 'Shawnee Finlayson', 'MattWho Bell', 'Barnaby Bennett', 'Kelly Melrose', 'Elynda Ma', 'Heather Louise', 'Aiden Ray', 'Lydia Durkin George', 'Barry Dineen', 'Y-e Ho', 'Lauren Maree', 'Yien Yien Soo', 'Clare Jackson', 'John Richard Gale', 'Bianca Toth', 'Anthea Murray', 'Laurel Fox', 'Deezy Jefferson', 'Melanie Mury', 'Other User', 'Sophie Chisholm', 'Grace Chung', 'Chelsea Harper', 'Anna Biddlestone', 'Rachel McHale', 'Toby Shew', 'Daniel Steven', 'Steph Harmon', 'Talor Browne', 'PayPal', 'Leslie Berman', 'Shirin Borthwick', 'Joseph Samuel', 'Alice Haylett Bryan', 'Shanny Lam', 'Ayelen Moure', 'Alex Chaston', 'Alex Doherty', 'Gen Pitkeathly', 'Nicole Sarapata', 'Ellie Armstrong', 'Matthew James', 'Kirby Rees', 'Louise Barbour', 'Danielle McParland', 'Farb Od', 'Sarah Farrell', 'Manal Shaikh', 'Rona Louise', 'Rima Sabina', 'John Doherty', 'Kameron Ahmad', 'Chris Bickerton', 'Kimberly Ward', 'Angela Layana', 'Rachel Yabsley', 'Ellesha Dobbs', 'Julia Mintzer', 'Nick Flutter', 'Jonathan Capparelli', 'Paul Ylioja', 'Kirsty Pat Douglas', 'Julia Bouvy Holland', 'Brooke Jackson', 'Josie Elt', 'Adele Varcoe', 'Tina G Lee', 'Mikey Slezak', 'Brown Guy', 'Antony Lo', 'Eva Seljan Mljač', 'Anna Meacher', 'Amanda Tenn', 'Lachlan Rowston', 'Lauren Gilling', 'Maryam Alavi', 'Sophie Scott', 'Michael Coburn', 'Clarrie Morabito', 'Suleiman Alhadidi', 'Rachel Elizabeth Smith', 'Charles Tarrant', 'Polly Brown', 'Angela Woda', 'Linda Ovelgonne', 'Josh Mason', 'Stephanie Roberts', 'Jared Na', 'Katharine Eva', 'Jimmy Dalton', 'Hannah Elphick', 'Lauren Battishall', 'Facebook for Business', 'Jordon Blank']\n",
      "\n",
      " Hangouts \n",
      " ['Ben Doherty', 'Irina Belova', 'unknown', 'David Wilcox', 'Lucy Rimmer', 'Charles Ogilvie', 'Alessandra Moschella', 'Melanie Mury', 'Dan R', 'Andrew Burrow', 'Barry Dineen', 'Angela Woda', 'Anthea Murray', 'Jonathan Capparelli', 'Daniel Elias']\n",
      "\n",
      " Instagram \n",
      " ['Ben Doherty', 'ivana kuzmanovska', 'Bree-Danielle Wyatt', 'tanyaruby', 'Jenn Martin', 'Maddie Johanson', 'Belinda Dunstan', 'Byron', 'karin ke', 'iflaneuse', 'Meike Wijers', 'Frank', 'Tiana Jane', 'Emmy Collins', 'Irina Belova', 'Asher Haynes', 'Brooke Jackson', 'Charles OGILVIE', 'Katherine Withnell', 'Alessandra Moschella', 'Natalie Barnes', 'Instagram User', 'Shelda Kristie', 'Clarrie', 'Lucy Rimmer', 'Jülz', 'jesshoward', 'Jodie', 'Tones', 'annisarivera', 'Claire Oh', 'Ross Bryan']\n"
     ]
    }
   ],
   "source": [
    "names = []\n",
    "platform_names = {}\n",
    "for platform, df in all_convo_df.groupby(\"platform\"):\n",
    "    vc = df.sender_name.value_counts()\n",
    "    these_names = vc[vc > 100].index.to_list()\n",
    "    names += these_names\n",
    "    print(\"\\n\",platform, \"\\n\",these_names)\n",
    "    platform_names[platform] = set(these_names)\n",
    "# print(platform_names)"
   ]
  },
  {
   "cell_type": "code",
   "execution_count": 9,
   "metadata": {},
   "outputs": [
    {
     "name": "stdout",
     "output_type": "stream",
     "text": [
      "\n",
      "shows in all platforms {'Ben Doherty', 'Alessandra Moschella', 'Lucy Rimmer', 'Irina Belova'}\n",
      "\n",
      "shows in fb and ig {'Alessandra Moschella', 'Meike Wijers', 'Natalie Barnes', 'Katherine Withnell', 'Maddie Johanson', 'Brooke Jackson', 'Shelda Kristie', 'Ben Doherty', 'Bree-Danielle Wyatt', 'Jenn Martin', 'Irina Belova', 'Lucy Rimmer'}\n",
      "\n",
      "fb only {'', 'Angela Layana', 'Deezy Jefferson', 'Clarrie Morabito', 'Thearlaich Ogilive', 'Y-e Ho', 'Jared Na', 'Joseph Samuel', 'Brndn Wlsh', 'Byron Sullivan', 'Lydia Durkin George', 'Jess Howard', 'Other User', 'Julia Bouvy Holland', 'Hannah Elphick', 'Talor Browne', 'Shanny Lam', 'Nick Flutter', 'Lauren Maree', 'Sarah Farrell', 'Barnaby Bennett', 'Kameron Ahmad', 'Josh Mason', 'Ali Jane', 'Baptiste Higgs', 'Anthea Murray', 'Bethan Ellis-Jones', 'Facebook for Business', 'Nicole Sarapata', 'Adam Pigott', 'Rachel Elizabeth Smith', 'Yien Yien Soo', 'Polly Brown', 'Melanie Mury', 'Adele Varcoe', 'Gen Pitkeathly', 'Sebastian Winnett', 'Antonia Sheil', 'Nazmul Azim Khan', 'Elynda Ma', 'Rima Sabina', 'Katharine Eva', 'Suleiman Alhadidi', 'Matthew James', 'Shawnee Finlayson', 'Aiden Ray', 'Sophie Scott', 'MattWho Bell', 'Jordon Blank', 'Kirby Rees', 'Manal Shaikh', 'Lauren Battishall', 'Sarah Maloof', 'Anna Biddlestone', 'Erika Bloomingdale', 'Josie Elt', 'Brown Guy', 'Annisa Rivera Rizal', 'Linda Ovelgonne', 'Emma Stewart', 'Kimberly Ward', 'Tina G Lee', 'Rachel Bee', 'Alexander Lee', 'Alex Chaston', 'Jimmy Dalton', 'Eva Seljan Mljač', 'Bianca Toth', 'Leslie Berman', 'Marc Micuta', 'Ellesha Dobbs', 'Louise Barbour', 'Rona Louise', 'Lachlan Rowston', 'Mikey Slezak', 'Julia Mintzer', 'Kirsty Pat Douglas', 'Stephanie Roberts', 'Daniel Steven', 'Ellie Armstrong', 'Jonathan Capparelli', 'Ivana Kuzmanovska', 'John Doherty', 'Chris Bickerton', 'Angela Woda', 'Debbie Hodge', 'Michael Coburn', 'Charles Tarrant', 'Anna Meacher', 'Grace Chung', 'Chelsea Harper', 'Jülz Milthorpe', 'Lauren Gilling', 'Amanda Tenn', 'Farb Od', 'Toby Shew', 'Maryam Alavi', 'Karin Frost', 'Ishaan Varshney', 'PayPal', 'Sophie Chisholm', 'Rachel Yabsley', 'Ayelen Moure', 'Tiara Dobbs', 'Danielle McParland', 'Steph Harmon', 'Clare Jackson', 'Kelly Melrose', 'Heather Louise', 'John Richard Gale', 'Alice Haylett Bryan', 'Laurel Fox', 'Jodie Hinton', 'Paul Ylioja', 'Antony Lo', 'Shirin Borthwick', 'Elizabeth Deacon', 'Barry Dineen', 'Rachel McHale', 'Alex Doherty'}\n",
      "\n",
      "ig only {'Claire Oh', 'Tiana Jane', 'karin ke', 'Jodie', 'Emmy Collins', 'Instagram User', 'jesshoward', 'Frank', 'Clarrie', 'iflaneuse', 'ivana kuzmanovska', 'Jülz', 'tanyaruby', 'Charles OGILVIE', 'annisarivera', 'Belinda Dunstan', 'Byron', 'Asher Haynes', 'Ross Bryan', 'Tones'}\n"
     ]
    }
   ],
   "source": [
    "fb_s = set(platform_names[\"Facebook\"])\n",
    "ig_s = set(platform_names[\"Instagram\"])\n",
    "ho_s = set(platform_names[\"Hangouts\"])\n",
    "# print(fb_s.symmetric_difference(ig_s))\n",
    "# print(fb_s.intersection(ig_s))\n",
    "print(\"\\nshows in all platforms\", fb_s & ig_s & ho_s)\n",
    "print(\"\\nshows in fb and ig\", fb_s & ig_s)\n",
    "print(\"\\nfb only\", fb_s - ig_s)\n",
    "print(\"\\nig only\", ig_s - fb_s)\n"
   ]
  },
  {
   "cell_type": "markdown",
   "metadata": {},
   "source": [
    "\n",
    "Use the lists above to work out who shows up in more than one list, but under different names, and then use the thesaurus below to map their names to a single value."
   ]
  },
  {
   "cell_type": "code",
   "execution_count": 10,
   "metadata": {},
   "outputs": [],
   "source": [
    "def fold_names(input_name):\n",
    "    annisa = \"Annisa Rivera Rizal\"\n",
    "    byron = \"Byron Sullivan\"\n",
    "    charlie = \"Charles Ogilvie\"\n",
    "    clarrie = \"Clarrie Morabito\"\n",
    "    ivana = \"Ivana Kuzmanovska\"\n",
    "    jess = \"Jess Howard\"\n",
    "    jodie = \"Jodie Hinton\"\n",
    "    julz = \"Jülz Milthorpe\"\n",
    "    karin = \"Karin Ke\"\n",
    "    tones = \"Antonia Sheil\"\n",
    "    thesaurus = {\n",
    "        \"Byron Sullivan\": byron,\n",
    "        \"Byron\": byron,\n",
    "        \"Thearlaich Ogilive\": charlie,\n",
    "        \"Charles OGILVIE\": charlie,\n",
    "        \"Charles Ogilvie\": charlie,\n",
    "        \"Karin Frost\": karin,\n",
    "        \"karin ke\": karin,\n",
    "        \"Ivana Kuzmanovska\": ivana,\n",
    "        \"ivana kuzmanovska\": ivana,\n",
    "        \"Jülz\": julz,\n",
    "        \"Jülz Milthorpe\": julz,\n",
    "        \"jesshoward\": jess,\n",
    "        \"Jess Howard\": jess,\n",
    "        \"Jodie\": jodie,\n",
    "        \"Tones\": tones,\n",
    "        \"annisarivera\": annisa,\n",
    "        \"Clarrie\": clarrie,\n",
    "        \"tanyaruby\": \"Tanya P\",\n",
    "        \"iflaneuse\": \"Nicole Gardiner\",\n",
    "        \"Frank\": \"Francis Lockie\",\n",
    "    }\n",
    "    new_name = thesaurus.get(input_name, input_name)\n",
    "    # if new_name != input_name:\n",
    "    #     print(f\"renamed {input_name} to {new_name}\")\n",
    "    return new_name\n",
    "\n",
    "\n",
    "all_convo_df[\"input_names\"] = all_convo_df.sender_name\n",
    "all_convo_df.sender_name = all_convo_df.sender_name.apply(fold_names)\n"
   ]
  },
  {
   "cell_type": "code",
   "execution_count": 11,
   "metadata": {},
   "outputs": [
    {
     "data": {
      "text/plain": [
       "<AxesSubplot:>"
      ]
     },
     "execution_count": 11,
     "metadata": {},
     "output_type": "execute_result"
    },
    {
     "data": {
      "image/png": "[encoded data removed]",
      "text/plain": [
       "<Figure size 1440x720 with 1 Axes>"
      ]
     },
     "metadata": {
      "needs_background": "light"
     },
     "output_type": "display_data"
    }
   ],
   "source": [
    "vc = all_convo_df.sender_name.value_counts()\n",
    "vc[(vc>1000) & (vc<100000)].plot(kind=\"barh\")"
   ]
  },
  {
   "cell_type": "markdown",
   "metadata": {},
   "source": [
    "## Initials\n",
    "\n",
    "To label a lot of graphs we'll need a compact way to represent people, so I (Ben Doherty) can be shown as BD."
   ]
  },
  {
   "cell_type": "code",
   "execution_count": 12,
   "metadata": {},
   "outputs": [
    {
     "data": {
      "text/html": [
       "<div>\n",
       "<style scoped>\n",
       "    .dataframe tbody tr th:only-of-type {\n",
       "        vertical-align: middle;\n",
       "    }\n",
       "\n",
       "    .dataframe tbody tr th {\n",
       "        vertical-align: top;\n",
       "    }\n",
       "\n",
       "    .dataframe thead th {\n",
       "        text-align: right;\n",
       "    }\n",
       "</style>\n",
       "<table border=\"1\" class=\"dataframe\">\n",
       "  <thead>\n",
       "    <tr style=\"text-align: right;\">\n",
       "      <th></th>\n",
       "      <th>sender_name</th>\n",
       "      <th>content</th>\n",
       "      <th>initials</th>\n",
       "    </tr>\n",
       "  </thead>\n",
       "  <tbody>\n",
       "    <tr>\n",
       "      <th>33240</th>\n",
       "      <td>Alex Lee</td>\n",
       "      <td>NaN</td>\n",
       "      <td>ALe</td>\n",
       "    </tr>\n",
       "    <tr>\n",
       "      <th>1</th>\n",
       "      <td>Adam Holloway</td>\n",
       "      <td>Was it any good?  \\n</td>\n",
       "      <td>AHo</td>\n",
       "    </tr>\n",
       "    <tr>\n",
       "      <th>2</th>\n",
       "      <td>Joey Rumbold</td>\n",
       "      <td>Hi Ben \\nI can pick up early this evening if t...</td>\n",
       "      <td>JRu</td>\n",
       "    </tr>\n",
       "    <tr>\n",
       "      <th>0</th>\n",
       "      <td>Rachel Hamblin</td>\n",
       "      <td>yup - got hitched in july, happy as Larry! Sti...</td>\n",
       "      <td>RH</td>\n",
       "    </tr>\n",
       "    <tr>\n",
       "      <th>2</th>\n",
       "      <td>T 👁 A</td>\n",
       "      <td>And I'm moving city side soon! Finally haha</td>\n",
       "      <td>T👁A</td>\n",
       "    </tr>\n",
       "    <tr>\n",
       "      <th>4</th>\n",
       "      <td>Chris Stabback</td>\n",
       "      <td>Adaaaaaaaam I can't make it but happy birthday...</td>\n",
       "      <td>CHRISstabbackSTABBACKchris</td>\n",
       "    </tr>\n",
       "    <tr>\n",
       "      <th>3</th>\n",
       "      <td>Hugh Turner</td>\n",
       "      <td>That's from DeeAndre</td>\n",
       "      <td>HT</td>\n",
       "    </tr>\n",
       "    <tr>\n",
       "      <th>0</th>\n",
       "      <td>Daminda Yapa</td>\n",
       "      <td>Love the profile picture, looks like you about...</td>\n",
       "      <td>DAMINDAyapaYAPAdaminda</td>\n",
       "    </tr>\n",
       "    <tr>\n",
       "      <th>7</th>\n",
       "      <td>Kathryn Dalecki</td>\n",
       "      <td>Block says he has no time tonight...</td>\n",
       "      <td>KD</td>\n",
       "    </tr>\n",
       "    <tr>\n",
       "      <th>3</th>\n",
       "      <td>Jess Howard</td>\n",
       "      <td>Just sick of being on my phone!</td>\n",
       "      <td>JHo</td>\n",
       "    </tr>\n",
       "  </tbody>\n",
       "</table>\n",
       "</div>"
      ],
      "text/plain": [
       "           sender_name                                            content  \\\n",
       "33240         Alex Lee                                                NaN   \n",
       "1        Adam Holloway                               Was it any good?  \\n   \n",
       "2         Joey Rumbold  Hi Ben \\nI can pick up early this evening if t...   \n",
       "0       Rachel Hamblin  yup - got hitched in july, happy as Larry! Sti...   \n",
       "2                T 👁 A        And I'm moving city side soon! Finally haha   \n",
       "4       Chris Stabback  Adaaaaaaaam I can't make it but happy birthday...   \n",
       "3          Hugh Turner                               That's from DeeAndre   \n",
       "0         Daminda Yapa  Love the profile picture, looks like you about...   \n",
       "7      Kathryn Dalecki               Block says he has no time tonight...   \n",
       "3          Jess Howard                    Just sick of being on my phone!   \n",
       "\n",
       "                         initials  \n",
       "33240                         ALe  \n",
       "1                             AHo  \n",
       "2                             JRu  \n",
       "0                              RH  \n",
       "2                             T👁A  \n",
       "4      CHRISstabbackSTABBACKchris  \n",
       "3                              HT  \n",
       "0          DAMINDAyapaYAPAdaminda  \n",
       "7                              KD  \n",
       "3                             JHo  "
      ]
     },
     "execution_count": 12,
     "metadata": {},
     "output_type": "execute_result"
    }
   ],
   "source": [
    "all_initials = all_convo_df.sender_name.value_counts().to_dict()\n",
    "initials_pool = []\n",
    "for name in all_initials.keys():\n",
    "    split = [x for x in re.split(\"[ \\.-]\", name) if x != \"\"]\n",
    "    try:\n",
    "        initials = \"\".join([n[0] for n in split]).upper()\n",
    "        if initials in initials_pool:\n",
    "            # print(\"uh oh, double up on\", initials, name, initials_pool)\n",
    "            initials = \"\".join([n[0] for n in split]).upper() + name.split()[-1][1]\n",
    "            # print(\"replaced with\", initials)\n",
    "            if initials in initials_pool:\n",
    "                initials = (\n",
    "                    split[0].upper()\n",
    "                    + split[1].lower()\n",
    "                    + split[-1].upper()\n",
    "                    + split[-2].lower()\n",
    "                )\n",
    "                if initials in initials_pool:\n",
    "                    print(\"fuck, complicated\", name)\n",
    "                    initials = name+\"x\"\n",
    "    except Exception as e:\n",
    "        # print(name, e, split)\n",
    "        initials = name+\"x\"\n",
    "    all_initials[name] = initials\n",
    "    initials_pool.append(initials)\n",
    "\n",
    "all_convo_df[\"initials\"] = all_convo_df.sender_name.apply(lambda x: all_initials[x])\n",
    "all_convo_df[[\"sender_name\", \"content\", \"initials\"]].drop_duplicates(subset=\"initials\").sample(10)\n"
   ]
  },
  {
   "cell_type": "markdown",
   "metadata": {},
   "source": [
    "## Gender\n",
    "\n",
    "I've had to make a new table, and just make up what people are assigning, but I think it's basically right. This will show if I'm biased in one way or the other in my messaging.\n",
    "\n",
    "I've put myself in with a gender of `me` so that I can tell where the split really lies, as I'm &thickapprox; 50% of the messages."
   ]
  },
  {
   "cell_type": "code",
   "execution_count": 13,
   "metadata": {},
   "outputs": [
    {
     "data": {
      "text/html": [
       "<div>\n",
       "<style scoped>\n",
       "    .dataframe tbody tr th:only-of-type {\n",
       "        vertical-align: middle;\n",
       "    }\n",
       "\n",
       "    .dataframe tbody tr th {\n",
       "        vertical-align: top;\n",
       "    }\n",
       "\n",
       "    .dataframe thead th {\n",
       "        text-align: right;\n",
       "    }\n",
       "</style>\n",
       "<table border=\"1\" class=\"dataframe\">\n",
       "  <thead>\n",
       "    <tr style=\"text-align: right;\">\n",
       "      <th></th>\n",
       "      <th>sender_name</th>\n",
       "      <th>timestamp_ms</th>\n",
       "      <th>content</th>\n",
       "      <th>type</th>\n",
       "      <th>is_unsent</th>\n",
       "      <th>users</th>\n",
       "      <th>source_convo</th>\n",
       "      <th>datetime</th>\n",
       "      <th>message_length</th>\n",
       "      <th>platform</th>\n",
       "      <th>...</th>\n",
       "      <th>share</th>\n",
       "      <th>ip</th>\n",
       "      <th>gifs</th>\n",
       "      <th>files</th>\n",
       "      <th>audio_files</th>\n",
       "      <th>missed</th>\n",
       "      <th>event_id</th>\n",
       "      <th>input_names</th>\n",
       "      <th>initials</th>\n",
       "      <th>gender</th>\n",
       "    </tr>\n",
       "  </thead>\n",
       "  <tbody>\n",
       "    <tr>\n",
       "      <th>53497</th>\n",
       "      <td>Ben Doherty</td>\n",
       "      <td>1.543828e+12</td>\n",
       "      <td>I left the appt open</td>\n",
       "      <td>Generic</td>\n",
       "      <td>False</td>\n",
       "      <td>NaN</td>\n",
       "      <td>brndnwlsh_x4cjyyofrq</td>\n",
       "      <td>2018-12-03 20:10:11.459</td>\n",
       "      <td>20</td>\n",
       "      <td>Facebook</td>\n",
       "      <td>...</td>\n",
       "      <td>NaN</td>\n",
       "      <td>NaN</td>\n",
       "      <td>NaN</td>\n",
       "      <td>NaN</td>\n",
       "      <td>NaN</td>\n",
       "      <td>NaN</td>\n",
       "      <td>NaN</td>\n",
       "      <td>Ben Doherty</td>\n",
       "      <td>BD</td>\n",
       "      <td>me</td>\n",
       "    </tr>\n",
       "    <tr>\n",
       "      <th>295293</th>\n",
       "      <td>Ben Doherty</td>\n",
       "      <td>1.611874e+12</td>\n",
       "      <td>But you don't need to hang I guess</td>\n",
       "      <td>Generic</td>\n",
       "      <td>False</td>\n",
       "      <td>NaN</td>\n",
       "      <td>meikewijers_ypa4ghjk_q</td>\n",
       "      <td>2021-01-29 09:50:29.603</td>\n",
       "      <td>34</td>\n",
       "      <td>Facebook</td>\n",
       "      <td>...</td>\n",
       "      <td>NaN</td>\n",
       "      <td>NaN</td>\n",
       "      <td>NaN</td>\n",
       "      <td>NaN</td>\n",
       "      <td>NaN</td>\n",
       "      <td>NaN</td>\n",
       "      <td>NaN</td>\n",
       "      <td>Ben Doherty</td>\n",
       "      <td>BD</td>\n",
       "      <td>me</td>\n",
       "    </tr>\n",
       "    <tr>\n",
       "      <th>170155</th>\n",
       "      <td>Ben Doherty</td>\n",
       "      <td>1.588338e+12</td>\n",
       "      <td>Maybe I'll get there before my body gives out ...</td>\n",
       "      <td>Generic</td>\n",
       "      <td>False</td>\n",
       "      <td>NaN</td>\n",
       "      <td>jennmartin_8rjjopoglw</td>\n",
       "      <td>2020-05-01 23:06:58.159</td>\n",
       "      <td>51</td>\n",
       "      <td>Facebook</td>\n",
       "      <td>...</td>\n",
       "      <td>NaN</td>\n",
       "      <td>NaN</td>\n",
       "      <td>NaN</td>\n",
       "      <td>NaN</td>\n",
       "      <td>NaN</td>\n",
       "      <td>NaN</td>\n",
       "      <td>NaN</td>\n",
       "      <td>Ben Doherty</td>\n",
       "      <td>BD</td>\n",
       "      <td>me</td>\n",
       "    </tr>\n",
       "    <tr>\n",
       "      <th>821845</th>\n",
       "      <td>Jenn Martin</td>\n",
       "      <td>1.617515e+12</td>\n",
       "      <td>Send me a video of you shaping it</td>\n",
       "      <td>Generic</td>\n",
       "      <td>False</td>\n",
       "      <td>NaN</td>\n",
       "      <td>jennmartin_8rjjopoglw</td>\n",
       "      <td>2021-04-04 15:46:43.593</td>\n",
       "      <td>33</td>\n",
       "      <td>Facebook</td>\n",
       "      <td>...</td>\n",
       "      <td>NaN</td>\n",
       "      <td>NaN</td>\n",
       "      <td>NaN</td>\n",
       "      <td>NaN</td>\n",
       "      <td>NaN</td>\n",
       "      <td>NaN</td>\n",
       "      <td>NaN</td>\n",
       "      <td>Jenn Martin</td>\n",
       "      <td>JM</td>\n",
       "      <td>f</td>\n",
       "    </tr>\n",
       "  </tbody>\n",
       "</table>\n",
       "<p>4 rows × 25 columns</p>\n",
       "</div>"
      ],
      "text/plain": [
       "        sender_name  timestamp_ms  \\\n",
       "53497   Ben Doherty  1.543828e+12   \n",
       "295293  Ben Doherty  1.611874e+12   \n",
       "170155  Ben Doherty  1.588338e+12   \n",
       "821845  Jenn Martin  1.617515e+12   \n",
       "\n",
       "                                                  content     type  is_unsent  \\\n",
       "53497                                I left the appt open  Generic      False   \n",
       "295293                 But you don't need to hang I guess  Generic      False   \n",
       "170155  Maybe I'll get there before my body gives out ...  Generic      False   \n",
       "821845                  Send me a video of you shaping it  Generic      False   \n",
       "\n",
       "       users            source_convo                datetime  message_length  \\\n",
       "53497    NaN    brndnwlsh_x4cjyyofrq 2018-12-03 20:10:11.459              20   \n",
       "295293   NaN  meikewijers_ypa4ghjk_q 2021-01-29 09:50:29.603              34   \n",
       "170155   NaN   jennmartin_8rjjopoglw 2020-05-01 23:06:58.159              51   \n",
       "821845   NaN   jennmartin_8rjjopoglw 2021-04-04 15:46:43.593              33   \n",
       "\n",
       "        platform  ... share   ip  gifs files audio_files missed event_id  \\\n",
       "53497   Facebook  ...   NaN  NaN   NaN   NaN         NaN    NaN      NaN   \n",
       "295293  Facebook  ...   NaN  NaN   NaN   NaN         NaN    NaN      NaN   \n",
       "170155  Facebook  ...   NaN  NaN   NaN   NaN         NaN    NaN      NaN   \n",
       "821845  Facebook  ...   NaN  NaN   NaN   NaN         NaN    NaN      NaN   \n",
       "\n",
       "        input_names initials gender  \n",
       "53497   Ben Doherty       BD     me  \n",
       "295293  Ben Doherty       BD     me  \n",
       "170155  Ben Doherty       BD     me  \n",
       "821845  Jenn Martin       JM      f  \n",
       "\n",
       "[4 rows x 25 columns]"
      ]
     },
     "execution_count": 13,
     "metadata": {},
     "output_type": "execute_result"
    }
   ],
   "source": [
    "gender_file = \"gender.csv\"\n",
    "gender_df = pd.read_csv(gender_file)\n",
    "all_convo_df = pd.merge(all_convo_df, gender_df, on=\"sender_name\")\n",
    "all_convo_df.sample(4)"
   ]
  },
  {
   "cell_type": "code",
   "execution_count": 14,
   "metadata": {},
   "outputs": [],
   "source": [
    "gender_list = [\"me\", \"f\", \"m\"] # edit this to match your gender_file\n",
    "not_assigned = all_convo_df[[x not in gender_list for x in all_convo_df.gender]]\n",
    "if not_assigned.shape[0] != 0:\n",
    "    print(\n",
    "        f\"you need to tag people in the gender file: {gender_file}\\n\"\n",
    "        \"If you don't want to, just comment this and the section above out\"\n",
    "    )\n",
    "    not_assigned.sender_name.valuecounts()\n"
   ]
  },
  {
   "cell_type": "code",
   "execution_count": 15,
   "metadata": {},
   "outputs": [
    {
     "data": {
      "text/plain": [
       "(0, 25)"
      ]
     },
     "execution_count": 15,
     "metadata": {},
     "output_type": "execute_result"
    }
   ],
   "source": [
    "all_convo_df[[x not in gender_list for x in all_convo_df.gender]].shape"
   ]
  },
  {
   "cell_type": "code",
   "execution_count": 16,
   "metadata": {},
   "outputs": [],
   "source": [
    "def clean_and_stop(content, as_list=False):\n",
    "    try:\n",
    "        clean = re.sub(\n",
    "            mh.PUNCTUATION_REGEX,\n",
    "            \" \",\n",
    "            content,\n",
    "            flags=re.VERBOSE,  # and replace it with a single space\n",
    "        )\n",
    "        stopped = [w.lower() for w in clean.split() if w.lower() not in mh.STOP_WORDS]\n",
    "        # print(content, \"=>\", stopped)\n",
    "        if as_list:\n",
    "            return stopped\n",
    "        else:\n",
    "            return \" \".join(stopped)\n",
    "    except Exception as e:\n",
    "        # print(content, e)\n",
    "        return content\n",
    "\n",
    "\n",
    "all_convo_df[\"clean_content\"] = all_convo_df.content.apply(clean_and_stop)\n"
   ]
  },
  {
   "cell_type": "code",
   "execution_count": 17,
   "metadata": {},
   "outputs": [
    {
     "name": "stdout",
     "output_type": "stream",
     "text": [
      "saving new pickle: all_convo.pickle\n",
      "done\n"
     ]
    }
   ],
   "source": [
    "print(f\"saving new pickle: {pickle_path}\")\n",
    "pd.to_pickle(all_convo_df, pickle_path)\n",
    "print(\"done\")"
   ]
  }
 ],
 "metadata": {
  "interpreter": {
   "hash": "0bc9a1eeff4ba10b0800c01e5b0b872b265b92561193d5706117af22821f4cc2"
  },
  "kernelspec": {
   "display_name": "Python 3.9.5 64-bit ('dp-env': venv)",
   "name": "python3"
  },
  "language_info": {
   "codemirror_mode": {
    "name": "ipython",
    "version": 3
   },
   "file_extension": ".py",
   "mimetype": "text/x-python",
   "name": "python",
   "nbconvert_exporter": "python",
   "pygments_lexer": "ipython3",
   "version": "3.9.9"
  }
 },
 "nbformat": 4,
 "nbformat_minor": 2
}
