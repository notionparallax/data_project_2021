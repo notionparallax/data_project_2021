{
 "cells": [
  {
   "cell_type": "markdown",
   "metadata": {},
   "source": [
    "# Firsts\r\n",
    "\r\n",
    "If we consider all the messages ever sent to, and recieved by, _the corpus_, when did each word enter the corpus? Who put it there? What does it say about a person if they put a lot of new words into the corpus, and what even is a word? "
   ]
  },
  {
   "cell_type": "markdown",
   "metadata": {},
   "source": [
    "---\r\n",
    "\r\n",
    "Load up a tonne of libraries"
   ]
  },
  {
   "cell_type": "code",
   "execution_count": null,
   "metadata": {},
   "outputs": [],
   "source": [
    "import datetime\r\n",
    "import json\r\n",
    "import os\r\n",
    "import pickle\r\n",
    "import random\r\n",
    "import re\r\n",
    "import textwrap\r\n",
    "from pathlib import Path\r\n",
    "from collections import OrderedDict\r\n",
    "\r\n",
    "import matplotlib as mpl\r\n",
    "import matplotlib.dates as mdates\r\n",
    "import matplotlib.pyplot as plt\r\n",
    "from matplotlib.font_manager import FontProperties\r\n",
    "from matplotlib.ticker import MultipleLocator, FixedFormatter, FixedLocator\r\n",
    "import numpy as np\r\n",
    "import pandas as pd\r\n",
    "import seaborn as sns\r\n",
    "from scipy.optimize import curve_fit\r\n",
    "from scipy.spatial import ConvexHull\r\n",
    "\r\n",
    "import message_helpers as mh\r\n",
    "from hangouts_loader import load_hangouts\r\n"
   ]
  },
  {
   "cell_type": "code",
   "execution_count": null,
   "metadata": {},
   "outputs": [],
   "source": [
    "plt.rcParams[\"figure.figsize\"] = (20, 10)\r\n",
    "plt.rcParams[\"font.sans-serif\"] = [\"Segoe UI Emoji\"]\r\n"
   ]
  },
  {
   "cell_type": "code",
   "execution_count": null,
   "metadata": {},
   "outputs": [],
   "source": [
    "pickle_name = \"all_convo.pickle\"\r\n",
    "pickle_path = Path(pickle_name)\r\n"
   ]
  },
  {
   "cell_type": "markdown",
   "metadata": {},
   "source": [
    "Set your name here. This is so that you can take yourself out of some of the graphs. Because these are conversations, naievely, they go A B A B and so on, so you'll be roughly 50% of the messages, which makes other trends hard to see."
   ]
  },
  {
   "cell_type": "code",
   "execution_count": null,
   "metadata": {},
   "outputs": [],
   "source": [
    "MY_NAME = \"Ben Doherty\"\r\n"
   ]
  },
  {
   "cell_type": "code",
   "execution_count": null,
   "metadata": {},
   "outputs": [],
   "source": [
    "all_convo_df = pd.read_pickle(pickle_path)\r\n",
    "print(f\"done: all_convo_df has {all_convo_df.shape[0]} rows\")\r\n",
    "all_convo_df.head()\r\n"
   ]
  },
  {
   "cell_type": "code",
   "execution_count": null,
   "metadata": {},
   "outputs": [],
   "source": [
    "print(\r\n",
    "    f\"Overall, there are {len(all_convo_df)}, messages in this dataset. \"\r\n",
    "    f\"These come from about {len(all_convo_df.sender_name.unique())} people, \"\r\n",
    "    f\"covering a period of {str(all_convo_df.datetime.max()-all_convo_df.datetime.min()).split(' days')[0]} days \"\r\n",
    "    f\"between {all_convo_df.datetime.min():%B, %Y} and {all_convo_df.datetime.max():%B, %Y}. \"\r\n",
    "    f\"Over {len(all_convo_df.platform.unique())} platforms:\"\r\n",
    ")\r\n",
    "all_convo_df.platform.value_counts()\r\n"
   ]
  },
  {
   "cell_type": "markdown",
   "metadata": {},
   "source": [
    "# Plotting time that might show sleep\r\n",
    "\r\n",
    "This is a bit nasty, I don't really like it, but it seems to work. There _must_ be a better way.\r\n",
    "\r\n",
    "Convert the time component of the datetime to just-date and just-time (but in seconds, as a number) and then plot that.\r\n",
    "\r\n",
    "The y axis is nasty becasue it doesn't show as time, just as numbers. I assume that they're seconds after midnight GMT."
   ]
  },
  {
   "cell_type": "code",
   "execution_count": null,
   "metadata": {},
   "outputs": [],
   "source": [
    "def time_to_seconds(dt):\r\n",
    "    t = dt.time()\r\n",
    "    seconds = (t.hour * 60 + t.minute) * 60 + t.second\r\n",
    "    return seconds\r\n",
    "\r\n",
    "\r\n",
    "all_convo_df[\"date\"] = all_convo_df.datetime.apply(lambda x: x.date())\r\n",
    "all_convo_df[\"time\"] = all_convo_df.datetime.apply(lambda x: x.time())\r\n",
    "all_convo_df[\"seconds\"] = all_convo_df.datetime.apply(time_to_seconds)\r\n",
    "all_convo_df.sample(5)\r\n"
   ]
  },
  {
   "cell_type": "code",
   "execution_count": null,
   "metadata": {},
   "outputs": [],
   "source": [
    "platform_colours = {\"Facebook\": \"blue\", \"Hangouts\": \"green\", \"Instagram\": \"orange\"}\r\n",
    "fig = plt.figure()\r\n",
    "ax = fig.add_subplot(111)\r\n",
    "for name, df in all_convo_df.groupby(\"platform\"):\r\n",
    "    ax.scatter(\r\n",
    "        df.date, df.seconds, s=20, alpha=0.04, label=name, c=platform_colours[name]\r\n",
    "    )\r\n",
    "ax.yaxis_date()\r\n",
    "fig.autofmt_xdate()\r\n",
    "plt.title(\"All messages in and out, coloured by platform\")\r\n",
    "plt.ylabel(\"seconds after midnight GMT\")\r\n",
    "leg = plt.legend()\r\n",
    "for lh in leg.legendHandles:\r\n",
    "    lh.set_alpha(1)\r\n",
    "plt.show()\r\n"
   ]
  },
  {
   "cell_type": "markdown",
   "metadata": {},
   "source": [
    "Looking at this, we can see pretty clearly that there's a stripe where I sleep, except for 2016&mdash;2018 where I'm moving back and forth between Sydney and Vancouver, so the sleep and the timezones are all messed up.\r\n",
    "\r\n",
    "The pale area on the left is because there's a missing dataset from the Skype era. Google Hangouts bursts onto the scene in 2013, then dissapears almost as fast in 2017, with Instagram making a little showing, but not in earnest until very recently."
   ]
  },
  {
   "cell_type": "code",
   "execution_count": null,
   "metadata": {},
   "outputs": [],
   "source": [
    "fig = plt.figure()\r\n",
    "ax = fig.add_subplot(111)\r\n",
    "z = 4\r\n",
    "for name, df in all_convo_df.groupby(\"gender\"):\r\n",
    "    if name != \"me\":\r\n",
    "        ax.scatter(df.date, df.seconds, s=10, alpha=0.04, label=name, zorder=z)\r\n",
    "        z -= 1  # this reverses the default plotting order\r\n",
    "ax.yaxis_date()\r\n",
    "fig.autofmt_xdate()\r\n",
    "plt.title(\"all messages in and out, coloured by gender\")\r\n",
    "plt.ylabel(\"seconds after midnight GMT\")\r\n",
    "leg = plt.legend()\r\n",
    "for lh in leg.legendHandles:\r\n",
    "    lh.set_alpha(1)\r\n",
    "plt.show()\r\n"
   ]
  },
  {
   "cell_type": "code",
   "execution_count": null,
   "metadata": {},
   "outputs": [],
   "source": [
    "sns.jointplot(\r\n",
    "    data=all_convo_df, x=\"date\", y=\"seconds\", marker=\".\", s=5\r\n",
    ")  # , hue=\"platform\")\r\n"
   ]
  },
  {
   "cell_type": "markdown",
   "metadata": {},
   "source": [
    "So, this makes sense to me, but it's a bit gross. The y axis is all messed up, it should be showing time, not number of seconds. I'm also not sure if time goes forward up or down the page.\r\n",
    "\r\n",
    "It'd be good to work out a way of identifying sleep periods. Maybe that's a period that starts after 10pm that's offline for more than 4 hours?"
   ]
  },
  {
   "cell_type": "code",
   "execution_count": null,
   "metadata": {},
   "outputs": [],
   "source": [
    "# plt.rcParams[\"figure.figsize\"] = (30, 30)\r\n",
    "\r\n",
    "cut = 500\r\n",
    "labels = []\r\n",
    "odd_df = None\r\n",
    "\r\n",
    "fontP = FontProperties()\r\n",
    "fontP.set_size(\"x-small\")\r\n",
    "all_initials = []\r\n",
    "\r\n",
    "fig = plt.figure()\r\n",
    "ax = fig.add_subplot(111)\r\n",
    "for name, df in all_convo_df.groupby(\"sender_name\"):\r\n",
    "    if df.shape[0] > cut:\r\n",
    "        initials=df.initials.iloc[0]\r\n",
    "        label = f\"{name} ({initials}, {df.shape[0]})\"\r\n",
    "\r\n",
    "        if name == MY_NAME:\r\n",
    "            marker = \",\"\r\n",
    "            ax.scatter(\r\n",
    "                df.date,\r\n",
    "                df.seconds,\r\n",
    "                s=0.3,\r\n",
    "                alpha=0.3,\r\n",
    "                linewidth=0,\r\n",
    "                label=label,\r\n",
    "                marker=marker,\r\n",
    "            )\r\n",
    "        elif len(initials) > 0:\r\n",
    "            marker = f\"${initials}$\"\r\n",
    "            ax.scatter(\r\n",
    "                df.date,\r\n",
    "                df.seconds,\r\n",
    "                s=10 if len(initials) == 2 else 15,\r\n",
    "                alpha=0.2,\r\n",
    "                linewidth=0,\r\n",
    "                label=label,\r\n",
    "                marker=marker,\r\n",
    "            )\r\n",
    "        else:\r\n",
    "            # marker = \"1\"\r\n",
    "            # print(name, \"odd one\", df.content.head(10))\r\n",
    "            odd_df = df\r\n",
    "\r\n",
    "        labels.append(label)\r\n",
    "    else:\r\n",
    "        ax.scatter(\r\n",
    "            df.date,\r\n",
    "            df.seconds,\r\n",
    "            s=15,\r\n",
    "            alpha=0.1,\r\n",
    "            marker=\"x\",\r\n",
    "        )\r\n",
    "ax.yaxis_date()\r\n",
    "fig.autofmt_xdate()\r\n",
    "plt.title(\"all messages in and out\")\r\n",
    "plt.ylabel(\"seconds after midnight GMT\")\r\n",
    "leg = plt.legend(\r\n",
    "    title=f\"People with more than {cut} messages\",\r\n",
    "    bbox_to_anchor=(-0.1, -0.1),\r\n",
    "    # bbox_to_anchor=(1.05, 1),\r\n",
    "    loc=\"upper left\",\r\n",
    "    prop=fontP,\r\n",
    "    ncol=9,\r\n",
    "    markerscale=3,\r\n",
    ")\r\n",
    "for lh in leg.legendHandles:\r\n",
    "    lh.set_alpha(1)\r\n",
    "\r\n",
    "# plt.xlim([\"2012-01-01\", \"2021-05-01\"])\r\n",
    "\r\n",
    "plt.savefig(\"all_messages.svg\")\r\n",
    "# plt.show()\r\n",
    "# print(labels)\r\n"
   ]
  },
  {
   "cell_type": "markdown",
   "metadata": {},
   "source": [
    "plot = sns.lmplot(\r\n",
    "    x=\"date\",\r\n",
    "    y=\"seconds\",\r\n",
    "    data=all_convo_df[all_convo_df[\"chatty_people\"]],\r\n",
    "    # data=all_convo_df,\r\n",
    "    hue=\"sender_name\",\r\n",
    "    fit_reg=False,\r\n",
    "    legend=True,\r\n",
    "    palette=\"Set2\",\r\n",
    "    col=\"sender_name\",\r\n",
    "    col_wrap=4,\r\n",
    "    scatter_kws=dict(s=50, alpha=0.2),\r\n",
    ")\r\n"
   ]
  },
  {
   "cell_type": "code",
   "execution_count": null,
   "metadata": {},
   "outputs": [],
   "source": [
    "# sns.set(rc={\"figure.figsize\": (15, 15)})\r\n",
    "plot = sns.lmplot(\r\n",
    "    x=\"date\",\r\n",
    "    y=\"seconds\",\r\n",
    "    data=all_convo_df[all_convo_df.sender_name != MY_NAME],\r\n",
    "    hue=\"sender_name\",\r\n",
    "    markers=\"x\",\r\n",
    "    fit_reg=False,\r\n",
    "    legend=False,\r\n",
    "    palette=\"Set1\",\r\n",
    "    scatter_kws=dict(s=30, alpha=0.1),\r\n",
    "    height=20,\r\n",
    "    aspect=20 / 20,\r\n",
    ")\r\n",
    "# plt.xticks(rotation=45);\r\n",
    "plt.savefig(\"all_incoming.svg\")\r\n",
    "plt.savefig(\"all_incoming.png\")\r\n"
   ]
  },
  {
   "cell_type": "markdown",
   "metadata": {},
   "source": [
    "data = all_convo_df[all_convo_df.sender_name != MY_NAME]\r\n",
    "data = data[data.chatty_people]\r\n",
    "print(data.shape)\r\n",
    "data.sample(3)\r\n"
   ]
  },
  {
   "cell_type": "code",
   "execution_count": null,
   "metadata": {},
   "outputs": [],
   "source": [
    "sns.set(rc={\"figure.figsize\": (10, 10)})\r\n",
    "fig, ax = plt.subplots()\r\n",
    "g = sns.scatterplot(\r\n",
    "    x=\"date\",\r\n",
    "    y=\"seconds\",\r\n",
    "    data=data,\r\n",
    "    hue=\"sender_name\",\r\n",
    "    legend=False,\r\n",
    "    palette=\"Set1\",\r\n",
    "    s=30,\r\n",
    "    alpha=0.1,\r\n",
    "    ax=ax,\r\n",
    ")\r\n",
    "# g.legend(bbox_to_anchor=(1.5, 1))\r\n"
   ]
  },
  {
   "cell_type": "code",
   "execution_count": null,
   "metadata": {},
   "outputs": [],
   "source": [
    "def encircle(x, y, ax=None, **kw):\r\n",
    "    if not ax:\r\n",
    "        ax = plt.gca()\r\n",
    "    p = np.c_[x, y]\r\n",
    "    hull = ConvexHull(p)\r\n",
    "    poly = plt.Polygon(p[hull.vertices, :], **kw)\r\n",
    "    ax.add_patch(poly)\r\n",
    "\r\n",
    "\r\n",
    "fig, ax = plt.subplots()\r\n",
    "for x, d in data.groupby(\"sender_name\"):\r\n",
    "    if d.shape[0] > 4000:\r\n",
    "        m, b = np.polyfit(d.timestamp_ms, d.seconds, 1)\r\n",
    "        plt.plot(d.timestamp_ms, m * d.timestamp_ms + b)\r\n",
    "        col = plt.gca().lines[-1].get_color()\r\n",
    "        sc = ax.scatter(d.timestamp_ms, d.seconds, s=10, alpha=0.4, label=x, color=col)\r\n",
    "        encircle(d.timestamp_ms, d.seconds, ax=ax, ec=col, fc=\"none\")\r\n",
    "        plt.annotate(x, (d.timestamp_ms.mean(), d.seconds.mean()), size=10, color=col)\r\n",
    "\r\n",
    "plt.show()\r\n"
   ]
  },
  {
   "cell_type": "code",
   "execution_count": null,
   "metadata": {},
   "outputs": [],
   "source": [
    "bd_out_df = all_convo_df[all_convo_df.sender_name == MY_NAME]\r\n",
    "bd_out_df.set_index(\"datetime\").groupby(\r\n",
    "    pd.Grouper(freq=\"2M\")\r\n",
    ").count().sender_name.plot()\r\n",
    "plt.title(\"Messages sent per 2 Months\")\r\n"
   ]
  },
  {
   "cell_type": "code",
   "execution_count": null,
   "metadata": {},
   "outputs": [],
   "source": [
    "for name, df in all_convo_df.groupby(\"platform\"):\r\n",
    "    df.set_index(\"datetime\").groupby(pd.Grouper(freq=\"2M\")).count().sender_name.plot(\r\n",
    "        label=name\r\n",
    "    )\r\n",
    "plt.legend()\r\n",
    "plt.title(\"Messages sent per 2 Months\")\r\n"
   ]
  },
  {
   "cell_type": "code",
   "execution_count": null,
   "metadata": {},
   "outputs": [],
   "source": [
    "count_series = []\r\n",
    "for name, df in all_convo_df.groupby(\"platform\"):\r\n",
    "    count_series.append(\r\n",
    "        {\r\n",
    "            \"data\": df.set_index(\"datetime\")\r\n",
    "            .groupby(pd.Grouper(freq=\"2M\"))\r\n",
    "            .count()\r\n",
    "            .sender_name,\r\n",
    "            \"label\": name,\r\n",
    "        }\r\n",
    "    )\r\n",
    "pd.concat(\r\n",
    "    [d[\"data\"] for d in count_series], axis=1, keys=[d[\"label\"] for d in count_series]\r\n",
    ").plot.area()\r\n",
    "# plt.legend()\r\n",
    "plt.title(\"Messages sent per 2 Months\")\r\n"
   ]
  },
  {
   "cell_type": "code",
   "execution_count": null,
   "metadata": {},
   "outputs": [],
   "source": [
    "for name, df in all_convo_df.groupby(\"gender\"):\r\n",
    "    df.set_index(\"datetime\").groupby(pd.Grouper(freq=\"2M\")).count().sender_name.plot(\r\n",
    "        label=name\r\n",
    "    )\r\n",
    "plt.legend()\r\n",
    "plt.title(\"Messages sent per 2 Months\")\r\n"
   ]
  },
  {
   "cell_type": "code",
   "execution_count": null,
   "metadata": {},
   "outputs": [],
   "source": [
    "count_series = []\r\n",
    "for name, df in all_convo_df.groupby(\"gender\"):\r\n",
    "    count_series.append(\r\n",
    "        {\r\n",
    "            \"data\": df.set_index(\"datetime\")\r\n",
    "            .groupby(pd.Grouper(freq=\"2M\"))\r\n",
    "            .count()\r\n",
    "            .sender_name,\r\n",
    "            \"label\": name,\r\n",
    "        }\r\n",
    "    )\r\n",
    "pd.concat(\r\n",
    "    [d[\"data\"] for d in count_series], axis=1, keys=[d[\"label\"] for d in count_series]\r\n",
    ").plot.area()\r\n",
    "# plt.legend()\r\n",
    "plt.title(\"Messages sent per 2 Months\")\r\n"
   ]
  },
  {
   "cell_type": "code",
   "execution_count": null,
   "metadata": {},
   "outputs": [],
   "source": []
  },
  {
   "cell_type": "code",
   "execution_count": null,
   "metadata": {},
   "outputs": [],
   "source": [
    "fig, ax = plt.subplots()\r\n",
    "for x, d in all_convo_df.groupby(\"sender_name\"):\r\n",
    "    if d.shape[0] > 4000 and x != MY_NAME:\r\n",
    "        per_period = (\r\n",
    "            d.set_index(\"datetime\").groupby(pd.Grouper(freq=\"2m\")).count().sender_name\r\n",
    "        )\r\n",
    "        per_period.plot(label=x)\r\n",
    "        col = plt.gca().lines[-1].get_color()\r\n",
    "        plt.annotate(x, (per_period.idxmax(), per_period.max()), size=10, color=col)\r\n",
    "plt.legend()\r\n",
    "plt.title(\"Messages sent per 2 months\")\r\n"
   ]
  },
  {
   "cell_type": "code",
   "execution_count": null,
   "metadata": {},
   "outputs": [],
   "source": [
    "count_series = []\r\n",
    "freq = \"Q\"\r\n",
    "for name, df in all_convo_df.groupby(\"sender_name\"):\r\n",
    "    if df.shape[0] > 4000 and name != MY_NAME:\r\n",
    "        count_series.append(\r\n",
    "            {\r\n",
    "                \"data\": df.set_index(\"datetime\")\r\n",
    "                .groupby(pd.Grouper(freq=freq))\r\n",
    "                .count()\r\n",
    "                .sender_name,\r\n",
    "                \"label\": name,\r\n",
    "            }\r\n",
    "        )\r\n",
    "count_series.sort(key=lambda x: x[\"data\"].sum())\r\n",
    "res = pd.concat(\r\n",
    "    [d[\"data\"] for d in count_series], axis=1, keys=[d[\"label\"] for d in count_series]\r\n",
    ")\r\n",
    "res.plot.area()\r\n",
    "plt.title(f\"Messages sent per {freq}\")\r\n",
    "plt.ylabel(f\"Number of messages sent in that {freq}\")\r\n",
    "plt.xlim([\"2012-01-01\", \"2021-05-01\"])\r\n",
    "\r\n",
    "# Annotations\r\n",
    "running_total = 0\r\n",
    "for name, count in res.iloc[-2].iteritems():\r\n",
    "    try:\r\n",
    "        running_total = running_total + int(count)\r\n",
    "    except:\r\n",
    "        pass\r\n",
    "    if count > 200:\r\n",
    "        # print(name, count, type(count), running_total)\r\n",
    "        plt.annotate(\r\n",
    "            \"—\" + name, (res.index[-2], running_total - (count / 2)), fontsize=7\r\n",
    "        )\r\n",
    "\r\n",
    "plt.annotate(\"Irina Belova\", xy=(\"2015-07-01\", 3000), fontsize=7, ha=\"center\")\r\n",
    "plt.annotate(\"Charlie\", xy=(\"2017-04-01\", 2500), fontsize=7, ha=\"center\")\r\n",
    "plt.annotate(\"Julz\", xy=(\"2020-06-01\", 2800), fontsize=7, ha=\"center\")\r\n",
    "plt.annotate(\"David Wilcox\", xy=(\"2014-04-01\", 500), fontsize=7, ha=\"center\")\r\n"
   ]
  },
  {
   "cell_type": "markdown",
   "metadata": {},
   "source": [
    "The above graph is pretty interesing.\r\n",
    "\r\n",
    "Some notes: \r\n",
    "\r\n",
    "- It's aggregated by quarter because if done by month or number of months, it will start the aggregation by the first month that a person messaged. That means that some people will get aggregated in even months, others in odd. Strangely, most people are in one group, so it is super bumpy.\r\n",
    "- Annotating area charts is really dificult. There's not an obvious way to do it, so this method is a bit of a hack, but seems neat enough. It'd be good to add in some other annotations too."
   ]
  },
  {
   "cell_type": "code",
   "execution_count": null,
   "metadata": {},
   "outputs": [],
   "source": [
    "im = all_convo_df[\r\n",
    "    [x in [\"Meike Wijers\", \"Irina Belova\"] for x in all_convo_df.sender_name]\r\n",
    "]\r\n"
   ]
  },
  {
   "cell_type": "code",
   "execution_count": null,
   "metadata": {},
   "outputs": [],
   "source": [
    "trips = pd.read_csv(\"trips.csv\", parse_dates=[0, 1])\r\n",
    "trips[\"duration\"] = trips.to - trips[\"from\"]\r\n",
    "trips.head()\r\n"
   ]
  },
  {
   "cell_type": "code",
   "execution_count": null,
   "metadata": {},
   "outputs": [],
   "source": [
    "for x, d in im.groupby(\"sender_name\"):\r\n",
    "    per_period = (\r\n",
    "        d.set_index(\"datetime\").groupby(pd.Grouper(freq=\"w\")).count().sender_name\r\n",
    "    )\r\n",
    "    per_period.plot(label=x)\r\n",
    "    col = plt.gca().lines[-1].get_color()\r\n",
    "    plt.annotate(x, (per_period.idxmax(), per_period.max()), size=10, color=col)\r\n",
    "plt.legend()\r\n",
    "plt.title(\"Messages sent per week\")\r\n",
    "\r\n",
    "\r\n",
    "def time_window_annotate(start_date, end_date, y, text, size=7, facecolor=\"black\"):\r\n",
    "    plt.annotate(\r\n",
    "        text,\r\n",
    "        xy=(start_date + (end_date - start_date) / 2, y),\r\n",
    "        xycoords=\"data\",\r\n",
    "        ha=\"center\",\r\n",
    "        xytext=(0, -20),\r\n",
    "        textcoords=\"offset points\",\r\n",
    "        fontsize=size,\r\n",
    "    )\r\n",
    "    plt.annotate(\r\n",
    "        \"\",\r\n",
    "        xy=(end_date, y),\r\n",
    "        xytext=(start_date, y),\r\n",
    "        xycoords=\"data\",\r\n",
    "        textcoords=\"data\",\r\n",
    "        arrowprops={\"arrowstyle\": \"|-|,widthA=0.2,widthB=0.2\", \"color\": facecolor},\r\n",
    "    )\r\n",
    "\r\n",
    "\r\n",
    "plt.annotate(\r\n",
    "    \"Tiki\\nParty\",\r\n",
    "    fontsize=7,\r\n",
    "    xy=(\"2018-02-24\", 550),\r\n",
    "    xycoords=\"data\",\r\n",
    "    xytext=(10, 50),\r\n",
    "    textcoords=\"offset points\",\r\n",
    "    arrowprops=dict(arrowstyle=\"->\", connectionstyle=\"arc3,rad=-0.2\", color=\"k\"),\r\n",
    ")\r\n",
    "\r\n",
    "time_window_annotate(\"2019-07-30\", \"2021-07-01\", 100, \"Meike away\")\r\n",
    "time_window_annotate(\"2014-04-17\", \"2014-05-03\", 100, \"Anthea's\\nwedding\")\r\n",
    "time_window_annotate(\"2016-01-07\", \"2016-02-15\", 700, \"IB in Canada\\nalone\")\r\n",
    "for i, row in trips[trips.duration > datetime.timedelta(days=7)].iterrows():\r\n",
    "    time_window_annotate(\r\n",
    "        row[\"from\"], row.to, (100 + (i * 20)), f\"{row.city}\\n{row.purpose}\"\r\n",
    "    )\r\n"
   ]
  }
 ],
 "metadata": {
  "interpreter": {
   "hash": "0bc9a1eeff4ba10b0800c01e5b0b872b265b92561193d5706117af22821f4cc2"
  },
  "kernelspec": {
   "display_name": "Python 3.9.5 64-bit ('dp-env': venv)",
   "name": "python3"
  },
  "language_info": {
   "codemirror_mode": {
    "name": "ipython",
    "version": 3
   },
   "file_extension": ".py",
   "mimetype": "text/x-python",
   "name": "python",
   "nbconvert_exporter": "python",
   "pygments_lexer": "ipython3",
   "version": "3.9.5"
  }
 },
 "nbformat": 4,
 "nbformat_minor": 2
}
