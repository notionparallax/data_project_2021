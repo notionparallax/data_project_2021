{
 "cells": [
  {
   "cell_type": "code",
   "execution_count": null,
   "metadata": {},
   "outputs": [],
   "source": [
    "from pathlib import Path\r\n",
    "from scipy.optimize import curve_fit\r\n",
    "from scipy.spatial import ConvexHull\r\n",
    "import datetime\r\n",
    "import json\r\n",
    "import matplotlib as mpl\r\n",
    "import matplotlib.dates as mdates\r\n",
    "import matplotlib.pyplot as plt\r\n",
    "import numpy as np\r\n",
    "import os\r\n",
    "import pandas as pd\r\n",
    "import pickle\r\n",
    "import re\r\n",
    "import seaborn as sns\r\n",
    "import textwrap"
   ]
  },
  {
   "cell_type": "code",
   "execution_count": null,
   "metadata": {},
   "outputs": [],
   "source": [
    "conversation_dfs = []\r\n",
    "with open(\"skype_messages.json\", encoding=\"utf-8\") as sj:\r\n",
    "    sdict = json.load(sj)\r\n",
    "    # print(sdict[\"conversations\"][0])\r\n",
    "    for c in sdict[\"conversations\"]:\r\n",
    "        df = pd.DataFrame( c[\"MessageList\"])\r\n",
    "        conversation_dfs.append(df)\r\n",
    "\r\n",
    "all_df = pd.concat(conversation_dfs)\r\n",
    "all_df[\"datetime\"] = all_df.originalarrivaltime.apply(lambda dts: pd.Timestamp(dts)) \r\n",
    "all_df[\"message_length\"] = all_df.content.apply(lambda c: len(c)) \r\n",
    "all_df[\"machine_message\"] = all_df.content.apply(lambda c: c[0]in[\"<\",\"{\", \"[\"] if len(c) else True) \r\n",
    "\r\n",
    "all_df = all_df.set_index(\"datetime\")\r\n",
    "all_df.sample(10)"
   ]
  },
  {
   "cell_type": "code",
   "execution_count": null,
   "metadata": {},
   "outputs": [],
   "source": [
    "all_df.message_length.plot()\r\n",
    "plt.title(\"When were messages sent, and how long were they?\")\r\n",
    "plt.ylabel(\"Length of message in chars\")"
   ]
  },
  {
   "cell_type": "code",
   "execution_count": null,
   "metadata": {},
   "outputs": [],
   "source": [
    "all_df.displayName.value_counts()"
   ]
  },
  {
   "cell_type": "code",
   "execution_count": null,
   "metadata": {},
   "outputs": [],
   "source": [
    "all_df.machine_message.value_counts()\r\n"
   ]
  },
  {
   "cell_type": "code",
   "execution_count": null,
   "metadata": {},
   "outputs": [],
   "source": [
    "all_df[all_df.machine_message==False][[\"from\", \"content\"]]"
   ]
  },
  {
   "cell_type": "code",
   "execution_count": null,
   "metadata": {},
   "outputs": [],
   "source": [
    "all_df.loc[all_df.message_length.idxmax()].content"
   ]
  }
 ],
 "metadata": {
  "language_info": {
   "name": "python"
  }
 },
 "nbformat": 4,
 "nbformat_minor": 2
}
