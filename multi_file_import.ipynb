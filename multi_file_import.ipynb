{
 "cells": [
  {
   "cell_type": "code",
   "execution_count": null,
   "metadata": {},
   "outputs": [],
   "source": [
    "import pandas as pd\r\n",
    "import os\r\n",
    "import matplotlib.pyplot as plt"
   ]
  },
  {
   "cell_type": "code",
   "execution_count": null,
   "metadata": {},
   "outputs": [],
   "source": [
    "folder = \"lake_data\"\r\n",
    "all_dataframes = []\r\n",
    "for file_name in os.listdir(folder):\r\n",
    "    print(file_name)\r\n",
    "    df = pd.read_csv(os.path.join(folder, file_name), parse_dates=[0])\r\n",
    "    df.columns = [\r\n",
    "        \"dateTime\",\r\n",
    "        \"estuaryName\",\r\n",
    "        \"siteID\",\r\n",
    "        \"loggerID\",\r\n",
    "        \"sampleDepth\",\r\n",
    "        \"conductivity\",\r\n",
    "        \"temp\",\r\n",
    "        \"density\",\r\n",
    "    ]\r\n",
    "    df[\"source_file\"] = file_name\r\n",
    "    all_dataframes.append(df)"
   ]
  },
  {
   "cell_type": "code",
   "execution_count": null,
   "metadata": {},
   "outputs": [],
   "source": [
    "all_dataframes[0]"
   ]
  },
  {
   "cell_type": "code",
   "execution_count": null,
   "metadata": {},
   "outputs": [],
   "source": [
    "all_lakes_df = pd.concat(all_dataframes)\r\n",
    "all_lakes_df.sample(4)"
   ]
  },
  {
   "cell_type": "code",
   "execution_count": null,
   "metadata": {},
   "outputs": [],
   "source": [
    "type(df.dateTime[0])"
   ]
  },
  {
   "cell_type": "code",
   "execution_count": null,
   "metadata": {},
   "outputs": [],
   "source": [
    "all_lakes_df.set_index(\"dateTime\").temp.plot()\r\n",
    "all_lakes_df.set_index(\"dateTime\").density.plot()"
   ]
  },
  {
   "cell_type": "code",
   "execution_count": null,
   "metadata": {},
   "outputs": [],
   "source": [
    "for name, df in all_lakes_df.groupby(\"estuaryName\"):\r\n",
    "    print(name, df.shape)\r\n",
    "    df.set_index(\"dateTime\").temp.plot(label=f\"temp {name}\")\r\n",
    "    df.set_index(\"dateTime\").density.plot(label=f\"density {name}\")\r\n",
    "plt.legend()"
   ]
  }
 ],
 "metadata": {
  "interpreter": {
   "hash": "0bc9a1eeff4ba10b0800c01e5b0b872b265b92561193d5706117af22821f4cc2"
  },
  "kernelspec": {
   "display_name": "Python 3.9.5 64-bit ('dp-env': venv)",
   "name": "python3"
  },
  "language_info": {
   "codemirror_mode": {
    "name": "ipython",
    "version": 3
   },
   "file_extension": ".py",
   "mimetype": "text/x-python",
   "name": "python",
   "nbconvert_exporter": "python",
   "pygments_lexer": "ipython3",
   "version": "3.9.5"
  }
 },
 "nbformat": 4,
 "nbformat_minor": 2
}
