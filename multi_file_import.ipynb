{
 "cells": [
  {
   "cell_type": "code",
   "execution_count": 36,
   "metadata": {},
   "outputs": [],
   "source": [
    "import pandas as pd\r\n",
    "import os\r\n",
    "import matplotlib.pyplot as plt"
   ]
  },
  {
   "cell_type": "code",
   "execution_count": 25,
   "metadata": {},
   "outputs": [
    {
     "name": "stdout",
     "output_type": "stream",
     "text": [
      "LC_Bushfire_Water_Quality_Data.csv\n",
      "ML_Bushfire_Water_Quality_Data.csv\n"
     ]
    }
   ],
   "source": [
    "folder = \"lake_data\"\r\n",
    "all_dataframes = []\r\n",
    "for file_name in os.listdir(folder):\r\n",
    "    print(file_name)\r\n",
    "    df = pd.read_csv(os.path.join(folder, file_name), parse_dates=[0])\r\n",
    "    df.columns = [\r\n",
    "        \"dateTime\",\r\n",
    "        \"estuaryName\",\r\n",
    "        \"siteID\",\r\n",
    "        \"loggerID\",\r\n",
    "        \"sampleDepth\",\r\n",
    "        \"conductivity\",\r\n",
    "        \"temp\",\r\n",
    "        \"density\",\r\n",
    "    ]\r\n",
    "    df[\"source_file\"] = file_name\r\n",
    "    all_dataframes.append(df)"
   ]
  },
  {
   "cell_type": "code",
   "execution_count": 27,
   "metadata": {},
   "outputs": [
    {
     "data": {
      "text/html": [
       "<div>\n",
       "<style scoped>\n",
       "    .dataframe tbody tr th:only-of-type {\n",
       "        vertical-align: middle;\n",
       "    }\n",
       "\n",
       "    .dataframe tbody tr th {\n",
       "        vertical-align: top;\n",
       "    }\n",
       "\n",
       "    .dataframe thead th {\n",
       "        text-align: right;\n",
       "    }\n",
       "</style>\n",
       "<table border=\"1\" class=\"dataframe\">\n",
       "  <thead>\n",
       "    <tr style=\"text-align: right;\">\n",
       "      <th></th>\n",
       "      <th>dateTime</th>\n",
       "      <th>estuaryName</th>\n",
       "      <th>siteID</th>\n",
       "      <th>loggerID</th>\n",
       "      <th>sampleDepth</th>\n",
       "      <th>conductivity</th>\n",
       "      <th>temp</th>\n",
       "      <th>density</th>\n",
       "      <th>source_file</th>\n",
       "    </tr>\n",
       "  </thead>\n",
       "  <tbody>\n",
       "    <tr>\n",
       "      <th>0</th>\n",
       "      <td>2020-01-20 12:30:00</td>\n",
       "      <td>Lake Conjola</td>\n",
       "      <td>CON1</td>\n",
       "      <td>CON1-Surface</td>\n",
       "      <td>0.5</td>\n",
       "      <td>35444.2</td>\n",
       "      <td>24.95</td>\n",
       "      <td>7.23</td>\n",
       "      <td>LC_Bushfire_Water_Quality_Data.csv</td>\n",
       "    </tr>\n",
       "    <tr>\n",
       "      <th>1</th>\n",
       "      <td>2020-01-20 12:45:00</td>\n",
       "      <td>Lake Conjola</td>\n",
       "      <td>CON1</td>\n",
       "      <td>CON1-Surface</td>\n",
       "      <td>0.5</td>\n",
       "      <td>34664.3</td>\n",
       "      <td>25.01</td>\n",
       "      <td>7.64</td>\n",
       "      <td>LC_Bushfire_Water_Quality_Data.csv</td>\n",
       "    </tr>\n",
       "    <tr>\n",
       "      <th>2</th>\n",
       "      <td>2020-01-20 13:00:00</td>\n",
       "      <td>Lake Conjola</td>\n",
       "      <td>CON1</td>\n",
       "      <td>CON1-Surface</td>\n",
       "      <td>0.5</td>\n",
       "      <td>34318.8</td>\n",
       "      <td>25.03</td>\n",
       "      <td>7.66</td>\n",
       "      <td>LC_Bushfire_Water_Quality_Data.csv</td>\n",
       "    </tr>\n",
       "    <tr>\n",
       "      <th>3</th>\n",
       "      <td>2020-01-20 13:15:00</td>\n",
       "      <td>Lake Conjola</td>\n",
       "      <td>CON1</td>\n",
       "      <td>CON1-Surface</td>\n",
       "      <td>0.5</td>\n",
       "      <td>34164.1</td>\n",
       "      <td>25.06</td>\n",
       "      <td>7.66</td>\n",
       "      <td>LC_Bushfire_Water_Quality_Data.csv</td>\n",
       "    </tr>\n",
       "    <tr>\n",
       "      <th>4</th>\n",
       "      <td>2020-01-20 13:30:00</td>\n",
       "      <td>Lake Conjola</td>\n",
       "      <td>CON1</td>\n",
       "      <td>CON1-Surface</td>\n",
       "      <td>0.5</td>\n",
       "      <td>34044.5</td>\n",
       "      <td>25.04</td>\n",
       "      <td>7.67</td>\n",
       "      <td>LC_Bushfire_Water_Quality_Data.csv</td>\n",
       "    </tr>\n",
       "    <tr>\n",
       "      <th>...</th>\n",
       "      <td>...</td>\n",
       "      <td>...</td>\n",
       "      <td>...</td>\n",
       "      <td>...</td>\n",
       "      <td>...</td>\n",
       "      <td>...</td>\n",
       "      <td>...</td>\n",
       "      <td>...</td>\n",
       "      <td>...</td>\n",
       "    </tr>\n",
       "    <tr>\n",
       "      <th>2682</th>\n",
       "      <td>2020-02-17 11:00:00</td>\n",
       "      <td>Lake Conjola</td>\n",
       "      <td>CON1</td>\n",
       "      <td>CON1-Surface</td>\n",
       "      <td>0.5</td>\n",
       "      <td>529.2</td>\n",
       "      <td>24.76</td>\n",
       "      <td>4.08</td>\n",
       "      <td>LC_Bushfire_Water_Quality_Data.csv</td>\n",
       "    </tr>\n",
       "    <tr>\n",
       "      <th>2683</th>\n",
       "      <td>2020-02-17 11:15:00</td>\n",
       "      <td>Lake Conjola</td>\n",
       "      <td>CON1</td>\n",
       "      <td>CON1-Surface</td>\n",
       "      <td>0.5</td>\n",
       "      <td>528.3</td>\n",
       "      <td>24.75</td>\n",
       "      <td>3.86</td>\n",
       "      <td>LC_Bushfire_Water_Quality_Data.csv</td>\n",
       "    </tr>\n",
       "    <tr>\n",
       "      <th>2684</th>\n",
       "      <td>2020-02-17 11:30:00</td>\n",
       "      <td>Lake Conjola</td>\n",
       "      <td>CON1</td>\n",
       "      <td>CON1-Surface</td>\n",
       "      <td>0.5</td>\n",
       "      <td>527.9</td>\n",
       "      <td>24.74</td>\n",
       "      <td>4.03</td>\n",
       "      <td>LC_Bushfire_Water_Quality_Data.csv</td>\n",
       "    </tr>\n",
       "    <tr>\n",
       "      <th>2685</th>\n",
       "      <td>2020-02-17 11:45:00</td>\n",
       "      <td>Lake Conjola</td>\n",
       "      <td>CON1</td>\n",
       "      <td>CON1-Surface</td>\n",
       "      <td>0.5</td>\n",
       "      <td>526.9</td>\n",
       "      <td>24.76</td>\n",
       "      <td>4.14</td>\n",
       "      <td>LC_Bushfire_Water_Quality_Data.csv</td>\n",
       "    </tr>\n",
       "    <tr>\n",
       "      <th>2686</th>\n",
       "      <td>2020-02-17 12:00:00</td>\n",
       "      <td>Lake Conjola</td>\n",
       "      <td>CON1</td>\n",
       "      <td>CON1-Surface</td>\n",
       "      <td>0.5</td>\n",
       "      <td>526.0</td>\n",
       "      <td>24.76</td>\n",
       "      <td>4.14</td>\n",
       "      <td>LC_Bushfire_Water_Quality_Data.csv</td>\n",
       "    </tr>\n",
       "  </tbody>\n",
       "</table>\n",
       "<p>2687 rows × 9 columns</p>\n",
       "</div>"
      ],
      "text/plain": [
       "                dateTime   estuaryName siteID      loggerID  sampleDepth  \\\n",
       "0    2020-01-20 12:30:00  Lake Conjola   CON1  CON1-Surface          0.5   \n",
       "1    2020-01-20 12:45:00  Lake Conjola   CON1  CON1-Surface          0.5   \n",
       "2    2020-01-20 13:00:00  Lake Conjola   CON1  CON1-Surface          0.5   \n",
       "3    2020-01-20 13:15:00  Lake Conjola   CON1  CON1-Surface          0.5   \n",
       "4    2020-01-20 13:30:00  Lake Conjola   CON1  CON1-Surface          0.5   \n",
       "...                  ...           ...    ...           ...          ...   \n",
       "2682 2020-02-17 11:00:00  Lake Conjola   CON1  CON1-Surface          0.5   \n",
       "2683 2020-02-17 11:15:00  Lake Conjola   CON1  CON1-Surface          0.5   \n",
       "2684 2020-02-17 11:30:00  Lake Conjola   CON1  CON1-Surface          0.5   \n",
       "2685 2020-02-17 11:45:00  Lake Conjola   CON1  CON1-Surface          0.5   \n",
       "2686 2020-02-17 12:00:00  Lake Conjola   CON1  CON1-Surface          0.5   \n",
       "\n",
       "      conductivity   temp  density                         source_file  \n",
       "0          35444.2  24.95     7.23  LC_Bushfire_Water_Quality_Data.csv  \n",
       "1          34664.3  25.01     7.64  LC_Bushfire_Water_Quality_Data.csv  \n",
       "2          34318.8  25.03     7.66  LC_Bushfire_Water_Quality_Data.csv  \n",
       "3          34164.1  25.06     7.66  LC_Bushfire_Water_Quality_Data.csv  \n",
       "4          34044.5  25.04     7.67  LC_Bushfire_Water_Quality_Data.csv  \n",
       "...            ...    ...      ...                                 ...  \n",
       "2682         529.2  24.76     4.08  LC_Bushfire_Water_Quality_Data.csv  \n",
       "2683         528.3  24.75     3.86  LC_Bushfire_Water_Quality_Data.csv  \n",
       "2684         527.9  24.74     4.03  LC_Bushfire_Water_Quality_Data.csv  \n",
       "2685         526.9  24.76     4.14  LC_Bushfire_Water_Quality_Data.csv  \n",
       "2686         526.0  24.76     4.14  LC_Bushfire_Water_Quality_Data.csv  \n",
       "\n",
       "[2687 rows x 9 columns]"
      ]
     },
     "execution_count": 27,
     "metadata": {},
     "output_type": "execute_result"
    }
   ],
   "source": [
    "all_dataframes[0]"
   ]
  },
  {
   "cell_type": "code",
   "execution_count": 29,
   "metadata": {},
   "outputs": [
    {
     "data": {
      "text/html": [
       "<div>\n",
       "<style scoped>\n",
       "    .dataframe tbody tr th:only-of-type {\n",
       "        vertical-align: middle;\n",
       "    }\n",
       "\n",
       "    .dataframe tbody tr th {\n",
       "        vertical-align: top;\n",
       "    }\n",
       "\n",
       "    .dataframe thead th {\n",
       "        text-align: right;\n",
       "    }\n",
       "</style>\n",
       "<table border=\"1\" class=\"dataframe\">\n",
       "  <thead>\n",
       "    <tr style=\"text-align: right;\">\n",
       "      <th></th>\n",
       "      <th>dateTime</th>\n",
       "      <th>estuaryName</th>\n",
       "      <th>siteID</th>\n",
       "      <th>loggerID</th>\n",
       "      <th>sampleDepth</th>\n",
       "      <th>conductivity</th>\n",
       "      <th>temp</th>\n",
       "      <th>density</th>\n",
       "      <th>source_file</th>\n",
       "    </tr>\n",
       "  </thead>\n",
       "  <tbody>\n",
       "    <tr>\n",
       "      <th>765</th>\n",
       "      <td>2020-01-29 16:15:00</td>\n",
       "      <td>Meroo Lake</td>\n",
       "      <td>MER1</td>\n",
       "      <td>MER1-Surface</td>\n",
       "      <td>0.5</td>\n",
       "      <td>NaN</td>\n",
       "      <td>29.30</td>\n",
       "      <td>5.52</td>\n",
       "      <td>ML_Bushfire_Water_Quality_Data.csv</td>\n",
       "    </tr>\n",
       "    <tr>\n",
       "      <th>1762</th>\n",
       "      <td>2020-09-02 01:30:00</td>\n",
       "      <td>Meroo Lake</td>\n",
       "      <td>MER1</td>\n",
       "      <td>MER1-Surface</td>\n",
       "      <td>0.5</td>\n",
       "      <td>NaN</td>\n",
       "      <td>22.34</td>\n",
       "      <td>6.87</td>\n",
       "      <td>ML_Bushfire_Water_Quality_Data.csv</td>\n",
       "    </tr>\n",
       "    <tr>\n",
       "      <th>1778</th>\n",
       "      <td>2020-09-02 05:30:00</td>\n",
       "      <td>Meroo Lake</td>\n",
       "      <td>MER1</td>\n",
       "      <td>MER1-Surface</td>\n",
       "      <td>0.5</td>\n",
       "      <td>NaN</td>\n",
       "      <td>21.32</td>\n",
       "      <td>7.06</td>\n",
       "      <td>ML_Bushfire_Water_Quality_Data.csv</td>\n",
       "    </tr>\n",
       "    <tr>\n",
       "      <th>881</th>\n",
       "      <td>2020-01-29 16:45:00</td>\n",
       "      <td>Lake Conjola</td>\n",
       "      <td>CON1</td>\n",
       "      <td>CON1-Surface</td>\n",
       "      <td>0.5</td>\n",
       "      <td>33913.6</td>\n",
       "      <td>27.72</td>\n",
       "      <td>8.23</td>\n",
       "      <td>LC_Bushfire_Water_Quality_Data.csv</td>\n",
       "    </tr>\n",
       "  </tbody>\n",
       "</table>\n",
       "</div>"
      ],
      "text/plain": [
       "                dateTime   estuaryName siteID      loggerID  sampleDepth  \\\n",
       "765  2020-01-29 16:15:00    Meroo Lake   MER1  MER1-Surface          0.5   \n",
       "1762 2020-09-02 01:30:00    Meroo Lake   MER1  MER1-Surface          0.5   \n",
       "1778 2020-09-02 05:30:00    Meroo Lake   MER1  MER1-Surface          0.5   \n",
       "881  2020-01-29 16:45:00  Lake Conjola   CON1  CON1-Surface          0.5   \n",
       "\n",
       "      conductivity   temp  density                         source_file  \n",
       "765            NaN  29.30     5.52  ML_Bushfire_Water_Quality_Data.csv  \n",
       "1762           NaN  22.34     6.87  ML_Bushfire_Water_Quality_Data.csv  \n",
       "1778           NaN  21.32     7.06  ML_Bushfire_Water_Quality_Data.csv  \n",
       "881        33913.6  27.72     8.23  LC_Bushfire_Water_Quality_Data.csv  "
      ]
     },
     "execution_count": 29,
     "metadata": {},
     "output_type": "execute_result"
    }
   ],
   "source": [
    "all_lakes_df = pd.concat(all_dataframes)\r\n",
    "all_lakes_df.sample(4)"
   ]
  },
  {
   "cell_type": "code",
   "execution_count": 12,
   "metadata": {},
   "outputs": [
    {
     "data": {
      "text/plain": [
       "pandas._libs.tslibs.timestamps.Timestamp"
      ]
     },
     "execution_count": 12,
     "metadata": {},
     "output_type": "execute_result"
    }
   ],
   "source": [
    "type(df.dateTime[0])"
   ]
  },
  {
   "cell_type": "code",
   "execution_count": 30,
   "metadata": {},
   "outputs": [
    {
     "data": {
      "text/plain": [
       "<AxesSubplot:xlabel='dateTime'>"
      ]
     },
     "execution_count": 30,
     "metadata": {},
     "output_type": "execute_result"
    },
    {
     "data": {
      "image/png": "[encoded data removed]",
      "text/plain": [
       "<Figure size 432x288 with 1 Axes>"
      ]
     },
     "metadata": {
      "needs_background": "light"
     },
     "output_type": "display_data"
    }
   ],
   "source": [
    "all_lakes_df.set_index(\"dateTime\").temp.plot()\r\n",
    "all_lakes_df.set_index(\"dateTime\").density.plot()"
   ]
  },
  {
   "cell_type": "code",
   "execution_count": 37,
   "metadata": {},
   "outputs": [
    {
     "name": "stdout",
     "output_type": "stream",
     "text": [
      "Lake Conjola (2687, 9)\n",
      "Meroo Lake (2581, 9)\n"
     ]
    },
    {
     "data": {
      "text/plain": [
       "<matplotlib.legend.Legend at 0x1a587a656a0>"
      ]
     },
     "execution_count": 37,
     "metadata": {},
     "output_type": "execute_result"
    },
    {
     "data": {
      "image/png": "[encoded data removed]",
      "text/plain": [
       "<Figure size 432x288 with 1 Axes>"
      ]
     },
     "metadata": {
      "needs_background": "light"
     },
     "output_type": "display_data"
    }
   ],
   "source": [
    "for name, df in all_lakes_df.groupby(\"estuaryName\"):\r\n",
    "    print(name, df.shape)\r\n",
    "    df.set_index(\"dateTime\").temp.plot(label=f\"temp {name}\")\r\n",
    "    df.set_index(\"dateTime\").density.plot(label=f\"density {name}\")\r\n",
    "plt.legend()"
   ]
  }
 ],
 "metadata": {
  "interpreter": {
   "hash": "0bc9a1eeff4ba10b0800c01e5b0b872b265b92561193d5706117af22821f4cc2"
  },
  "kernelspec": {
   "display_name": "Python 3.9.5 64-bit ('dp-env': venv)",
   "name": "python3"
  },
  "language_info": {
   "codemirror_mode": {
    "name": "ipython",
    "version": 3
   },
   "file_extension": ".py",
   "mimetype": "text/x-python",
   "name": "python",
   "nbconvert_exporter": "python",
   "pygments_lexer": "ipython3",
   "version": "3.9.5"
  },
  "orig_nbformat": 4
 },
 "nbformat": 4,
 "nbformat_minor": 2
}